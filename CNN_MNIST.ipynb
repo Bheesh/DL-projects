{
  "nbformat": 4,
  "nbformat_minor": 0,
  "metadata": {
    "colab": {
      "name": "CNN_MNIST.ipynb",
      "version": "0.3.2",
      "provenance": [],
      "collapsed_sections": []
    },
    "kernelspec": {
      "name": "python3",
      "display_name": "Python 3"
    },
    "accelerator": "TPU"
  },
  "cells": [
    {
      "metadata": {
        "id": "H9EU0e8yzFOm",
        "colab_type": "code",
        "outputId": "10169e75-07bc-496b-e433-25fcd755dfc8",
        "colab": {
          "base_uri": "https://localhost:8080/",
          "height": 121
        }
      },
      "cell_type": "code",
      "source": [
        "# Credits: https://github.com/keras-team/keras/blob/master/examples/mnist_cnn.py\n",
        "\n",
        "\n",
        "from __future__ import print_function\n",
        "import keras\n",
        "from keras.datasets import mnist\n",
        "from keras.models import Sequential\n",
        "from keras.layers import Dense, Dropout, Flatten\n",
        "from keras.layers import Conv2D, MaxPooling2D\n",
        "from keras import backend as K\n",
        "\n",
        "batch_size = 128\n",
        "num_classes = 10\n",
        "epochs = 30\n",
        "\n",
        "# input image dimensions\n",
        "img_rows, img_cols = 28, 28\n",
        "\n",
        "# the data, split between train and test sets\n",
        "(x_train, y_train), (x_test, y_test) = mnist.load_data()\n",
        "\n",
        "if K.image_data_format() == 'channels_first':\n",
        "    x_train = x_train.reshape(x_train.shape[0], 1, img_rows, img_cols)\n",
        "    x_test = x_test.reshape(x_test.shape[0], 1, img_rows, img_cols)\n",
        "    input_shape = (1, img_rows, img_cols)\n",
        "else:\n",
        "    x_train = x_train.reshape(x_train.shape[0], img_rows, img_cols, 1)\n",
        "    x_test = x_test.reshape(x_test.shape[0], img_rows, img_cols, 1)\n",
        "    input_shape = (img_rows, img_cols, 1)\n",
        "\n",
        "x_train = x_train.astype('float32')\n",
        "x_test = x_test.astype('float32')\n",
        "x_train /= 255\n",
        "x_test /= 255\n",
        "print('x_train shape:', x_train.shape)\n",
        "print(x_train.shape[0], 'train samples')\n",
        "print(x_test.shape[0], 'test samples')\n",
        "\n",
        "# convert class vectors to binary class matrices\n",
        "y_train = keras.utils.to_categorical(y_train, num_classes)\n",
        "y_test = keras.utils.to_categorical(y_test, num_classes)\n",
        "\n"
      ],
      "execution_count": 1,
      "outputs": [
        {
          "output_type": "stream",
          "text": [
            "Using TensorFlow backend.\n"
          ],
          "name": "stderr"
        },
        {
          "output_type": "stream",
          "text": [
            "Downloading data from https://s3.amazonaws.com/img-datasets/mnist.npz\n",
            "11493376/11490434 [==============================] - 0s 0us/step\n",
            "x_train shape: (60000, 28, 28, 1)\n",
            "60000 train samples\n",
            "10000 test samples\n"
          ],
          "name": "stdout"
        }
      ]
    },
    {
      "metadata": {
        "id": "FJgauBKbJdzU",
        "colab_type": "code",
        "colab": {
          "base_uri": "https://localhost:8080/",
          "height": 1664
        },
        "outputId": "440030ca-657b-442c-a0ab-b8da7249f0c2"
      },
      "cell_type": "code",
      "source": [
        "model = Sequential()\n",
        "model.add(Conv2D(32, kernel_size=(3, 3),\n",
        "                 activation='relu',\n",
        "                 input_shape=input_shape))\n",
        "model.add(Conv2D(64, (3, 3), activation='relu'))\n",
        "model.add(MaxPooling2D(pool_size=(2, 2)))\n",
        "model.add(Dropout(0.25))\n",
        "model.add(Flatten())\n",
        "model.add(Dense(128, activation='relu'))\n",
        "model.add(Dropout(0.5))\n",
        "model.add(Dense(num_classes, activation='softmax'))\n",
        "model.summary()\n",
        "\n",
        "model.compile(loss=keras.losses.categorical_crossentropy,\n",
        "              optimizer=keras.optimizers.Adadelta(),\n",
        "              metrics=['accuracy'])\n",
        "\n",
        "history=model.fit(x_train, y_train,\n",
        "          batch_size=batch_size,\n",
        "          epochs=epochs,\n",
        "          verbose=1,\n",
        "          validation_data=(x_test, y_test))\n",
        "score = model.evaluate(x_test, y_test, verbose=0)\n",
        "print('Test loss:', score[0])\n",
        "print('Test accuracy:', score[1])"
      ],
      "execution_count": 2,
      "outputs": [
        {
          "output_type": "stream",
          "text": [
            "WARNING:tensorflow:From /usr/local/lib/python3.6/dist-packages/tensorflow/python/framework/op_def_library.py:263: colocate_with (from tensorflow.python.framework.ops) is deprecated and will be removed in a future version.\n",
            "Instructions for updating:\n",
            "Colocations handled automatically by placer.\n",
            "WARNING:tensorflow:From /usr/local/lib/python3.6/dist-packages/keras/backend/tensorflow_backend.py:3445: calling dropout (from tensorflow.python.ops.nn_ops) with keep_prob is deprecated and will be removed in a future version.\n",
            "Instructions for updating:\n",
            "Please use `rate` instead of `keep_prob`. Rate should be set to `rate = 1 - keep_prob`.\n",
            "_________________________________________________________________\n",
            "Layer (type)                 Output Shape              Param #   \n",
            "=================================================================\n",
            "conv2d_1 (Conv2D)            (None, 26, 26, 32)        320       \n",
            "_________________________________________________________________\n",
            "conv2d_2 (Conv2D)            (None, 24, 24, 64)        18496     \n",
            "_________________________________________________________________\n",
            "max_pooling2d_1 (MaxPooling2 (None, 12, 12, 64)        0         \n",
            "_________________________________________________________________\n",
            "dropout_1 (Dropout)          (None, 12, 12, 64)        0         \n",
            "_________________________________________________________________\n",
            "flatten_1 (Flatten)          (None, 9216)              0         \n",
            "_________________________________________________________________\n",
            "dense_1 (Dense)              (None, 128)               1179776   \n",
            "_________________________________________________________________\n",
            "dropout_2 (Dropout)          (None, 128)               0         \n",
            "_________________________________________________________________\n",
            "dense_2 (Dense)              (None, 10)                1290      \n",
            "=================================================================\n",
            "Total params: 1,199,882\n",
            "Trainable params: 1,199,882\n",
            "Non-trainable params: 0\n",
            "_________________________________________________________________\n",
            "WARNING:tensorflow:From /usr/local/lib/python3.6/dist-packages/tensorflow/python/ops/math_ops.py:3066: to_int32 (from tensorflow.python.ops.math_ops) is deprecated and will be removed in a future version.\n",
            "Instructions for updating:\n",
            "Use tf.cast instead.\n",
            "Train on 60000 samples, validate on 10000 samples\n",
            "Epoch 1/30\n",
            "60000/60000 [==============================] - 177s 3ms/step - loss: 0.2760 - acc: 0.9149 - val_loss: 0.0581 - val_acc: 0.9801\n",
            "Epoch 2/30\n",
            "60000/60000 [==============================] - 178s 3ms/step - loss: 0.0910 - acc: 0.9732 - val_loss: 0.0417 - val_acc: 0.9862\n",
            "Epoch 3/30\n",
            "60000/60000 [==============================] - 177s 3ms/step - loss: 0.0659 - acc: 0.9810 - val_loss: 0.0350 - val_acc: 0.9883\n",
            "Epoch 4/30\n",
            "60000/60000 [==============================] - 179s 3ms/step - loss: 0.0560 - acc: 0.9831 - val_loss: 0.0373 - val_acc: 0.9872\n",
            "Epoch 5/30\n",
            "60000/60000 [==============================] - 177s 3ms/step - loss: 0.0467 - acc: 0.9852 - val_loss: 0.0301 - val_acc: 0.9904\n",
            "Epoch 6/30\n",
            "60000/60000 [==============================] - 177s 3ms/step - loss: 0.0409 - acc: 0.9877 - val_loss: 0.0297 - val_acc: 0.9901\n",
            "Epoch 7/30\n",
            "60000/60000 [==============================] - 177s 3ms/step - loss: 0.0364 - acc: 0.9886 - val_loss: 0.0251 - val_acc: 0.9913\n",
            "Epoch 8/30\n",
            "60000/60000 [==============================] - 178s 3ms/step - loss: 0.0347 - acc: 0.9893 - val_loss: 0.0272 - val_acc: 0.9914\n",
            "Epoch 9/30\n",
            "60000/60000 [==============================] - 178s 3ms/step - loss: 0.0327 - acc: 0.9904 - val_loss: 0.0265 - val_acc: 0.9922\n",
            "Epoch 10/30\n",
            "60000/60000 [==============================] - 178s 3ms/step - loss: 0.0279 - acc: 0.9911 - val_loss: 0.0267 - val_acc: 0.9910\n",
            "Epoch 11/30\n",
            "60000/60000 [==============================] - 178s 3ms/step - loss: 0.0284 - acc: 0.9914 - val_loss: 0.0278 - val_acc: 0.9921\n",
            "Epoch 12/30\n",
            "60000/60000 [==============================] - 178s 3ms/step - loss: 0.0259 - acc: 0.9925 - val_loss: 0.0260 - val_acc: 0.9919\n",
            "Epoch 13/30\n",
            "60000/60000 [==============================] - 180s 3ms/step - loss: 0.0235 - acc: 0.9927 - val_loss: 0.0275 - val_acc: 0.9921\n",
            "Epoch 14/30\n",
            "60000/60000 [==============================] - 178s 3ms/step - loss: 0.0237 - acc: 0.9927 - val_loss: 0.0279 - val_acc: 0.9912\n",
            "Epoch 15/30\n",
            "60000/60000 [==============================] - 181s 3ms/step - loss: 0.0227 - acc: 0.9933 - val_loss: 0.0298 - val_acc: 0.9910\n",
            "Epoch 16/30\n",
            "60000/60000 [==============================] - 175s 3ms/step - loss: 0.0218 - acc: 0.9931 - val_loss: 0.0263 - val_acc: 0.9917\n",
            "Epoch 17/30\n",
            "60000/60000 [==============================] - 174s 3ms/step - loss: 0.0210 - acc: 0.9934 - val_loss: 0.0314 - val_acc: 0.9908\n",
            "Epoch 18/30\n",
            "60000/60000 [==============================] - 174s 3ms/step - loss: 0.0201 - acc: 0.9937 - val_loss: 0.0279 - val_acc: 0.9926\n",
            "Epoch 19/30\n",
            "60000/60000 [==============================] - 174s 3ms/step - loss: 0.0198 - acc: 0.9941 - val_loss: 0.0271 - val_acc: 0.9927\n",
            "Epoch 20/30\n",
            "60000/60000 [==============================] - 174s 3ms/step - loss: 0.0186 - acc: 0.9943 - val_loss: 0.0308 - val_acc: 0.9913\n",
            "Epoch 21/30\n",
            "60000/60000 [==============================] - 174s 3ms/step - loss: 0.0179 - acc: 0.9945 - val_loss: 0.0290 - val_acc: 0.9924\n",
            "Epoch 22/30\n",
            "60000/60000 [==============================] - 173s 3ms/step - loss: 0.0169 - acc: 0.9946 - val_loss: 0.0309 - val_acc: 0.9919\n",
            "Epoch 23/30\n",
            "60000/60000 [==============================] - 173s 3ms/step - loss: 0.0167 - acc: 0.9949 - val_loss: 0.0266 - val_acc: 0.9916\n",
            "Epoch 24/30\n",
            "60000/60000 [==============================] - 173s 3ms/step - loss: 0.0171 - acc: 0.9945 - val_loss: 0.0280 - val_acc: 0.9918\n",
            "Epoch 25/30\n",
            "60000/60000 [==============================] - 174s 3ms/step - loss: 0.0154 - acc: 0.9949 - val_loss: 0.0306 - val_acc: 0.9923\n",
            "Epoch 26/30\n",
            "60000/60000 [==============================] - 173s 3ms/step - loss: 0.0164 - acc: 0.9948 - val_loss: 0.0319 - val_acc: 0.9921\n",
            "Epoch 27/30\n",
            "60000/60000 [==============================] - 175s 3ms/step - loss: 0.0154 - acc: 0.9948 - val_loss: 0.0336 - val_acc: 0.9913\n",
            "Epoch 28/30\n",
            "60000/60000 [==============================] - 174s 3ms/step - loss: 0.0152 - acc: 0.9951 - val_loss: 0.0351 - val_acc: 0.9915\n",
            "Epoch 29/30\n",
            "60000/60000 [==============================] - 174s 3ms/step - loss: 0.0145 - acc: 0.9953 - val_loss: 0.0298 - val_acc: 0.9920\n",
            "Epoch 30/30\n",
            "60000/60000 [==============================] - 175s 3ms/step - loss: 0.0141 - acc: 0.9956 - val_loss: 0.0353 - val_acc: 0.9911\n",
            "Test loss: 0.03531321390703681\n",
            "Test accuracy: 0.9911\n"
          ],
          "name": "stdout"
        }
      ]
    },
    {
      "metadata": {
        "id": "hVctd3HiR9CO",
        "colab_type": "code",
        "colab": {}
      },
      "cell_type": "code",
      "source": [
        "%matplotlib notebook\n",
        "%matplotlib inline\n",
        "import matplotlib.pyplot as plt\n",
        "#plt.switch_backend(\"TkAgg\")\n",
        "#sudo yum install tcl tcl-devel tk tk-devel agg agg-devel\n",
        "#sudo apt-get install tk-dev libpng-dev libffi-dev dvipng texlive-latex-base\n",
        "import numpy as np\n",
        "import time\n",
        "# https://gist.github.com/greydanus/f6eee59eaf1d90fcb3b534a25362cea4\n",
        "# https://stackoverflow.com/a/14434334\n",
        "# this function is used to update the plots for each epoch and error\n",
        "def plt_dynamic(x, vy, ty, ax, colors=['b']):\n",
        "    ax.plot(x, vy, 'b', label=\"Validation Loss\")\n",
        "    ax.plot(x, ty, 'r', label=\"Train Loss\")\n",
        "    plt.legend()\n",
        "    plt.grid()\n",
        "    fig.canvas.draw()"
      ],
      "execution_count": 0,
      "outputs": []
    },
    {
      "metadata": {
        "id": "wMyrbnGrSOmk",
        "colab_type": "code",
        "colab": {
          "base_uri": "https://localhost:8080/",
          "height": 314
        },
        "outputId": "190f3144-e801-491f-b4f0-a5250ea86f01"
      },
      "cell_type": "code",
      "source": [
        "score = model.evaluate(x_test, y_test, verbose=0) \n",
        "print('Test score:', score[0]) \n",
        "print('Test accuracy:', score[1])\n",
        "\n",
        "fig,ax = plt.subplots(1,1)\n",
        "ax.set_xlabel('epoch') ; ax.set_ylabel('Categorical Crossentropy Loss')\n",
        "\n",
        "# list of epoch numbers\n",
        "x = list(range(1,epochs+1))\n",
        "\n",
        "# print(history.history.keys())\n",
        "# dict_keys(['val_loss', 'val_acc', 'loss', 'acc'])\n",
        "# history = model_drop.fit(X_train, Y_train, batch_size=batch_size, epochs=nb_epoch, verbose=1, validation_data=(X_test, Y_test))\n",
        "\n",
        "# we will get val_loss and val_acc only when you pass the paramter validation_data\n",
        "# val_loss : validation loss\n",
        "# val_acc : validation accuracy\n",
        "\n",
        "# loss : training loss\n",
        "# acc : train accuracy\n",
        "# for each key in histrory.histrory we will have a list of length equal to number of epochs\n",
        "\n",
        "vy = history.history['val_loss']\n",
        "ty = history.history['loss']\n",
        "plt_dynamic(x, vy, ty, ax)"
      ],
      "execution_count": 4,
      "outputs": [
        {
          "output_type": "stream",
          "text": [
            "Test score: 0.03531321390703681\n",
            "Test accuracy: 0.9911\n"
          ],
          "name": "stdout"
        },
        {
          "output_type": "display_data",
          "data": {
            "image/png": "[encoded data removed]",
            "text/plain": [
              "<Figure size 432x288 with 1 Axes>"
            ]
          },
          "metadata": {
            "tags": []
          }
        }
      ]
    },
    {
      "metadata": {
        "id": "kErwCVFwiq2z",
        "colab_type": "text"
      },
      "cell_type": "markdown",
      "source": [
        "Kernel - 7 DR- 0.65, 0.45\n",
        "\n",
        "```\n",
        "\n",
        "```\n",
        "\n"
      ]
    },
    {
      "metadata": {
        "id": "bmbHZLdW2gav",
        "colab_type": "code",
        "outputId": "6258c220-d58f-44eb-869a-10d71d1dccf8",
        "colab": {
          "base_uri": "https://localhost:8080/",
          "height": 1508
        }
      },
      "cell_type": "code",
      "source": [
        "#7D D=0.75 , 0.45\n",
        "model1 = Sequential()\n",
        "model1.add(Conv2D(32, kernel_size=(7, 7),\n",
        "                 activation='relu',\n",
        "                 input_shape=input_shape))\n",
        "model1.add(Conv2D(16, (7, 7), activation='relu'))\n",
        "model1.add(MaxPooling2D(pool_size=(1, 1)))\n",
        "model1.add(Dropout(0.75))\n",
        "model1.add(Flatten())\n",
        "model1.add(Dense(16, activation='relu'))\n",
        "model1.add(Dropout(0.45))\n",
        "#model1.add(Flatten())\n",
        "model1.add(Dense(num_classes, activation='softmax'))\n",
        "model1.summary()\n",
        "\n",
        "model1.compile(loss=keras.losses.categorical_crossentropy,\n",
        "              optimizer=keras.optimizers.Adadelta(),\n",
        "              metrics=['accuracy'])\n",
        "\n",
        "model1.fit(x_train, y_train,\n",
        "          batch_size=batch_size,\n",
        "          epochs=epochs,\n",
        "          verbose=1,\n",
        "          validation_data=(x_test, y_test))\n",
        "score = model1.evaluate(x_test, y_test, verbose=0)\n",
        "print('Test loss:', score[0])\n",
        "print('Test accuracy:', score[1])"
      ],
      "execution_count": 6,
      "outputs": [
        {
          "output_type": "stream",
          "text": [
            "_________________________________________________________________\n",
            "Layer (type)                 Output Shape              Param #   \n",
            "=================================================================\n",
            "conv2d_5 (Conv2D)            (None, 22, 22, 32)        1600      \n",
            "_________________________________________________________________\n",
            "conv2d_6 (Conv2D)            (None, 16, 16, 16)        25104     \n",
            "_________________________________________________________________\n",
            "max_pooling2d_3 (MaxPooling2 (None, 16, 16, 16)        0         \n",
            "_________________________________________________________________\n",
            "dropout_5 (Dropout)          (None, 16, 16, 16)        0         \n",
            "_________________________________________________________________\n",
            "flatten_3 (Flatten)          (None, 4096)              0         \n",
            "_________________________________________________________________\n",
            "dense_5 (Dense)              (None, 16)                65552     \n",
            "_________________________________________________________________\n",
            "dropout_6 (Dropout)          (None, 16)                0         \n",
            "_________________________________________________________________\n",
            "dense_6 (Dense)              (None, 10)                170       \n",
            "=================================================================\n",
            "Total params: 92,426\n",
            "Trainable params: 92,426\n",
            "Non-trainable params: 0\n",
            "_________________________________________________________________\n",
            "Train on 60000 samples, validate on 10000 samples\n",
            "Epoch 1/30\n",
            "60000/60000 [==============================] - 191s 3ms/step - loss: 0.7798 - acc: 0.7281 - val_loss: 0.1191 - val_acc: 0.9668\n",
            "Epoch 2/30\n",
            "60000/60000 [==============================] - 191s 3ms/step - loss: 0.4555 - acc: 0.8398 - val_loss: 0.0795 - val_acc: 0.9775\n",
            "Epoch 3/30\n",
            "60000/60000 [==============================] - 192s 3ms/step - loss: 0.3832 - acc: 0.8619 - val_loss: 0.0630 - val_acc: 0.9818\n",
            "Epoch 4/30\n",
            "60000/60000 [==============================] - 189s 3ms/step - loss: 0.3489 - acc: 0.8729 - val_loss: 0.0590 - val_acc: 0.9821\n",
            "Epoch 5/30\n",
            "60000/60000 [==============================] - 191s 3ms/step - loss: 0.3235 - acc: 0.8803 - val_loss: 0.0505 - val_acc: 0.9849\n",
            "Epoch 6/30\n",
            "60000/60000 [==============================] - 192s 3ms/step - loss: 0.3175 - acc: 0.8837 - val_loss: 0.0461 - val_acc: 0.9858\n",
            "Epoch 7/30\n",
            "60000/60000 [==============================] - 192s 3ms/step - loss: 0.3051 - acc: 0.8894 - val_loss: 0.0394 - val_acc: 0.9875\n",
            "Epoch 8/30\n",
            "60000/60000 [==============================] - 194s 3ms/step - loss: 0.2993 - acc: 0.8907 - val_loss: 0.0419 - val_acc: 0.9880\n",
            "Epoch 9/30\n",
            "60000/60000 [==============================] - 196s 3ms/step - loss: 0.2883 - acc: 0.8945 - val_loss: 0.0424 - val_acc: 0.9872\n",
            "Epoch 10/30\n",
            "60000/60000 [==============================] - 196s 3ms/step - loss: 0.2861 - acc: 0.8975 - val_loss: 0.0413 - val_acc: 0.9877\n",
            "Epoch 11/30\n",
            "60000/60000 [==============================] - 192s 3ms/step - loss: 0.2782 - acc: 0.9010 - val_loss: 0.0363 - val_acc: 0.9888\n",
            "Epoch 12/30\n",
            "60000/60000 [==============================] - 194s 3ms/step - loss: 0.2742 - acc: 0.9026 - val_loss: 0.0383 - val_acc: 0.9892\n",
            "Epoch 13/30\n",
            "60000/60000 [==============================] - 196s 3ms/step - loss: 0.2691 - acc: 0.9046 - val_loss: 0.0381 - val_acc: 0.9898\n",
            "Epoch 14/30\n",
            "60000/60000 [==============================] - 199s 3ms/step - loss: 0.2718 - acc: 0.9051 - val_loss: 0.0364 - val_acc: 0.9889\n",
            "Epoch 15/30\n",
            "60000/60000 [==============================] - 197s 3ms/step - loss: 0.2679 - acc: 0.9050 - val_loss: 0.0364 - val_acc: 0.9888\n",
            "Epoch 16/30\n",
            "60000/60000 [==============================] - 195s 3ms/step - loss: 0.2609 - acc: 0.9080 - val_loss: 0.0384 - val_acc: 0.9893\n",
            "Epoch 17/30\n",
            "60000/60000 [==============================] - 197s 3ms/step - loss: 0.2589 - acc: 0.9085 - val_loss: 0.0376 - val_acc: 0.9896\n",
            "Epoch 18/30\n",
            "60000/60000 [==============================] - 197s 3ms/step - loss: 0.2541 - acc: 0.9121 - val_loss: 0.0345 - val_acc: 0.9896\n",
            "Epoch 19/30\n",
            "60000/60000 [==============================] - 197s 3ms/step - loss: 0.2571 - acc: 0.9113 - val_loss: 0.0386 - val_acc: 0.9906\n",
            "Epoch 20/30\n",
            "60000/60000 [==============================] - 200s 3ms/step - loss: 0.2516 - acc: 0.9130 - val_loss: 0.0379 - val_acc: 0.9902\n",
            "Epoch 21/30\n",
            "60000/60000 [==============================] - 198s 3ms/step - loss: 0.2510 - acc: 0.9144 - val_loss: 0.0378 - val_acc: 0.9905\n",
            "Epoch 22/30\n",
            "60000/60000 [==============================] - 198s 3ms/step - loss: 0.2508 - acc: 0.9129 - val_loss: 0.0399 - val_acc: 0.9906\n",
            "Epoch 23/30\n",
            "60000/60000 [==============================] - 199s 3ms/step - loss: 0.2478 - acc: 0.9150 - val_loss: 0.0425 - val_acc: 0.9888\n",
            "Epoch 24/30\n",
            "60000/60000 [==============================] - 197s 3ms/step - loss: 0.2446 - acc: 0.9174 - val_loss: 0.0407 - val_acc: 0.9888\n",
            "Epoch 25/30\n",
            "60000/60000 [==============================] - 199s 3ms/step - loss: 0.2485 - acc: 0.9146 - val_loss: 0.0410 - val_acc: 0.9883\n",
            "Epoch 26/30\n",
            "60000/60000 [==============================] - 199s 3ms/step - loss: 0.2495 - acc: 0.9153 - val_loss: 0.0398 - val_acc: 0.9911\n",
            "Epoch 27/30\n",
            "60000/60000 [==============================] - 197s 3ms/step - loss: 0.2467 - acc: 0.9159 - val_loss: 0.0343 - val_acc: 0.9917\n",
            "Epoch 28/30\n",
            "60000/60000 [==============================] - 199s 3ms/step - loss: 0.2464 - acc: 0.9173 - val_loss: 0.0487 - val_acc: 0.9877\n",
            "Epoch 29/30\n",
            "60000/60000 [==============================] - 199s 3ms/step - loss: 0.2459 - acc: 0.9176 - val_loss: 0.0381 - val_acc: 0.9897\n",
            "Epoch 30/30\n",
            "60000/60000 [==============================] - 199s 3ms/step - loss: 0.2442 - acc: 0.9178 - val_loss: 0.0405 - val_acc: 0.9912\n",
            "Test loss: 0.04052205937915714\n",
            "Test accuracy: 0.9912\n"
          ],
          "name": "stdout"
        }
      ]
    },
    {
      "metadata": {
        "id": "YMy4FFASc2pQ",
        "colab_type": "code",
        "colab": {
          "base_uri": "https://localhost:8080/",
          "height": 314
        },
        "outputId": "5f18d1c1-18ad-41f0-8792-4210f8bdfad7"
      },
      "cell_type": "code",
      "source": [
        "score = model1.evaluate(x_test, y_test, verbose=0) \n",
        "print('Test score:', score[0]) \n",
        "print('Test accuracy:', score[1])\n",
        "\n",
        "fig,ax = plt.subplots(1,1)\n",
        "ax.set_xlabel('epoch') ; ax.set_ylabel('Categorical Crossentropy Loss')\n",
        "\n",
        "# list of epoch numbers\n",
        "x = list(range(1,epochs+1))\n",
        "\n",
        "# print(history.history.keys())\n",
        "# dict_keys(['val_loss', 'val_acc', 'loss', 'acc'])\n",
        "# history = model_drop.fit(X_train, Y_train, batch_size=batch_size, epochs=nb_epoch, verbose=1, validation_data=(X_test, Y_test))\n",
        "\n",
        "# we will get val_loss and val_acc only when you pass the paramter validation_data\n",
        "# val_loss : validation loss\n",
        "# val_acc : validation accuracy\n",
        "\n",
        "# loss : training loss\n",
        "# acc : train accuracy\n",
        "# for each key in histrory.histrory we will have a list of length equal to number of epochs\n",
        "\n",
        "vy = history.history['val_loss']\n",
        "ty = history.history['loss']\n",
        "plt_dynamic(x, vy, ty, ax)"
      ],
      "execution_count": 8,
      "outputs": [
        {
          "output_type": "stream",
          "text": [
            "Test score: 0.04052205937915714\n",
            "Test accuracy: 0.9912\n"
          ],
          "name": "stdout"
        },
        {
          "output_type": "display_data",
          "data": {
            "image/png": "[encoded data removed]",
            "text/plain": [
              "<Figure size 432x288 with 1 Axes>"
            ]
          },
          "metadata": {
            "tags": []
          }
        }
      ]
    },
    {
      "metadata": {
        "id": "QNyidyDji-x_",
        "colab_type": "code",
        "colab": {
          "base_uri": "https://localhost:8080/",
          "height": 1508
        },
        "outputId": "3f06dfc7-6eae-4831-ca33-db7f2c578266"
      },
      "cell_type": "code",
      "source": [
        "#7D D=0.05 , 0.95\n",
        "model12 = Sequential()\n",
        "model12.add(Conv2D(32, kernel_size=(3, 3),\n",
        "                 activation='relu',\n",
        "                 input_shape=input_shape))\n",
        "model12.add(Conv2D(64, (3, 3), activation='relu'))\n",
        "model12.add(MaxPooling2D(pool_size=(2, 2)))\n",
        "model12.add(Dropout(0.05))\n",
        "model12.add(Flatten())\n",
        "model12.add(Dense(24, activation='relu'))\n",
        "model12.add(Dropout(0.95))\n",
        "model12.add(Dense(num_classes, activation='softmax'))\n",
        "model12.summary()\n",
        "\n",
        "model12.compile(loss=keras.losses.categorical_crossentropy,\n",
        "              optimizer=keras.optimizers.Adadelta(),\n",
        "              metrics=['accuracy'])\n",
        "\n",
        "model12.fit(x_train, y_train,\n",
        "          batch_size=batch_size,\n",
        "          epochs=epochs,\n",
        "          verbose=1,\n",
        "          validation_data=(x_test, y_test))\n",
        "score = model12.evaluate(x_test, y_test, verbose=0)\n",
        "print('Test loss:', score[0])\n",
        "print('Test accuracy:', score[1])"
      ],
      "execution_count": 13,
      "outputs": [
        {
          "output_type": "stream",
          "text": [
            "_________________________________________________________________\n",
            "Layer (type)                 Output Shape              Param #   \n",
            "=================================================================\n",
            "conv2d_17 (Conv2D)           (None, 26, 26, 32)        320       \n",
            "_________________________________________________________________\n",
            "conv2d_18 (Conv2D)           (None, 24, 24, 64)        18496     \n",
            "_________________________________________________________________\n",
            "max_pooling2d_9 (MaxPooling2 (None, 12, 12, 64)        0         \n",
            "_________________________________________________________________\n",
            "dropout_17 (Dropout)         (None, 12, 12, 64)        0         \n",
            "_________________________________________________________________\n",
            "flatten_9 (Flatten)          (None, 9216)              0         \n",
            "_________________________________________________________________\n",
            "dense_20 (Dense)             (None, 24)                221208    \n",
            "_________________________________________________________________\n",
            "dropout_18 (Dropout)         (None, 24)                0         \n",
            "_________________________________________________________________\n",
            "dense_21 (Dense)             (None, 10)                250       \n",
            "=================================================================\n",
            "Total params: 240,274\n",
            "Trainable params: 240,274\n",
            "Non-trainable params: 0\n",
            "_________________________________________________________________\n",
            "Train on 60000 samples, validate on 10000 samples\n",
            "Epoch 1/30\n",
            "60000/60000 [==============================] - 156s 3ms/step - loss: 2.1829 - acc: 0.1558 - val_loss: 1.6162 - val_acc: 0.8713\n",
            "Epoch 2/30\n",
            "60000/60000 [==============================] - 155s 3ms/step - loss: 2.0401 - acc: 0.1914 - val_loss: 1.3310 - val_acc: 0.9008\n",
            "Epoch 3/30\n",
            "60000/60000 [==============================] - 155s 3ms/step - loss: 2.0093 - acc: 0.1941 - val_loss: 1.2049 - val_acc: 0.9474\n",
            "Epoch 4/30\n",
            "60000/60000 [==============================] - 155s 3ms/step - loss: 1.9862 - acc: 0.2023 - val_loss: 1.1947 - val_acc: 0.9445\n",
            "Epoch 5/30\n",
            "60000/60000 [==============================] - 155s 3ms/step - loss: 1.9780 - acc: 0.2022 - val_loss: 1.0851 - val_acc: 0.9472\n",
            "Epoch 6/30\n",
            "60000/60000 [==============================] - 157s 3ms/step - loss: 1.9741 - acc: 0.2064 - val_loss: 1.0763 - val_acc: 0.9630\n",
            "Epoch 7/30\n",
            "60000/60000 [==============================] - 156s 3ms/step - loss: 1.9676 - acc: 0.2064 - val_loss: 1.0463 - val_acc: 0.9619\n",
            "Epoch 8/30\n",
            "60000/60000 [==============================] - 156s 3ms/step - loss: 1.9636 - acc: 0.2070 - val_loss: 1.1036 - val_acc: 0.9599\n",
            "Epoch 9/30\n",
            "60000/60000 [==============================] - 156s 3ms/step - loss: 1.9600 - acc: 0.2084 - val_loss: 1.0511 - val_acc: 0.9632\n",
            "Epoch 10/30\n",
            "60000/60000 [==============================] - 156s 3ms/step - loss: 1.9622 - acc: 0.2064 - val_loss: 0.8498 - val_acc: 0.9604\n",
            "Epoch 11/30\n",
            "60000/60000 [==============================] - 155s 3ms/step - loss: 1.9589 - acc: 0.2084 - val_loss: 1.0541 - val_acc: 0.9553\n",
            "Epoch 12/30\n",
            "60000/60000 [==============================] - 156s 3ms/step - loss: 1.9610 - acc: 0.2063 - val_loss: 1.0302 - val_acc: 0.9660\n",
            "Epoch 13/30\n",
            "60000/60000 [==============================] - 156s 3ms/step - loss: 1.9516 - acc: 0.2086 - val_loss: 1.0540 - val_acc: 0.9587\n",
            "Epoch 14/30\n",
            "60000/60000 [==============================] - 156s 3ms/step - loss: 1.9573 - acc: 0.2083 - val_loss: 1.0890 - val_acc: 0.9618\n",
            "Epoch 15/30\n",
            "60000/60000 [==============================] - 155s 3ms/step - loss: 1.9484 - acc: 0.2083 - val_loss: 0.8755 - val_acc: 0.9681\n",
            "Epoch 16/30\n",
            "60000/60000 [==============================] - 156s 3ms/step - loss: 1.9422 - acc: 0.2125 - val_loss: 0.8785 - val_acc: 0.9667\n",
            "Epoch 17/30\n",
            "60000/60000 [==============================] - 155s 3ms/step - loss: 1.9387 - acc: 0.2168 - val_loss: 0.8995 - val_acc: 0.9683\n",
            "Epoch 18/30\n",
            "60000/60000 [==============================] - 155s 3ms/step - loss: 1.9368 - acc: 0.2134 - val_loss: 0.7114 - val_acc: 0.9683\n",
            "Epoch 19/30\n",
            "60000/60000 [==============================] - 155s 3ms/step - loss: 1.9396 - acc: 0.2149 - val_loss: 0.7843 - val_acc: 0.9698\n",
            "Epoch 20/30\n",
            "60000/60000 [==============================] - 156s 3ms/step - loss: 1.9322 - acc: 0.2177 - val_loss: 0.9004 - val_acc: 0.9711\n",
            "Epoch 21/30\n",
            "60000/60000 [==============================] - 156s 3ms/step - loss: 1.9338 - acc: 0.2155 - val_loss: 0.8648 - val_acc: 0.9699\n",
            "Epoch 22/30\n",
            "60000/60000 [==============================] - 156s 3ms/step - loss: 1.9347 - acc: 0.2158 - val_loss: 0.9336 - val_acc: 0.9674\n",
            "Epoch 23/30\n",
            "60000/60000 [==============================] - 156s 3ms/step - loss: 1.9364 - acc: 0.2170 - val_loss: 0.8532 - val_acc: 0.9706\n",
            "Epoch 24/30\n",
            "60000/60000 [==============================] - 157s 3ms/step - loss: 1.9326 - acc: 0.2172 - val_loss: 0.9090 - val_acc: 0.9700\n",
            "Epoch 25/30\n",
            "60000/60000 [==============================] - 156s 3ms/step - loss: 1.9303 - acc: 0.2173 - val_loss: 1.0578 - val_acc: 0.9622\n",
            "Epoch 26/30\n",
            "60000/60000 [==============================] - 155s 3ms/step - loss: 1.9333 - acc: 0.2168 - val_loss: 0.8304 - val_acc: 0.9663\n",
            "Epoch 27/30\n",
            "60000/60000 [==============================] - 156s 3ms/step - loss: 1.9333 - acc: 0.2173 - val_loss: 0.8639 - val_acc: 0.9722\n",
            "Epoch 28/30\n",
            "60000/60000 [==============================] - 157s 3ms/step - loss: 1.9340 - acc: 0.2163 - val_loss: 0.7999 - val_acc: 0.9704\n",
            "Epoch 29/30\n",
            "60000/60000 [==============================] - 156s 3ms/step - loss: 1.9325 - acc: 0.2182 - val_loss: 0.8704 - val_acc: 0.9710\n",
            "Epoch 30/30\n",
            "60000/60000 [==============================] - 157s 3ms/step - loss: 1.9313 - acc: 0.2168 - val_loss: 1.0388 - val_acc: 0.9535\n",
            "Test loss: 1.0387587505340576\n",
            "Test accuracy: 0.9535\n"
          ],
          "name": "stdout"
        }
      ]
    },
    {
      "metadata": {
        "id": "TDjTNKuLKAeS",
        "colab_type": "code",
        "colab": {
          "base_uri": "https://localhost:8080/",
          "height": 314
        },
        "outputId": "eefa638c-e2ab-4b4b-cad4-be140d568d98"
      },
      "cell_type": "code",
      "source": [
        "score = model12.evaluate(x_test, y_test, verbose=0) \n",
        "print('Test score:', score[0]) \n",
        "print('Test accuracy:', score[1])\n",
        "\n",
        "fig,ax = plt.subplots(1,1)\n",
        "ax.set_xlabel('epoch') ; ax.set_ylabel('Categorical Crossentropy Loss')\n",
        "\n",
        "# list of epoch numbers\n",
        "x = list(range(1,epochs+1))\n",
        "\n",
        "# print(history.history.keys())\n",
        "# dict_keys(['val_loss', 'val_acc', 'loss', 'acc'])\n",
        "# history = model_drop.fit(X_train, Y_train, batch_size=batch_size, epochs=nb_epoch, verbose=1, validation_data=(X_test, Y_test))\n",
        "\n",
        "# we will get val_loss and val_acc only when you pass the paramter validation_data\n",
        "# val_loss : validation loss\n",
        "# val_acc : validation accuracy\n",
        "\n",
        "# loss : training loss\n",
        "# acc : train accuracy\n",
        "# for each key in histrory.histrory we will have a list of length equal to number of epochs\n",
        "\n",
        "vy = history.history['val_loss']\n",
        "ty = history.history['loss']\n",
        "plt_dynamic(x, vy, ty, ax)"
      ],
      "execution_count": 14,
      "outputs": [
        {
          "output_type": "stream",
          "text": [
            "Test score: 1.0387587505340576\n",
            "Test accuracy: 0.9535\n"
          ],
          "name": "stdout"
        },
        {
          "output_type": "display_data",
          "data": {
            "image/png": "[encoded data removed]",
            "text/plain": [
              "<Figure size 432x288 with 1 Axes>"
            ]
          },
          "metadata": {
            "tags": []
          }
        }
      ]
    },
    {
      "metadata": {
        "id": "EUKmOSxs6Kmc",
        "colab_type": "code",
        "outputId": "ef2c4803-0101-4acb-8dae-24ca602801ae",
        "colab": {
          "base_uri": "https://localhost:8080/",
          "height": 1508
        }
      },
      "cell_type": "code",
      "source": [
        "#5D D=0.85 , 0.65\n",
        "model2 = Sequential()\n",
        "model2.add(Conv2D(16, kernel_size=(5, 5),\n",
        "                 activation='relu',\n",
        "                 input_shape=input_shape))\n",
        "model2.add(Conv2D(8, (5, 5), activation='relu'))\n",
        "model2.add(MaxPooling2D(pool_size=(2, 2)))\n",
        "model2.add(Dropout(0.85))\n",
        "model2.add(Flatten())\n",
        "model2.add(Dense(32, activation='relu'))\n",
        "model2.add(Dropout(0.65))\n",
        "model2.add(Dense(num_classes, activation='softmax'))\n",
        "#model2.add(Dense(1, activation='sigmoid'))\n",
        "model2.summary()\n",
        "\n",
        "model2.compile(loss=keras.losses.categorical_crossentropy,\n",
        "              optimizer=keras.optimizers.Adadelta(),\n",
        "              metrics=['accuracy'])\n",
        "\n",
        "model2.fit(x_train, y_train,\n",
        "          batch_size=batch_size,\n",
        "          epochs=epochs,\n",
        "          verbose=1,\n",
        "          validation_data=(x_test, y_test))\n",
        "score2 = model2.evaluate(x_test, y_test, verbose=0)\n",
        "print('Test loss:', score[0])\n",
        "print('Test accuracy:', score[1])"
      ],
      "execution_count": 9,
      "outputs": [
        {
          "output_type": "stream",
          "text": [
            "_________________________________________________________________\n",
            "Layer (type)                 Output Shape              Param #   \n",
            "=================================================================\n",
            "conv2d_9 (Conv2D)            (None, 24, 24, 16)        416       \n",
            "_________________________________________________________________\n",
            "conv2d_10 (Conv2D)           (None, 20, 20, 8)         3208      \n",
            "_________________________________________________________________\n",
            "max_pooling2d_5 (MaxPooling2 (None, 10, 10, 8)         0         \n",
            "_________________________________________________________________\n",
            "dropout_9 (Dropout)          (None, 10, 10, 8)         0         \n",
            "_________________________________________________________________\n",
            "flatten_5 (Flatten)          (None, 800)               0         \n",
            "_________________________________________________________________\n",
            "dense_9 (Dense)              (None, 32)                25632     \n",
            "_________________________________________________________________\n",
            "dropout_10 (Dropout)         (None, 32)                0         \n",
            "_________________________________________________________________\n",
            "dense_10 (Dense)             (None, 10)                330       \n",
            "=================================================================\n",
            "Total params: 29,586\n",
            "Trainable params: 29,586\n",
            "Non-trainable params: 0\n",
            "_________________________________________________________________\n",
            "Train on 60000 samples, validate on 10000 samples\n",
            "Epoch 1/30\n",
            "60000/60000 [==============================] - 77s 1ms/step - loss: 1.4236 - acc: 0.4977 - val_loss: 0.3462 - val_acc: 0.9291\n",
            "Epoch 2/30\n",
            "60000/60000 [==============================] - 77s 1ms/step - loss: 0.9050 - acc: 0.6947 - val_loss: 0.2297 - val_acc: 0.9462\n",
            "Epoch 3/30\n",
            "60000/60000 [==============================] - 77s 1ms/step - loss: 0.7910 - acc: 0.7371 - val_loss: 0.1935 - val_acc: 0.9557\n",
            "Epoch 4/30\n",
            "60000/60000 [==============================] - 77s 1ms/step - loss: 0.7377 - acc: 0.7547 - val_loss: 0.1778 - val_acc: 0.9578\n",
            "Epoch 5/30\n",
            "60000/60000 [==============================] - 76s 1ms/step - loss: 0.6881 - acc: 0.7727 - val_loss: 0.1462 - val_acc: 0.9600\n",
            "Epoch 6/30\n",
            "60000/60000 [==============================] - 77s 1ms/step - loss: 0.6648 - acc: 0.7833 - val_loss: 0.1577 - val_acc: 0.9603\n",
            "Epoch 7/30\n",
            "60000/60000 [==============================] - 77s 1ms/step - loss: 0.6382 - acc: 0.7920 - val_loss: 0.1360 - val_acc: 0.9635\n",
            "Epoch 8/30\n",
            "60000/60000 [==============================] - 76s 1ms/step - loss: 0.6222 - acc: 0.8006 - val_loss: 0.1203 - val_acc: 0.9670\n",
            "Epoch 9/30\n",
            "60000/60000 [==============================] - 76s 1ms/step - loss: 0.6135 - acc: 0.8044 - val_loss: 0.1638 - val_acc: 0.9594\n",
            "Epoch 10/30\n",
            "60000/60000 [==============================] - 76s 1ms/step - loss: 0.6009 - acc: 0.8054 - val_loss: 0.1141 - val_acc: 0.9677\n",
            "Epoch 11/30\n",
            "60000/60000 [==============================] - 77s 1ms/step - loss: 0.5957 - acc: 0.8102 - val_loss: 0.1295 - val_acc: 0.9668\n",
            "Epoch 12/30\n",
            "60000/60000 [==============================] - 76s 1ms/step - loss: 0.5865 - acc: 0.8141 - val_loss: 0.1175 - val_acc: 0.9684\n",
            "Epoch 13/30\n",
            "60000/60000 [==============================] - 76s 1ms/step - loss: 0.5796 - acc: 0.8149 - val_loss: 0.1124 - val_acc: 0.9695\n",
            "Epoch 14/30\n",
            "60000/60000 [==============================] - 76s 1ms/step - loss: 0.5911 - acc: 0.8129 - val_loss: 0.1186 - val_acc: 0.9700\n",
            "Epoch 15/30\n",
            "60000/60000 [==============================] - 77s 1ms/step - loss: 0.5789 - acc: 0.8142 - val_loss: 0.1261 - val_acc: 0.9669\n",
            "Epoch 16/30\n",
            "60000/60000 [==============================] - 76s 1ms/step - loss: 0.5744 - acc: 0.8169 - val_loss: 0.1163 - val_acc: 0.9698\n",
            "Epoch 17/30\n",
            "60000/60000 [==============================] - 76s 1ms/step - loss: 0.5626 - acc: 0.8210 - val_loss: 0.1117 - val_acc: 0.9696\n",
            "Epoch 18/30\n",
            "60000/60000 [==============================] - 76s 1ms/step - loss: 0.5599 - acc: 0.8225 - val_loss: 0.1083 - val_acc: 0.9726\n",
            "Epoch 19/30\n",
            "60000/60000 [==============================] - 77s 1ms/step - loss: 0.5687 - acc: 0.8209 - val_loss: 0.1271 - val_acc: 0.9689\n",
            "Epoch 20/30\n",
            "60000/60000 [==============================] - 77s 1ms/step - loss: 0.5620 - acc: 0.8218 - val_loss: 0.1094 - val_acc: 0.9707\n",
            "Epoch 21/30\n",
            "60000/60000 [==============================] - 76s 1ms/step - loss: 0.5604 - acc: 0.8236 - val_loss: 0.1061 - val_acc: 0.9731\n",
            "Epoch 22/30\n",
            "60000/60000 [==============================] - 76s 1ms/step - loss: 0.5635 - acc: 0.8240 - val_loss: 0.1089 - val_acc: 0.9710\n",
            "Epoch 23/30\n",
            "60000/60000 [==============================] - 77s 1ms/step - loss: 0.5550 - acc: 0.8262 - val_loss: 0.1064 - val_acc: 0.9733\n",
            "Epoch 24/30\n",
            "60000/60000 [==============================] - 77s 1ms/step - loss: 0.5540 - acc: 0.8274 - val_loss: 0.1068 - val_acc: 0.9717\n",
            "Epoch 25/30\n",
            "60000/60000 [==============================] - 76s 1ms/step - loss: 0.5542 - acc: 0.8289 - val_loss: 0.1069 - val_acc: 0.9730\n",
            "Epoch 26/30\n",
            "60000/60000 [==============================] - 76s 1ms/step - loss: 0.5555 - acc: 0.8270 - val_loss: 0.1111 - val_acc: 0.9697\n",
            "Epoch 27/30\n",
            "60000/60000 [==============================] - 76s 1ms/step - loss: 0.5410 - acc: 0.8309 - val_loss: 0.0995 - val_acc: 0.9738\n",
            "Epoch 28/30\n",
            "60000/60000 [==============================] - 77s 1ms/step - loss: 0.5551 - acc: 0.8258 - val_loss: 0.1101 - val_acc: 0.9714\n",
            "Epoch 29/30\n",
            "60000/60000 [==============================] - 77s 1ms/step - loss: 0.5478 - acc: 0.8292 - val_loss: 0.1093 - val_acc: 0.9706\n",
            "Epoch 30/30\n",
            "60000/60000 [==============================] - 77s 1ms/step - loss: 0.5466 - acc: 0.8290 - val_loss: 0.1027 - val_acc: 0.9724\n",
            "Test loss: 0.04052205937915714\n",
            "Test accuracy: 0.9912\n"
          ],
          "name": "stdout"
        }
      ]
    },
    {
      "metadata": {
        "id": "RbOhJou3lgOY",
        "colab_type": "code",
        "colab": {
          "base_uri": "https://localhost:8080/",
          "height": 314
        },
        "outputId": "1ed692e0-1f00-485f-ce52-3c2f49d42a89"
      },
      "cell_type": "code",
      "source": [
        "score = model2.evaluate(x_test, y_test, verbose=0) \n",
        "print('Test score:', score[0]) \n",
        "print('Test accuracy:', score[1])\n",
        "\n",
        "fig,ax = plt.subplots(1,1)\n",
        "ax.set_xlabel('epoch') ; ax.set_ylabel('Categorical Crossentropy Loss')\n",
        "\n",
        "# list of epoch numbers\n",
        "x = list(range(1,epochs+1))\n",
        "\n",
        "# print(history.history.keys())\n",
        "# dict_keys(['val_loss', 'val_acc', 'loss', 'acc'])\n",
        "# history = model_drop.fit(X_train, Y_train, batch_size=batch_size, epochs=nb_epoch, verbose=1, validation_data=(X_test, Y_test))\n",
        "\n",
        "# we will get val_loss and val_acc only when you pass the paramter validation_data\n",
        "# val_loss : validation loss\n",
        "# val_acc : validation accuracy\n",
        "\n",
        "# loss : training loss\n",
        "# acc : train accuracy\n",
        "# for each key in histrory.histrory we will have a list of length equal to number of epochs\n",
        "\n",
        "vy = history.history['val_loss']\n",
        "ty = history.history['loss']\n",
        "plt_dynamic(x, vy, ty, ax)"
      ],
      "execution_count": 15,
      "outputs": [
        {
          "output_type": "stream",
          "text": [
            "Test score: 0.10267353325635195\n",
            "Test accuracy: 0.9724\n"
          ],
          "name": "stdout"
        },
        {
          "output_type": "display_data",
          "data": {
            "image/png": "[encoded data removed]",
            "text/plain": [
              "<Figure size 432x288 with 1 Axes>"
            ]
          },
          "metadata": {
            "tags": []
          }
        }
      ]
    },
    {
      "metadata": {
        "id": "Y80A0If_P5b5",
        "colab_type": "code",
        "outputId": "751add3a-3916-4f95-db4e-c94291237fad",
        "colab": {
          "base_uri": "https://localhost:8080/",
          "height": 1542
        }
      },
      "cell_type": "code",
      "source": [
        "#4D D=0.95 , 0.35\n",
        "model3 = Sequential()\n",
        "model3.add(Conv2D(4, kernel_size=(5, 5),\n",
        "                 activation='relu',\n",
        "                 input_shape=input_shape))\n",
        "model3.add(Conv2D(64, (5, 5), activation='relu'))\n",
        "model3.add(MaxPooling2D(pool_size=(2, 2)))\n",
        "\n",
        "model3.add(Flatten())\n",
        "model3.add(Dense(8, activation='relu'))\n",
        "model3.add(Dropout(0.95))\n",
        "\n",
        "model3.add(Dense(32, activation='relu'))\n",
        "model3.add(Dropout(0.35))\n",
        "\n",
        "model3.add(Dense(num_classes, activation='softmax'))\n",
        "#model2.add(Dense(1, activation='sigmoid'))\n",
        "model3.summary()\n",
        "\n",
        "model3.compile(loss=keras.losses.categorical_crossentropy,\n",
        "              optimizer=keras.optimizers.Adadelta(),\n",
        "              metrics=['accuracy'])\n",
        "\n",
        "model3.fit(x_train, y_train,\n",
        "          batch_size=batch_size,\n",
        "          epochs=epochs,\n",
        "          verbose=1,\n",
        "          validation_data=(x_test, y_test))\n",
        "score2 = model3.evaluate(x_test, y_test, verbose=0)\n",
        "print('Test loss:', score[0])\n",
        "print('Test accuracy:', score[1])"
      ],
      "execution_count": 12,
      "outputs": [
        {
          "output_type": "stream",
          "text": [
            "_________________________________________________________________\n",
            "Layer (type)                 Output Shape              Param #   \n",
            "=================================================================\n",
            "conv2d_15 (Conv2D)           (None, 24, 24, 4)         104       \n",
            "_________________________________________________________________\n",
            "conv2d_16 (Conv2D)           (None, 20, 20, 64)        6464      \n",
            "_________________________________________________________________\n",
            "max_pooling2d_8 (MaxPooling2 (None, 10, 10, 64)        0         \n",
            "_________________________________________________________________\n",
            "flatten_8 (Flatten)          (None, 6400)              0         \n",
            "_________________________________________________________________\n",
            "dense_17 (Dense)             (None, 8)                 51208     \n",
            "_________________________________________________________________\n",
            "dropout_15 (Dropout)         (None, 8)                 0         \n",
            "_________________________________________________________________\n",
            "dense_18 (Dense)             (None, 32)                288       \n",
            "_________________________________________________________________\n",
            "dropout_16 (Dropout)         (None, 32)                0         \n",
            "_________________________________________________________________\n",
            "dense_19 (Dense)             (None, 10)                330       \n",
            "=================================================================\n",
            "Total params: 58,394\n",
            "Trainable params: 58,394\n",
            "Non-trainable params: 0\n",
            "_________________________________________________________________\n",
            "Train on 60000 samples, validate on 10000 samples\n",
            "Epoch 1/30\n",
            "60000/60000 [==============================] - 83s 1ms/step - loss: 2.2906 - acc: 0.1177 - val_loss: 2.2429 - val_acc: 0.2733\n",
            "Epoch 2/30\n",
            "60000/60000 [==============================] - 81s 1ms/step - loss: 2.2596 - acc: 0.1306 - val_loss: 2.1866 - val_acc: 0.2977\n",
            "Epoch 3/30\n",
            "60000/60000 [==============================] - 81s 1ms/step - loss: 2.2430 - acc: 0.1350 - val_loss: 2.1936 - val_acc: 0.2672\n",
            "Epoch 4/30\n",
            "60000/60000 [==============================] - 81s 1ms/step - loss: 2.2334 - acc: 0.1379 - val_loss: 2.1441 - val_acc: 0.2365\n",
            "Epoch 5/30\n",
            "60000/60000 [==============================] - 81s 1ms/step - loss: 2.2306 - acc: 0.1387 - val_loss: 2.1453 - val_acc: 0.2295\n",
            "Epoch 6/30\n",
            "60000/60000 [==============================] - 81s 1ms/step - loss: 2.2326 - acc: 0.1379 - val_loss: 2.1038 - val_acc: 0.2488\n",
            "Epoch 7/30\n",
            "60000/60000 [==============================] - 81s 1ms/step - loss: 2.2257 - acc: 0.1396 - val_loss: 2.1117 - val_acc: 0.2144\n",
            "Epoch 8/30\n",
            "60000/60000 [==============================] - 81s 1ms/step - loss: 2.2267 - acc: 0.1415 - val_loss: 2.0916 - val_acc: 0.2483\n",
            "Epoch 9/30\n",
            "60000/60000 [==============================] - 81s 1ms/step - loss: 2.2154 - acc: 0.1483 - val_loss: 2.0694 - val_acc: 0.2548\n",
            "Epoch 10/30\n",
            "60000/60000 [==============================] - 80s 1ms/step - loss: 2.2106 - acc: 0.1523 - val_loss: 2.0898 - val_acc: 0.3087\n",
            "Epoch 11/30\n",
            "60000/60000 [==============================] - 80s 1ms/step - loss: 2.2082 - acc: 0.1533 - val_loss: 2.1204 - val_acc: 0.2292\n",
            "Epoch 12/30\n",
            "60000/60000 [==============================] - 81s 1ms/step - loss: 2.2034 - acc: 0.1557 - val_loss: 2.0760 - val_acc: 0.2849\n",
            "Epoch 13/30\n",
            "60000/60000 [==============================] - 80s 1ms/step - loss: 2.2050 - acc: 0.1562 - val_loss: 2.1109 - val_acc: 0.2465\n",
            "Epoch 14/30\n",
            "60000/60000 [==============================] - 80s 1ms/step - loss: 2.2003 - acc: 0.1577 - val_loss: 2.0977 - val_acc: 0.2035\n",
            "Epoch 15/30\n",
            "60000/60000 [==============================] - 81s 1ms/step - loss: 2.2005 - acc: 0.1589 - val_loss: 2.1436 - val_acc: 0.1930\n",
            "Epoch 16/30\n",
            "60000/60000 [==============================] - 81s 1ms/step - loss: 2.1964 - acc: 0.1614 - val_loss: 2.0985 - val_acc: 0.2108\n",
            "Epoch 17/30\n",
            "60000/60000 [==============================] - 81s 1ms/step - loss: 2.1964 - acc: 0.1623 - val_loss: 2.1107 - val_acc: 0.2043\n",
            "Epoch 18/30\n",
            "60000/60000 [==============================] - 80s 1ms/step - loss: 2.1920 - acc: 0.1650 - val_loss: 2.1248 - val_acc: 0.2044\n",
            "Epoch 19/30\n",
            "60000/60000 [==============================] - 81s 1ms/step - loss: 2.1892 - acc: 0.1661 - val_loss: 2.1222 - val_acc: 0.2059\n",
            "Epoch 20/30\n",
            "60000/60000 [==============================] - 81s 1ms/step - loss: 2.1878 - acc: 0.1676 - val_loss: 2.1110 - val_acc: 0.1985\n",
            "Epoch 21/30\n",
            "60000/60000 [==============================] - 80s 1ms/step - loss: 2.1898 - acc: 0.1663 - val_loss: 2.1315 - val_acc: 0.1943\n",
            "Epoch 22/30\n",
            "60000/60000 [==============================] - 81s 1ms/step - loss: 2.1873 - acc: 0.1671 - val_loss: 2.0824 - val_acc: 0.2081\n",
            "Epoch 23/30\n",
            "60000/60000 [==============================] - 81s 1ms/step - loss: 2.1825 - acc: 0.1690 - val_loss: 2.0569 - val_acc: 0.2112\n",
            "Epoch 24/30\n",
            "60000/60000 [==============================] - 81s 1ms/step - loss: 2.1853 - acc: 0.1683 - val_loss: 2.0576 - val_acc: 0.2157\n",
            "Epoch 25/30\n",
            "60000/60000 [==============================] - 80s 1ms/step - loss: 2.1799 - acc: 0.1703 - val_loss: 2.0860 - val_acc: 0.1992\n",
            "Epoch 26/30\n",
            "60000/60000 [==============================] - 81s 1ms/step - loss: 2.1832 - acc: 0.1689 - val_loss: 2.0720 - val_acc: 0.2082\n",
            "Epoch 27/30\n",
            "60000/60000 [==============================] - 81s 1ms/step - loss: 2.1829 - acc: 0.1693 - val_loss: 2.0653 - val_acc: 0.2088\n",
            "Epoch 28/30\n",
            "60000/60000 [==============================] - 80s 1ms/step - loss: 2.1816 - acc: 0.1701 - val_loss: 2.0588 - val_acc: 0.2111\n",
            "Epoch 29/30\n",
            "60000/60000 [==============================] - 80s 1ms/step - loss: 2.1762 - acc: 0.1718 - val_loss: 2.0852 - val_acc: 0.2077\n",
            "Epoch 30/30\n",
            "60000/60000 [==============================] - 81s 1ms/step - loss: 2.1836 - acc: 0.1682 - val_loss: 2.0509 - val_acc: 0.2288\n",
            "Test loss: 0.04052205937915714\n",
            "Test accuracy: 0.9912\n"
          ],
          "name": "stdout"
        }
      ]
    },
    {
      "metadata": {
        "id": "P8pfiDaZllMB",
        "colab_type": "code",
        "colab": {
          "base_uri": "https://localhost:8080/",
          "height": 314
        },
        "outputId": "066e08b4-17b4-4391-bb44-e27b1dd90253"
      },
      "cell_type": "code",
      "source": [
        "score = model3.evaluate(x_test, y_test, verbose=0) \n",
        "print('Test score:', score[0]) \n",
        "print('Test accuracy:', score[1])\n",
        "\n",
        "fig,ax = plt.subplots(1,1)\n",
        "ax.set_xlabel('epoch') ; ax.set_ylabel('Categorical Crossentropy Loss')\n",
        "\n",
        "# list of epoch numbers\n",
        "x = list(range(1,epochs+1))\n",
        "\n",
        "# print(history.history.keys())\n",
        "# dict_keys(['val_loss', 'val_acc', 'loss', 'acc'])\n",
        "# history = model_drop.fit(X_train, Y_train, batch_size=batch_size, epochs=nb_epoch, verbose=1, validation_data=(X_test, Y_test))\n",
        "\n",
        "# we will get val_loss and val_acc only when you pass the paramter validation_data\n",
        "# val_loss : validation loss\n",
        "# val_acc : validation accuracy\n",
        "\n",
        "# loss : training loss\n",
        "# acc : train accuracy\n",
        "# for each key in histrory.histrory we will have a list of length equal to number of epochs\n",
        "\n",
        "vy = history.history['val_loss']\n",
        "ty = history.history['loss']\n",
        "plt_dynamic(x, vy, ty, ax)"
      ],
      "execution_count": 16,
      "outputs": [
        {
          "output_type": "stream",
          "text": [
            "Test score: 2.0508630977630613\n",
            "Test accuracy: 0.2288\n"
          ],
          "name": "stdout"
        },
        {
          "output_type": "display_data",
          "data": {
            "image/png": "[encoded data removed]",
            "text/plain": [
              "<Figure size 432x288 with 1 Axes>"
            ]
          },
          "metadata": {
            "tags": []
          }
        }
      ]
    },
    {
      "metadata": {
        "id": "S8AUo4RJN-lX",
        "colab_type": "code",
        "outputId": "92d7fde2-2805-4570-be88-6a54c8f479d0",
        "colab": {
          "base_uri": "https://localhost:8080/",
          "height": 173
        }
      },
      "cell_type": "code",
      "source": [
        "#pretty table\n",
        "\n",
        "from prettytable import PrettyTable\n",
        "    \n",
        "p = PrettyTable()\n",
        "\n",
        "p.field_names = [\"Kernel size\",\"Dropout rates\" , \"Accuracy\"  ]\n",
        "\n",
        "p.add_row([\"3\",\"0.25 - 0.5\", \"0.9956\"] )\n",
        "p.add_row([\"3\", \"0.05 - 0.95\", \"0.9536\"] )\n",
        "p.add_row([\"7\", \"0.75 - 0.45\", \"0.9912\"] )\n",
        "p.add_row([\"5\", \"0.85 - 0.65\", \"0.9724\" ] )\n",
        "p.add_row([\"5\", \"0.95 - 0.35\", \"0.2288\" ] )\n",
        "\n",
        "\n",
        "\n",
        "print(p)"
      ],
      "execution_count": 26,
      "outputs": [
        {
          "output_type": "stream",
          "text": [
            "+-------------+---------------+----------+\n",
            "| Kernel size | Dropout rates | Accuracy |\n",
            "+-------------+---------------+----------+\n",
            "|      3      |   0.25 - 0.5  |  0.9956  |\n",
            "|      3      |  0.05 - 0.95  |  0.9536  |\n",
            "|      7      |  0.75 - 0.45  |  0.9912  |\n",
            "|      5      |  0.85 - 0.65  |  0.9724  |\n",
            "|      5      |  0.95 - 0.35  |  0.2288  |\n",
            "+-------------+---------------+----------+\n"
          ],
          "name": "stdout"
        }
      ]
    },
    {
      "metadata": {
        "id": "a8YHtLUmp7YW",
        "colab_type": "text"
      },
      "cell_type": "markdown",
      "source": [
        "# **Conclusion**"
      ]
    },
    {
      "metadata": {
        "id": "J5aHpkM0p_0m",
        "colab_type": "text"
      },
      "cell_type": "markdown",
      "source": [
        "\n",
        "\n",
        "From pretty table, we can observe different  architectures with different kernel sizes, layers , dropout rates and filters. We can summarise the observations as follows-\n",
        "\n",
        "\n",
        "\n",
        "*  The size of kernel defines the accuracy with the increase in size\n",
        "*  More the filter size, more the time required for running the CNN\n",
        "*   Dropout rate is an important factor which plays vital role in increasing the accuracy of the model\n",
        "* Loss is minimised with increase in number of dense layers, kernels and dropout rates   \n",
        "* Pooling size will reduce overfitting of the model, tried with less pooling size as it is time consuming   \n",
        "*   The accuracy drastically increased by using more epochs per model\n",
        "\n",
        "\n",
        "\n",
        "\n",
        "\n",
        "\n"
      ]
    }
  ]
}