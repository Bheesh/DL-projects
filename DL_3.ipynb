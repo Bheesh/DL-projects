{
 "cells": [
  {
   "cell_type": "markdown",
   "metadata": {
    "colab_type": "text",
    "id": "uLzpJMBs_o4r"
   },
   "source": [
    "## Deep Learning: "
   ]
  },
  {
   "cell_type": "markdown",
   "metadata": {
    "colab_type": "text",
    "id": "jDIGEdPm_o4s"
   },
   "source": [
    "<pre>\n",
    "1. ImageDataGenerator\n",
    "2. Pipeline using tf.data\n",
    "</pre>"
   ]
  },
  {
   "cell_type": "markdown",
   "metadata": {
    "colab_type": "text",
    "id": "X0UaftM0_o4t"
   },
   "source": [
    "<pre>\n",
    "As discussed in Previous notebooks, to train NN efficintly with less train time, we have to write better data pipelines. For Images, Keras is giving ImageDataGenerator to get images to RAM/GPU in batches. But you can write your own pipelines with tf.data API.  \n",
    "</pre>"
   ]
  },
  {
   "cell_type": "markdown",
   "metadata": {
    "colab_type": "text",
    "id": "7ZA8BjyI_o4u"
   },
   "source": [
    "Download the data from <a href='https://www.kaggle.com/prasunroy/natural-images'>here</a>"
   ]
  },
  {
   "cell_type": "markdown",
   "metadata": {
    "colab_type": "text",
    "id": "Jl30vjZo_o4v"
   },
   "source": [
    "<pre>\n",
    "<b>ImageDataGenerator</b>\n",
    "</pre>"
   ]
  },
  {
   "cell_type": "code",
   "execution_count": 1,
   "metadata": {
    "colab": {},
    "colab_type": "code",
    "id": "xkyBzAHz_o4w",
    "outputId": "8eacd5d2-3bd8-4a93-c76b-398a3a63cc96"
   },
   "outputs": [],
   "source": [
    "import tensorflow as tf\n",
    "import os\n",
    "import numpy as np\n",
    "import pandas as pd"
   ]
  },
  {
   "cell_type": "code",
   "execution_count": null,
   "metadata": {},
   "outputs": [],
   "source": []
  },
  {
   "cell_type": "code",
   "execution_count": 2,
   "metadata": {
    "colab": {},
    "colab_type": "code",
    "id": "fACFxonY_o43"
   },
   "outputs": [],
   "source": [
    "dir_path = \"natural_images\""
   ]
  },
  {
   "cell_type": "code",
   "execution_count": 3,
   "metadata": {
    "colab": {},
    "colab_type": "code",
    "id": "1n8MLGhS_o45",
    "outputId": "aef224fc-e88a-44bf-967a-24c7917faeec"
   },
   "outputs": [
    {
     "data": {
      "text/plain": [
       "['airplane', 'car', 'cat', 'dog', 'flower', 'fruit', 'motorbike', 'person']"
      ]
     },
     "execution_count": 3,
     "metadata": {},
     "output_type": "execute_result"
    }
   ],
   "source": [
    "os.listdir(dir_path)"
   ]
  },
  {
   "cell_type": "code",
   "execution_count": 4,
   "metadata": {
    "colab": {},
    "colab_type": "code",
    "id": "Zpivfytd_o49",
    "outputId": "d5e8aaf5-cb90-4cd8-ac0d-c35e7e0f374f"
   },
   "outputs": [
    {
     "name": "stdout",
     "output_type": "stream",
     "text": [
      "No of Images in  airplane  category is  727\n",
      "No of Images in  car  category is  968\n",
      "No of Images in  cat  category is  885\n",
      "No of Images in  dog  category is  702\n",
      "No of Images in  flower  category is  843\n",
      "No of Images in  fruit  category is  1000\n",
      "No of Images in  motorbike  category is  788\n",
      "No of Images in  person  category is  986\n"
     ]
    }
   ],
   "source": [
    "for i in os.listdir(dir_path):\n",
    "    print(\"No of Images in \",i,\" category is \",len(os.listdir(os.path.join(dir_path,i))))"
   ]
  },
  {
   "cell_type": "code",
   "execution_count": 5,
   "metadata": {
    "colab": {},
    "colab_type": "code",
    "id": "h3T7dnnv_o5A"
   },
   "outputs": [],
   "source": [
    "#import openCV\n",
    "import cv2"
   ]
  },
  {
   "cell_type": "code",
   "execution_count": 6,
   "metadata": {
    "colab": {},
    "colab_type": "code",
    "id": "DnW7iFj3_o5D"
   },
   "outputs": [],
   "source": [
    "##Getting size of images\n",
    "list_of_heights = []\n",
    "list_of_widths = []\n",
    "for i in os.listdir(dir_path):\n",
    "    for image in os.listdir(os.path.join(dir_path,i)):\n",
    "        img = cv2.imread(os.path.join(os.path.join(dir_path,i),image), cv2.IMREAD_UNCHANGED)\n",
    "        # get dimensions of image\n",
    "        shape = img.shape\n",
    "        list_of_heights.append(shape[0])\n",
    "        list_of_widths.append(shape[1])     "
   ]
  },
  {
   "cell_type": "code",
   "execution_count": 7,
   "metadata": {
    "colab": {},
    "colab_type": "code",
    "id": "3csK1nZ1_o5G",
    "outputId": "6f3818d4-384d-4a13-8017-1786fc8fac16"
   },
   "outputs": [
    {
     "data": {
      "text/plain": [
       "Text(0.5,1,'heights')"
      ]
     },
     "execution_count": 7,
     "metadata": {},
     "output_type": "execute_result"
    },
    {
     "data": {
      "image/png": "[encoded data removed]",
      "text/plain": [
       "<Figure size 432x288 with 1 Axes>"
      ]
     },
     "metadata": {
      "needs_background": "light"
     },
     "output_type": "display_data"
    }
   ],
   "source": [
    "##plotting \n",
    "import matplotlib.pyplot as plt\n",
    "%matplotlib inline\n",
    "plt.hist(list_of_heights,bins=20)\n",
    "plt.xlim(0,900)\n",
    "plt.title('heights')"
   ]
  },
  {
   "cell_type": "code",
   "execution_count": 8,
   "metadata": {
    "colab": {},
    "colab_type": "code",
    "id": "QkTGN4e5_o5K",
    "outputId": "332c0f83-723b-43cd-e6e8-b9bc617564e0"
   },
   "outputs": [
    {
     "data": {
      "text/plain": [
       "(0, 900)"
      ]
     },
     "execution_count": 8,
     "metadata": {},
     "output_type": "execute_result"
    },
    {
     "data": {
      "image/png": "[encoded data removed]",
      "text/plain": [
       "<Figure size 432x288 with 1 Axes>"
      ]
     },
     "metadata": {
      "needs_background": "light"
     },
     "output_type": "display_data"
    }
   ],
   "source": [
    "plt.hist(list_of_heights,bins=20)\n",
    "plt.title('widths')\n",
    "plt.xlim(0,900)"
   ]
  },
  {
   "cell_type": "code",
   "execution_count": 9,
   "metadata": {
    "colab": {},
    "colab_type": "code",
    "id": "ftCiexnC_o5N",
    "outputId": "11a3491d-791e-4340-afc3-277dd95358c4"
   },
   "outputs": [
    {
     "data": {
      "text/plain": [
       "122.0"
      ]
     },
     "execution_count": 9,
     "metadata": {},
     "output_type": "execute_result"
    }
   ],
   "source": [
    "np.median(list_of_heights)"
   ]
  },
  {
   "cell_type": "code",
   "execution_count": 10,
   "metadata": {
    "colab": {},
    "colab_type": "code",
    "id": "MdoSfQ3S_o5R",
    "outputId": "6acfd0ab-f963-4f0a-aa3d-992182326156"
   },
   "outputs": [
    {
     "data": {
      "text/plain": [
       "198.1923467169155"
      ]
     },
     "execution_count": 10,
     "metadata": {},
     "output_type": "execute_result"
    }
   ],
   "source": [
    "np.mean(list_of_heights)"
   ]
  },
  {
   "cell_type": "code",
   "execution_count": 11,
   "metadata": {
    "colab": {},
    "colab_type": "code",
    "id": "50l5oim-_o5V",
    "outputId": "5d3d0155-021d-4060-a8bf-3d41a6d00f08"
   },
   "outputs": [
    {
     "data": {
      "text/plain": [
       "231.0"
      ]
     },
     "execution_count": 11,
     "metadata": {},
     "output_type": "execute_result"
    }
   ],
   "source": [
    "np.median(list_of_widths)"
   ]
  },
  {
   "cell_type": "code",
   "execution_count": 12,
   "metadata": {
    "colab": {},
    "colab_type": "code",
    "id": "8v7-K78m_o5Y",
    "outputId": "736f6759-e91f-498c-8c57-03ac86872aa0"
   },
   "outputs": [
    {
     "data": {
      "text/plain": [
       "234.86911146542977"
      ]
     },
     "execution_count": 12,
     "metadata": {},
     "output_type": "execute_result"
    }
   ],
   "source": [
    "np.mean(list_of_widths)"
   ]
  },
  {
   "cell_type": "code",
   "execution_count": 13,
   "metadata": {
    "colab": {},
    "colab_type": "code",
    "id": "tdOlB3JN_o5c",
    "outputId": "8b89aa6b-772b-4d32-dbac-8257c7a8e19a"
   },
   "outputs": [
    {
     "name": "stdout",
     "output_type": "stream",
     "text": [
      "Found 6899 images belonging to 8 classes.\n"
     ]
    }
   ],
   "source": [
    "###Image data Generator class\n",
    "ImageFlow = tf.keras.preprocessing.image.ImageDataGenerator()\n",
    "##We are fitting the data to Image data generator.\n",
    "ImageGenerator = ImageFlow.flow_from_directory(dir_path,target_size=(156,256),seed=10,batch_size=1)"
   ]
  },
  {
   "cell_type": "code",
   "execution_count": 14,
   "metadata": {
    "colab": {},
    "colab_type": "code",
    "id": "oRNuZNzm_o5g",
    "outputId": "e54f1c8f-9a4e-4e19-8075-e4dbb0e31f4b"
   },
   "outputs": [
    {
     "name": "stdout",
     "output_type": "stream",
     "text": [
      "216 batches: 0.8140788078308105 s\n",
      "8490.57847 Images/s\n"
     ]
    }
   ],
   "source": [
    "##Checking time taken to load images. \n",
    "import time\n",
    "start = time.time()\n",
    "total_batches = 0\n",
    "for e in range(1):\n",
    "    batches = 0\n",
    "    per_batch = 32\n",
    "    for x_batch, y_batch in ImageGenerator:\n",
    "        batches += 1\n",
    "        if batches >= 6899/per_batch:\n",
    "            total_batches = total_batches + batches\n",
    "            break \n",
    "end = time.time()\n",
    "duration = end-start\n",
    "print(\"{} batches: {} s\".format(total_batches, duration))\n",
    "print(\"{:0.5f} Images/s\".format(per_batch*total_batches/duration))"
   ]
  },
  {
   "cell_type": "code",
   "execution_count": 15,
   "metadata": {
    "colab": {},
    "colab_type": "code",
    "id": "jRwGhgBO_o5l"
   },
   "outputs": [],
   "source": [
    "#importing tensorflow\n",
    "from tensorflow.keras.layers import Dense,Input,Conv2D,MaxPool2D,Activation,Dropout,Flatten\n",
    "from tensorflow.keras.models import Model\n",
    "import random as rn"
   ]
  },
  {
   "cell_type": "code",
   "execution_count": 16,
   "metadata": {
    "colab": {},
    "colab_type": "code",
    "id": "v4qUZGQE_o5n",
    "outputId": "59b5be87-7d0d-4d31-ecd6-0b0891ee3237"
   },
   "outputs": [
    {
     "name": "stdout",
     "output_type": "stream",
     "text": [
      "WARNING:tensorflow:From D:\\installed\\Anaconda3\\lib\\site-packages\\tensorflow\\python\\ops\\resource_variable_ops.py:435: colocate_with (from tensorflow.python.framework.ops) is deprecated and will be removed in a future version.\n",
      "Instructions for updating:\n",
      "Colocations handled automatically by placer.\n"
     ]
    }
   ],
   "source": [
    "import os\n",
    "os.environ['PYTHONHASHSEED'] = '0'\n",
    "\n",
    "##https://keras.io/getting-started/faq/#how-can-i-obtain-reproducible-results-using-keras-during-development\n",
    "## Have to clear the session. If you are not clearing, Graph will create again and again and graph size will increses. \n",
    "## Varibles will also set to some value from before session\n",
    "tf.keras.backend.clear_session()\n",
    "\n",
    "## Set the random seed values to regenerate the model.\n",
    "np.random.seed(0)\n",
    "tf.set_random_seed(0)\n",
    "rn.seed(0)\n",
    "\n",
    "#Input layer\n",
    "input_layer = Input(shape=(156,256,3),name='Input_Layer')\n",
    "\n",
    "#Conv Layer\n",
    "Conv1 = Conv2D(filters=32,kernel_size=(3,3),strides=(1,1),padding='valid',data_format='channels_last',\n",
    "              activation='relu',kernel_initializer=tf.keras.initializers.he_normal(seed=0),name='Conv1')(input_layer)\n",
    "#MaxPool Layer\n",
    "Pool1 = MaxPool2D(pool_size=(2,2),strides=(2,2),padding='valid',data_format='channels_last',name='Pool1')(Conv1)\n",
    "\n",
    "\n",
    "Conv2 = Conv2D(filters=64,kernel_size=(3,3),strides=(1,1),padding='valid',data_format='channels_last',\n",
    "              activation='relu',kernel_initializer=tf.keras.initializers.he_normal(seed=3),name='Conv2')(Pool1)\n",
    "Conv3 = Conv2D(filters=64,kernel_size=(3,3),strides=(2,2),padding='valid',data_format='channels_last',\n",
    "              activation='relu',kernel_initializer=tf.keras.initializers.he_normal(seed=5),name='Conv3')(Conv2)\n",
    "#MaxPool Layer\n",
    "Pool2 = MaxPool2D(pool_size=(2,2),strides=(1,1),padding='valid',data_format='channels_last',name='Pool2')(Conv3)\n",
    "\n",
    "\n",
    "Conv4 = Conv2D(filters=128,kernel_size=(3,3),strides=(2,2),padding='valid',data_format='channels_last',\n",
    "              activation='relu',kernel_initializer=tf.keras.initializers.he_normal(seed=9),name='Conv4')(Pool2)\n",
    "#MaxPool Layer\n",
    "Pool3 = MaxPool2D(pool_size=(2,2),strides=(2,2),padding='valid',data_format='channels_last',name='Pool3')(Conv4)\n",
    "\n",
    "\n",
    "\n",
    "#Flatten\n",
    "flatten = Flatten(data_format='channels_last',name='Flatten')(Pool3)\n",
    "\n",
    "#FC layer\n",
    "FC1 = Dense(units=30,activation='relu',kernel_initializer=tf.keras.initializers.glorot_normal(seed=32),name='FC1')(flatten)\n",
    "\n",
    "#FC layer\n",
    "FC2 = Dense(units=15,activation='relu',kernel_initializer=tf.keras.initializers.glorot_normal(seed=33),name='FC2')(FC1)\n",
    "\n",
    "#output layer\n",
    "Out = Dense(units=8,activation='softmax',kernel_initializer=tf.keras.initializers.glorot_normal(seed=3),name='Output')(FC2)\n",
    "\n",
    "#Creating a model\n",
    "model = Model(inputs=input_layer,outputs=Out)"
   ]
  },
  {
   "cell_type": "code",
   "execution_count": 17,
   "metadata": {
    "colab": {},
    "colab_type": "code",
    "id": "B8adboyO_o5r",
    "outputId": "5fdea2c7-5eb4-4be4-b8a3-08f352540545"
   },
   "outputs": [
    {
     "name": "stdout",
     "output_type": "stream",
     "text": [
      "_________________________________________________________________\n",
      "Layer (type)                 Output Shape              Param #   \n",
      "=================================================================\n",
      "Input_Layer (InputLayer)     (None, 156, 256, 3)       0         \n",
      "_________________________________________________________________\n",
      "Conv1 (Conv2D)               (None, 154, 254, 32)      896       \n",
      "_________________________________________________________________\n",
      "Pool1 (MaxPooling2D)         (None, 77, 127, 32)       0         \n",
      "_________________________________________________________________\n",
      "Conv2 (Conv2D)               (None, 75, 125, 64)       18496     \n",
      "_________________________________________________________________\n",
      "Conv3 (Conv2D)               (None, 37, 62, 64)        36928     \n",
      "_________________________________________________________________\n",
      "Pool2 (MaxPooling2D)         (None, 36, 61, 64)        0         \n",
      "_________________________________________________________________\n",
      "Conv4 (Conv2D)               (None, 17, 30, 128)       73856     \n",
      "_________________________________________________________________\n",
      "Pool3 (MaxPooling2D)         (None, 8, 15, 128)        0         \n",
      "_________________________________________________________________\n",
      "Flatten (Flatten)            (None, 15360)             0         \n",
      "_________________________________________________________________\n",
      "FC1 (Dense)                  (None, 30)                460830    \n",
      "_________________________________________________________________\n",
      "FC2 (Dense)                  (None, 15)                465       \n",
      "_________________________________________________________________\n",
      "Output (Dense)               (None, 8)                 128       \n",
      "=================================================================\n",
      "Total params: 591,599\n",
      "Trainable params: 591,599\n",
      "Non-trainable params: 0\n",
      "_________________________________________________________________\n"
     ]
    }
   ],
   "source": [
    "model.summary()"
   ]
  },
  {
   "cell_type": "code",
   "execution_count": 18,
   "metadata": {
    "colab": {},
    "colab_type": "code",
    "id": "JLevq0ha_o5v"
   },
   "outputs": [],
   "source": [
    "#compiling \n",
    "model.compile(optimizer=tf.keras.optimizers.Adam(lr=0.01),loss='categorical_crossentropy',metrics=['accuracy'])"
   ]
  },
  {
   "cell_type": "code",
   "execution_count": 19,
   "metadata": {},
   "outputs": [],
   "source": [
    "from tensorflow.compat.v1 import ConfigProto\n",
    "from tensorflow.compat.v1 import InteractiveSession\n",
    "\n",
    "# config = ConfigProto()\n",
    "# config.gpu_options.allow_growth = True\n",
    "# session = InteractiveSession(config=config)"
   ]
  },
  {
   "cell_type": "code",
   "execution_count": 20,
   "metadata": {
    "colab": {},
    "colab_type": "code",
    "id": "bSVxxJhI_o5y",
    "outputId": "88936594-7b5e-43eb-e7cb-9dc11b616691"
   },
   "outputs": [
    {
     "name": "stdout",
     "output_type": "stream",
     "text": [
      "WARNING:tensorflow:From D:\\installed\\Anaconda3\\lib\\site-packages\\tensorflow\\python\\ops\\math_ops.py:3066: to_int32 (from tensorflow.python.ops.math_ops) is deprecated and will be removed in a future version.\n",
      "Instructions for updating:\n",
      "Use tf.cast instead.\n",
      "6899/6899 [==============================] - 108s 16ms/step - loss: 13.8566 - acc: 0.1403\n"
     ]
    },
    {
     "data": {
      "text/plain": [
       "<tensorflow.python.keras.callbacks.History at 0x1e1be238208>"
      ]
     },
     "execution_count": 20,
     "metadata": {},
     "output_type": "execute_result"
    }
   ],
   "source": [
    "##fitting generator\n",
    "model.fit_generator(ImageGenerator, epochs=1)\n",
    "# sess = tf.Session()"
   ]
  },
  {
   "cell_type": "markdown",
   "metadata": {
    "colab_type": "text",
    "id": "RHGvt7iS_o51"
   },
   "source": [
    "<pre>\n",
    "<b>Data Pipelines with TensorFlow</b>\n",
    "</pre>"
   ]
  },
  {
   "cell_type": "code",
   "execution_count": 21,
   "metadata": {
    "colab": {},
    "colab_type": "code",
    "id": "EMKNkBy4_o52",
    "outputId": "72877a9d-9a5f-4841-9acd-e75510dae486"
   },
   "outputs": [
    {
     "name": "stdout",
     "output_type": "stream",
     "text": [
      "natural_images\n"
     ]
    }
   ],
   "source": [
    "#importing pathlib\n",
    "#please check https://docs.python.org/3/library/pathlib.html  to know about pathlib\n",
    "import pathlib\n",
    "data_root = pathlib.Path(dir_path)\n",
    "print(data_root)"
   ]
  },
  {
   "cell_type": "code",
   "execution_count": 22,
   "metadata": {
    "colab": {},
    "colab_type": "code",
    "id": "D5IZmVtg_o57",
    "outputId": "cc078343-baa4-41f6-f6d3-6f7cdec86a03"
   },
   "outputs": [
    {
     "data": {
      "text/plain": [
       "[WindowsPath('natural_images/airplane'),\n",
       " WindowsPath('natural_images/car'),\n",
       " WindowsPath('natural_images/cat'),\n",
       " WindowsPath('natural_images/dog'),\n",
       " WindowsPath('natural_images/flower'),\n",
       " WindowsPath('natural_images/fruit'),\n",
       " WindowsPath('natural_images/motorbike'),\n",
       " WindowsPath('natural_images/person')]"
      ]
     },
     "execution_count": 22,
     "metadata": {},
     "output_type": "execute_result"
    }
   ],
   "source": [
    "##getting all the directories\n",
    "list(data_root.iterdir())"
   ]
  },
  {
   "cell_type": "code",
   "execution_count": 23,
   "metadata": {
    "colab": {},
    "colab_type": "code",
    "id": "CtAQozR6_o5-",
    "outputId": "2f04ee82-5335-443f-ea9e-8fe7a072bba6"
   },
   "outputs": [
    {
     "data": {
      "text/plain": [
       "6899"
      ]
     },
     "execution_count": 23,
     "metadata": {},
     "output_type": "execute_result"
    }
   ],
   "source": [
    "##Getting all image paths\n",
    "import random\n",
    "all_image_paths = list(data_root.glob('*/*'))\n",
    "all_image_paths = [str(path) for path in all_image_paths]\n",
    "##shuffling the images \n",
    "random.shuffle(all_image_paths)\n",
    "\n",
    "image_count = len(all_image_paths)\n",
    "image_count"
   ]
  },
  {
   "cell_type": "code",
   "execution_count": 24,
   "metadata": {
    "colab": {},
    "colab_type": "code",
    "id": "_LOPdhLc_o6A",
    "outputId": "326beba7-7f0c-4e5b-ef5c-f609a4131b7e"
   },
   "outputs": [
    {
     "data": {
      "text/plain": [
       "['airplane', 'car', 'cat', 'dog', 'flower', 'fruit', 'motorbike', 'person']"
      ]
     },
     "execution_count": 24,
     "metadata": {},
     "output_type": "execute_result"
    }
   ],
   "source": [
    "#List the available labels\n",
    "label_names = sorted(item.name for item in data_root.glob('*/') if item.is_dir())\n",
    "label_names"
   ]
  },
  {
   "cell_type": "code",
   "execution_count": 25,
   "metadata": {
    "colab": {},
    "colab_type": "code",
    "id": "exQstP9z_o6D",
    "outputId": "9b32dc2f-58a2-450b-9463-9685b921fe74"
   },
   "outputs": [
    {
     "data": {
      "text/plain": [
       "{'airplane': 0,\n",
       " 'car': 1,\n",
       " 'cat': 2,\n",
       " 'dog': 3,\n",
       " 'flower': 4,\n",
       " 'fruit': 5,\n",
       " 'motorbike': 6,\n",
       " 'person': 7}"
      ]
     },
     "execution_count": 25,
     "metadata": {},
     "output_type": "execute_result"
    }
   ],
   "source": [
    "#Assign an index to each label\n",
    "label_to_index = dict((name, index) for index,name in enumerate(label_names))\n",
    "label_to_index"
   ]
  },
  {
   "cell_type": "code",
   "execution_count": 26,
   "metadata": {
    "colab": {},
    "colab_type": "code",
    "id": "wY35zWws_o6J"
   },
   "outputs": [],
   "source": [
    "#Create a list of every file, and its label index\n",
    "all_image_labels = [label_to_index[pathlib.Path(path).parent.name] for path in all_image_paths]"
   ]
  },
  {
   "cell_type": "code",
   "execution_count": 27,
   "metadata": {
    "colab": {},
    "colab_type": "code",
    "id": "EZenDvvW_o6L"
   },
   "outputs": [],
   "source": [
    "def tfdata_generator(images, labels, is_training, batch_size=32):\n",
    "    '''Construct a data generator using tf.Dataset'''\n",
    "    \n",
    "    def parse_function(filename, label):\n",
    "        #reading path \n",
    "        image_string = tf.read_file(filename)\n",
    "        #decoding image\n",
    "        image = tf.image.decode_jpeg(image_string, channels=3)\n",
    "\n",
    "        # This will convert to float values in [0, 1]\n",
    "        image = tf.image.convert_image_dtype(image, tf.float32)\n",
    "        #resize the image\n",
    "        image = tf.image.resize_images(image, [156, 256])\n",
    "        #one hot coding for label\n",
    "        y = tf.one_hot(tf.cast(label, tf.uint8), 8)\n",
    "        return image, y\n",
    "    \n",
    "    ##creating a dataset from tensorslices\n",
    "    dataset = tf.data.Dataset.from_tensor_slices((images, labels))\n",
    "    \n",
    "    if is_training:\n",
    "        # https://stackoverflow.com/a/53517848/4084039\n",
    "        dataset = dataset.shuffle(5000)  # depends on sample size\n",
    "\n",
    "    # Transform and batch data at the same time\n",
    "    dataset = dataset.apply(tf.data.experimental.map_and_batch( parse_function, batch_size,num_parallel_batches=2,  # cpu cores\n",
    "        drop_remainder=True if is_training else False))\n",
    "    \n",
    "    #repeat the dataset indefinitely\n",
    "    dataset = dataset.repeat()\n",
    "    \n",
    "    #prefetch the data into CPU/GPU\n",
    "    dataset = dataset.prefetch(tf.data.experimental.AUTOTUNE)\n",
    "\n",
    "    return dataset"
   ]
  },
  {
   "cell_type": "code",
   "execution_count": 28,
   "metadata": {},
   "outputs": [],
   "source": [
    "# tf.keras.backend.clear_session()"
   ]
  },
  {
   "cell_type": "code",
   "execution_count": 29,
   "metadata": {
    "colab": {},
    "colab_type": "code",
    "id": "KZ1J1TUC_o6j"
   },
   "outputs": [],
   "source": [
    "tf_image_generator = tfdata_generator(all_image_paths, all_image_labels, is_training=True, batch_size=1)\n",
    "tf_image_iterator = tf_image_generator.make_one_shot_iterator()"
   ]
  },
  {
   "cell_type": "code",
   "execution_count": 30,
   "metadata": {
    "colab": {},
    "colab_type": "code",
    "id": "aW7K10ql_o6k",
    "outputId": "08321009-128c-4ef9-a903-95dd89dca494"
   },
   "outputs": [
    {
     "name": "stdout",
     "output_type": "stream",
     "text": [
      "216/216 [==============================] - 4s 19ms/step - loss: 13.5064 - acc: 0.1620\n"
     ]
    },
    {
     "data": {
      "text/plain": [
       "<tensorflow.python.keras.callbacks.History at 0x1e1be2388d0>"
      ]
     },
     "execution_count": 30,
     "metadata": {},
     "output_type": "execute_result"
    }
   ],
   "source": [
    "model.fit(tf_image_iterator,steps_per_epoch=216,epochs=1)"
   ]
  },
  {
   "cell_type": "markdown",
   "metadata": {
    "colab_type": "text",
    "id": "34zvG32I_o6n"
   },
   "source": [
    "<pre>\n",
    "1. The order is important.\n",
    "\n",
    "  - A <b>shuffle</b> after a <b>repeat</b> would shuffle items across epoch boundaries (some items will be seen twice before others are seen at all).\n",
    "  - A <b>shuffle</b> after a <b>batch</b> would shuffle the order of the batches, but not shuffle the items across batches.\n",
    "\n",
    "2. We use a <b>buffer_size</b> the same size as the dataset for a full shuffle. Up to the dataset size, large values provide better randomization, but use more memory.\n",
    "\n",
    "3. The shuffle buffer is filled before any elements are pulled from it. So a large <b>buffer_size</b> may cause a delay when your Dataset is starting.\n",
    "\n",
    "</pre>"
   ]
  },
  {
   "cell_type": "markdown",
   "metadata": {
    "colab_type": "text",
    "id": "uGrQf_-__o6o"
   },
   "source": [
    "<pre>\n",
    "<b> using Cache</b>\n",
    "</pre>"
   ]
  },
  {
   "cell_type": "code",
   "execution_count": 31,
   "metadata": {
    "colab": {},
    "colab_type": "code",
    "id": "Lrc7xkLP_o6p"
   },
   "outputs": [],
   "source": [
    "def tfdata_generator(images, labels, is_training, batch_size=32):\n",
    "    '''Construct a data generator using tf.Dataset'''\n",
    "    \n",
    "    def parse_function(filename, label):\n",
    "        #reading path \n",
    "        image_string = tf.read_file(filename)\n",
    "        #decoding image\n",
    "        image = tf.image.decode_jpeg(image_string, channels=3)\n",
    "\n",
    "        # This will convert to float values in [0, 1]\n",
    "        image = tf.image.convert_image_dtype(image, tf.float32)\n",
    "        \n",
    "        image = tf.image.resize_images(image, [156, 256])\n",
    "        \n",
    "        y = tf.one_hot(tf.cast(label, tf.uint8), 8)\n",
    "        return image, y\n",
    "\n",
    "    dataset = tf.data.Dataset.from_tensor_slices((images, labels))\n",
    "\n",
    "    # Transform and batch data at the same time\n",
    "    dataset = dataset.map(parse_function,4)\n",
    "    \n",
    "    dataset = dataset.cache('./tf-data')\n",
    "    \n",
    "    dataset = dataset.apply(tf.data.experimental.shuffle_and_repeat(buffer_size=1000))\n",
    "    dataset = dataset.batch(32).prefetch(tf.data.experimental.AUTOTUNE)\n",
    "    return dataset"
   ]
  },
  {
   "cell_type": "code",
   "execution_count": 32,
   "metadata": {
    "colab": {},
    "colab_type": "code",
    "id": "V6-wK-zY_o6r"
   },
   "outputs": [],
   "source": [
    "tf.keras.backend.clear_session()"
   ]
  },
  {
   "cell_type": "code",
   "execution_count": 33,
   "metadata": {
    "colab": {},
    "colab_type": "code",
    "id": "jOURYsBE_o6u"
   },
   "outputs": [],
   "source": [
    "sess = tf.Session()\n",
    "tf_image_generator = tfdata_generator(all_image_paths, all_image_labels, is_training=True, batch_size=32)\n",
    "iterator = tf_image_generator.make_one_shot_iterator()\n",
    "next_element = iterator.get_next()"
   ]
  },
  {
   "cell_type": "code",
   "execution_count": 34,
   "metadata": {
    "colab": {},
    "colab_type": "code",
    "id": "vNeAR6DA_o6y",
    "outputId": "d2750d95-6ec6-45c0-83fb-12b0835ee75f"
   },
   "outputs": [
    {
     "name": "stdout",
     "output_type": "stream",
     "text": [
      "432 batches: 60.55071711540222 s\n",
      "228.30448 Images/s\n"
     ]
    }
   ],
   "source": [
    "start = time.time()\n",
    "for batch in range(432):\n",
    "    sess.run(next_element)\n",
    "end = time.time()\n",
    "duration = end-start\n",
    "print(\"{} batches: {} s\".format(432, duration))\n",
    "print(\"{:0.5f} Images/s\".format(32*432/duration))"
   ]
  },
  {
   "cell_type": "markdown",
   "metadata": {
    "colab_type": "text",
    "id": "VGaI4TUl_o61"
   },
   "source": [
    "<pre>\n",
    "<b>Image augmentation</b>\n",
    "</pre>"
   ]
  },
  {
   "cell_type": "code",
   "execution_count": 35,
   "metadata": {
    "colab": {},
    "colab_type": "code",
    "id": "YnXKDGzJ_o62"
   },
   "outputs": [],
   "source": [
    "def tfdata_generator(images, labels, is_training, batch_size=32):\n",
    "    '''Construct a data generator using tf.Dataset'''\n",
    "    \n",
    "    def parse_function(filename,labels):\n",
    "        #reading path \n",
    "        image_string = tf.read_file(filename)\n",
    "        #decoding image\n",
    "        image = tf.image.decode_jpeg(image_string, channels=3)\n",
    "\n",
    "        # This will convert to float values in [0, 1]\n",
    "        image = tf.image.convert_image_dtype(image, tf.float32)\n",
    "        \n",
    "        image = tf.image.resize_images(image, [156, 256])\n",
    "        \n",
    "        y = tf.one_hot(tf.cast(labels, tf.uint8), 8)\n",
    "        return image,y\n",
    "    \n",
    "    def flip(image,labels):\n",
    "        \n",
    "        image = tf.image.random_flip_left_right(image)\n",
    "        image = tf.image.random_flip_up_down(image)\n",
    "        \n",
    "        return image,labels\n",
    "    \n",
    "    def rotate(image,labels):\n",
    "\n",
    "        return tf.image.rot90(image, tf.random_uniform(shape=[], minval=0, maxval=4, dtype=tf.int32)),labels\n",
    "    \n",
    "    def color(image,labels):\n",
    "        image = tf.image.random_hue(image, 0.08)\n",
    "        image = tf.image.random_saturation(image, 0.6, 1.6)\n",
    "        image = tf.image.random_brightness(image, 0.05)\n",
    "        image = tf.image.random_contrast(image, 0.7, 1.3)\n",
    "        return image,labels\n",
    "    \n",
    "    dataset = tf.data.Dataset.from_tensor_slices((images,labels))\n",
    "    \n",
    "    if is_training:\n",
    "        dataset = dataset.shuffle(5000)  # depends on sample size\n",
    "        \n",
    "    # Transform and batch data at the same time\n",
    "    dataset = dataset.map(parse_function, num_parallel_calls=4)\n",
    "    \n",
    "    augmentations = [flip,rotate,color]\n",
    "    \n",
    "        \n",
    "    for f in augmentations:\n",
    "        if np.random.uniform(0,1)>0.6:\n",
    "            dataset = dataset.map(f,num_parallel_calls=4)\n",
    "    \n",
    "    dataset = dataset.repeat()\n",
    "    \n",
    "    dataset = dataset.prefetch(tf.data.experimental.AUTOTUNE)\n",
    "    return dataset"
   ]
  },
  {
   "cell_type": "markdown",
   "metadata": {
    "colab_type": "text",
    "id": "pbsbUc9G_o64"
   },
   "source": [
    "<pre>\n",
    "Check <a href='https://androidkt.com/tensorflow-image-augmentation-using-tf-image/'>this</a> link for Image Augmentation tech in Tensorflow."
   ]
  },
  {
   "cell_type": "code",
   "execution_count": 36,
   "metadata": {
    "colab": {},
    "colab_type": "code",
    "id": "j7JoBTG1_o64"
   },
   "outputs": [],
   "source": [
    "tf.keras.backend.clear_session()\n",
    "sess = tf.Session()\n",
    "tf_image_generator = tfdata_generator(all_image_paths, all_image_labels, is_training=True, batch_size=1)\n",
    "iterator = tf_image_generator.make_one_shot_iterator()\n",
    "next_element = iterator.get_next()"
   ]
  },
  {
   "cell_type": "code",
   "execution_count": 37,
   "metadata": {
    "colab": {},
    "colab_type": "code",
    "id": "XtCTrhq__o69"
   },
   "outputs": [],
   "source": [
    "import matplotlib.pyplot as plt\n",
    "%matplotlib inline"
   ]
  },
  {
   "cell_type": "code",
   "execution_count": 38,
   "metadata": {
    "colab": {},
    "colab_type": "code",
    "id": "1GDDyolN_o7A",
    "outputId": "afbc633e-75da-4ee7-d82e-e781f7a09554"
   },
   "outputs": [
    {
     "data": {
      "image/png": "[encoded data removed]",
      "text/plain": [
       "<Figure size 432x288 with 1 Axes>"
      ]
     },
     "metadata": {
      "needs_background": "light"
     },
     "output_type": "display_data"
    }
   ],
   "source": [
    "for batch in range(1):\n",
    "    x_,y_=sess.run(next_element)\n",
    "    plt.imshow(x_)"
   ]
  }
 ],
 "metadata": {
  "colab": {
   "name": "DL-3.ipynb",
   "provenance": [],
   "version": "0.3.2"
  },
  "kernelspec": {
   "display_name": "Python 3",
   "language": "python",
   "name": "python3"
  },
  "language_info": {
   "codemirror_mode": {
    "name": "ipython",
    "version": 3
   },
   "file_extension": ".py",
   "mimetype": "text/x-python",
   "name": "python",
   "nbconvert_exporter": "python",
   "pygments_lexer": "ipython3",
   "version": "3.6.8"
  }
 },
 "nbformat": 4,
 "nbformat_minor": 1
}
