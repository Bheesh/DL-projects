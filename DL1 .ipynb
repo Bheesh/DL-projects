{
  "nbformat": 4,
  "nbformat_minor": 0,
  "metadata": {
    "colab": {
      "name": "DL1.ipynb",
      "version": "0.3.2",
      "provenance": [],
      "collapsed_sections": []
    },
    "kernelspec": {
      "name": "python3",
      "display_name": "Python 3"
    },
    "accelerator": "TPU"
  },
  "cells": [
    {
      "metadata": {
        "id": "L_rsmF7V01Fd",
        "colab_type": "code",
        "outputId": "d8aab2da-1d82-4cda-f846-2960a0f7d7ef",
        "colab": {
          "base_uri": "https://localhost:8080/",
          "height": 33
        }
      },
      "cell_type": "code",
      "source": [
        "# if you keras is not using tensorflow as backend set \"KERAS_BACKEND=tensorflow\" use this command\n",
        "from keras.utils import np_utils \n",
        "from keras.datasets import mnist \n",
        "import seaborn as sns\n",
        "from keras.initializers import RandomNormal"
      ],
      "execution_count": 1,
      "outputs": [
        {
          "output_type": "stream",
          "text": [
            "Using TensorFlow backend.\n"
          ],
          "name": "stderr"
        }
      ]
    },
    {
      "metadata": {
        "id": "ojWnY3RdFVPc",
        "colab_type": "code",
        "colab": {}
      },
      "cell_type": "code",
      "source": [
        "%matplotlib notebook\n",
        "%matplotlib inline\n",
        "import matplotlib.pyplot as plt\n",
        "#plt.switch_backend(\"TkAgg\")\n",
        "#sudo yum install tcl tcl-devel tk tk-devel agg agg-devel\n",
        "#sudo apt-get install tk-dev libpng-dev libffi-dev dvipng texlive-latex-base\n",
        "import numpy as np\n",
        "import time\n",
        "# https://gist.github.com/greydanus/f6eee59eaf1d90fcb3b534a25362cea4\n",
        "# https://stackoverflow.com/a/14434334\n",
        "# this function is used to update the plots for each epoch and error\n"
      ],
      "execution_count": 0,
      "outputs": []
    },
    {
      "metadata": {
        "id": "9XNiNsL1uFYG",
        "colab_type": "code",
        "colab": {}
      },
      "cell_type": "code",
      "source": [
        "def plt_dynamic(x, vy, ty, ax, colors=['b']):\n",
        "    ax.plot(x, vy, 'b', label=\"Validation Loss\")\n",
        "    ax.plot(x, ty, 'r', label=\"Train Loss\")\n",
        "    plt.legend()\n",
        "    plt.grid()\n",
        "    fig.canvas.draw()"
      ],
      "execution_count": 0,
      "outputs": []
    },
    {
      "metadata": {
        "id": "1-WeumfhFVUz",
        "colab_type": "code",
        "outputId": "dc07118b-0a38-4d82-e626-ab7633788bc4",
        "colab": {
          "base_uri": "https://localhost:8080/",
          "height": 50
        }
      },
      "cell_type": "code",
      "source": [
        "# the data, shuffled and split between train and test sets \n",
        "(X_train, y_train), (X_test, y_test) = mnist.load_data()"
      ],
      "execution_count": 5,
      "outputs": [
        {
          "output_type": "stream",
          "text": [
            "Downloading data from https://s3.amazonaws.com/img-datasets/mnist.npz\n",
            "11493376/11490434 [==============================] - 0s 0us/step\n"
          ],
          "name": "stdout"
        }
      ]
    },
    {
      "metadata": {
        "id": "dSRH2RaLFVXj",
        "colab_type": "code",
        "outputId": "ed95da56-f5ed-45f8-e6a8-d9e8ff475686",
        "colab": {
          "base_uri": "https://localhost:8080/",
          "height": 50
        }
      },
      "cell_type": "code",
      "source": [
        "print(\"Number of training examples :\", X_train.shape[0], \"and each image is of shape (%d, %d)\"%(X_train.shape[1], X_train.shape[2]))\n",
        "print(\"Number of training examples :\", X_test.shape[0], \"and each image is of shape (%d, %d)\"%(X_test.shape[1], X_test.shape[2]))"
      ],
      "execution_count": 6,
      "outputs": [
        {
          "output_type": "stream",
          "text": [
            "Number of training examples : 60000 and each image is of shape (28, 28)\n",
            "Number of training examples : 10000 and each image is of shape (28, 28)\n"
          ],
          "name": "stdout"
        }
      ]
    },
    {
      "metadata": {
        "id": "_RT_mFpcFVZ7",
        "colab_type": "code",
        "colab": {}
      },
      "cell_type": "code",
      "source": [
        "# if you observe the input shape its 3 dimensional vector\n",
        "# for each image we have a (28*28) vector\n",
        "# we will convert the (28*28) vector into single dimensional vector of 1 * 784 \n",
        "\n",
        "X_train = X_train.reshape(X_train.shape[0], X_train.shape[1]*X_train.shape[2]) \n",
        "X_test = X_test.reshape(X_test.shape[0], X_test.shape[1]*X_test.shape[2]) "
      ],
      "execution_count": 0,
      "outputs": []
    },
    {
      "metadata": {
        "id": "ClES_7mvFVcr",
        "colab_type": "code",
        "outputId": "35c86d53-af22-4c7d-ffbb-f376333a8fa7",
        "colab": {
          "base_uri": "https://localhost:8080/",
          "height": 50
        }
      },
      "cell_type": "code",
      "source": [
        "# after converting the input images from 3d to 2d vectors\n",
        "\n",
        "print(\"Number of training examples :\", X_train.shape[0], \"and each image is of shape (%d)\"%(X_train.shape[1]))\n",
        "print(\"Number of training examples :\", X_test.shape[0], \"and each image is of shape (%d)\"%(X_test.shape[1]))"
      ],
      "execution_count": 8,
      "outputs": [
        {
          "output_type": "stream",
          "text": [
            "Number of training examples : 60000 and each image is of shape (784)\n",
            "Number of training examples : 10000 and each image is of shape (784)\n"
          ],
          "name": "stdout"
        }
      ]
    },
    {
      "metadata": {
        "id": "puGE4zzDFVfN",
        "colab_type": "code",
        "outputId": "07fdfc27-75e1-4f1f-e61d-fa8dc5d0d50f",
        "colab": {
          "base_uri": "https://localhost:8080/",
          "height": 732
        }
      },
      "cell_type": "code",
      "source": [
        "# An example data point\n",
        "print(X_train[2])"
      ],
      "execution_count": 9,
      "outputs": [
        {
          "output_type": "stream",
          "text": [
            "[  0   0   0   0   0   0   0   0   0   0   0   0   0   0   0   0   0   0\n",
            "   0   0   0   0   0   0   0   0   0   0   0   0   0   0   0   0   0   0\n",
            "   0   0   0   0   0   0   0   0   0   0   0   0   0   0   0   0   0   0\n",
            "   0   0   0   0   0   0   0   0   0   0   0   0   0   0   0   0   0   0\n",
            "   0   0   0   0   0   0   0   0   0   0   0   0   0   0   0   0   0   0\n",
            "   0   0   0   0   0   0   0   0   0   0   0   0   0   0   0   0   0   0\n",
            "   0   0   0   0   0   0   0   0   0   0   0   0   0   0   0   0   0   0\n",
            "   0   0   0   0   0   0   0   0   0   0   0   0   0   0   0   0   0   0\n",
            "   0   0   0   0   0   0   0   0   0   0   0   0   0   0   0   0  67 232\n",
            "  39   0   0   0   0   0   0   0   0   0  62  81   0   0   0   0   0   0\n",
            "   0   0   0   0   0   0   0   0 120 180  39   0   0   0   0   0   0   0\n",
            "   0   0 126 163   0   0   0   0   0   0   0   0   0   0   0   0   0   2\n",
            " 153 210  40   0   0   0   0   0   0   0   0   0 220 163   0   0   0   0\n",
            "   0   0   0   0   0   0   0   0   0  27 254 162   0   0   0   0   0   0\n",
            "   0   0   0   0 222 163   0   0   0   0   0   0   0   0   0   0   0   0\n",
            "   0 183 254 125   0   0   0   0   0   0   0   0   0  46 245 163   0   0\n",
            "   0   0   0   0   0   0   0   0   0   0   0 198 254  56   0   0   0   0\n",
            "   0   0   0   0   0 120 254 163   0   0   0   0   0   0   0   0   0   0\n",
            "   0   0  23 231 254  29   0   0   0   0   0   0   0   0   0 159 254 120\n",
            "   0   0   0   0   0   0   0   0   0   0   0   0 163 254 216  16   0   0\n",
            "   0   0   0   0   0   0   0 159 254  67   0   0   0   0   0   0   0   0\n",
            "   0  14  86 178 248 254  91   0   0   0   0   0   0   0   0   0   0 159\n",
            " 254  85   0   0   0  47  49 116 144 150 241 243 234 179 241 252  40   0\n",
            "   0   0   0   0   0   0   0   0   0 150 253 237 207 207 207 253 254 250\n",
            " 240 198 143  91  28   5 233 250   0   0   0   0   0   0   0   0   0   0\n",
            "   0   0 119 177 177 177 177 177  98  56   0   0   0   0   0 102 254 220\n",
            "   0   0   0   0   0   0   0   0   0   0   0   0   0   0   0   0   0   0\n",
            "   0   0   0   0   0   0   0 169 254 137   0   0   0   0   0   0   0   0\n",
            "   0   0   0   0   0   0   0   0   0   0   0   0   0   0   0   0   0 169\n",
            " 254  57   0   0   0   0   0   0   0   0   0   0   0   0   0   0   0   0\n",
            "   0   0   0   0   0   0   0   0   0 169 254  57   0   0   0   0   0   0\n",
            "   0   0   0   0   0   0   0   0   0   0   0   0   0   0   0   0   0   0\n",
            "   0 169 255  94   0   0   0   0   0   0   0   0   0   0   0   0   0   0\n",
            "   0   0   0   0   0   0   0   0   0   0   0 169 254  96   0   0   0   0\n",
            "   0   0   0   0   0   0   0   0   0   0   0   0   0   0   0   0   0   0\n",
            "   0   0   0 169 254 153   0   0   0   0   0   0   0   0   0   0   0   0\n",
            "   0   0   0   0   0   0   0   0   0   0   0   0   0 169 255 153   0   0\n",
            "   0   0   0   0   0   0   0   0   0   0   0   0   0   0   0   0   0   0\n",
            "   0   0   0   0   0  96 254 153   0   0   0   0   0   0   0   0   0   0\n",
            "   0   0   0   0   0   0   0   0   0   0   0   0   0   0   0   0   0   0\n",
            "   0   0   0   0   0   0   0   0   0   0   0   0   0   0   0   0   0   0\n",
            "   0   0   0   0   0   0   0   0   0   0   0   0   0   0   0   0   0   0\n",
            "   0   0   0   0   0   0   0   0   0   0   0   0   0   0   0   0   0   0\n",
            "   0   0   0   0   0   0   0   0   0   0]\n"
          ],
          "name": "stdout"
        }
      ]
    },
    {
      "metadata": {
        "id": "TwA0Yz9xFViO",
        "colab_type": "code",
        "colab": {}
      },
      "cell_type": "code",
      "source": [
        "# if we observe the above matrix each cell is having a value between 0-255\n",
        "# before we move to apply machine learning algorithms lets try to normalize the data\n",
        "# X => (X - Xmin)/(Xmax-Xmin) = X/255\n",
        "\n",
        "X_train = X_train/255\n",
        "X_test = X_test/255"
      ],
      "execution_count": 0,
      "outputs": []
    },
    {
      "metadata": {
        "id": "10TiYYiIFVk7",
        "colab_type": "code",
        "outputId": "a40ed572-1c5c-4daf-9064-2d3151ce9996",
        "colab": {
          "base_uri": "https://localhost:8080/",
          "height": 2146
        }
      },
      "cell_type": "code",
      "source": [
        "# example data point after normlizing\n",
        "print(X_train[2])"
      ],
      "execution_count": 11,
      "outputs": [
        {
          "output_type": "stream",
          "text": [
            "[0.         0.         0.         0.         0.         0.\n",
            " 0.         0.         0.         0.         0.         0.\n",
            " 0.         0.         0.         0.         0.         0.\n",
            " 0.         0.         0.         0.         0.         0.\n",
            " 0.         0.         0.         0.         0.         0.\n",
            " 0.         0.         0.         0.         0.         0.\n",
            " 0.         0.         0.         0.         0.         0.\n",
            " 0.         0.         0.         0.         0.         0.\n",
            " 0.         0.         0.         0.         0.         0.\n",
            " 0.         0.         0.         0.         0.         0.\n",
            " 0.         0.         0.         0.         0.         0.\n",
            " 0.         0.         0.         0.         0.         0.\n",
            " 0.         0.         0.         0.         0.         0.\n",
            " 0.         0.         0.         0.         0.         0.\n",
            " 0.         0.         0.         0.         0.         0.\n",
            " 0.         0.         0.         0.         0.         0.\n",
            " 0.         0.         0.         0.         0.         0.\n",
            " 0.         0.         0.         0.         0.         0.\n",
            " 0.         0.         0.         0.         0.         0.\n",
            " 0.         0.         0.         0.         0.         0.\n",
            " 0.         0.         0.         0.         0.         0.\n",
            " 0.         0.         0.         0.         0.         0.\n",
            " 0.         0.         0.         0.         0.         0.\n",
            " 0.         0.         0.         0.         0.         0.\n",
            " 0.         0.         0.         0.         0.         0.\n",
            " 0.         0.         0.         0.         0.         0.\n",
            " 0.         0.         0.         0.         0.2627451  0.90980392\n",
            " 0.15294118 0.         0.         0.         0.         0.\n",
            " 0.         0.         0.         0.         0.24313725 0.31764706\n",
            " 0.         0.         0.         0.         0.         0.\n",
            " 0.         0.         0.         0.         0.         0.\n",
            " 0.         0.         0.47058824 0.70588235 0.15294118 0.\n",
            " 0.         0.         0.         0.         0.         0.\n",
            " 0.         0.         0.49411765 0.63921569 0.         0.\n",
            " 0.         0.         0.         0.         0.         0.\n",
            " 0.         0.         0.         0.         0.         0.00784314\n",
            " 0.6        0.82352941 0.15686275 0.         0.         0.\n",
            " 0.         0.         0.         0.         0.         0.\n",
            " 0.8627451  0.63921569 0.         0.         0.         0.\n",
            " 0.         0.         0.         0.         0.         0.\n",
            " 0.         0.         0.         0.10588235 0.99607843 0.63529412\n",
            " 0.         0.         0.         0.         0.         0.\n",
            " 0.         0.         0.         0.         0.87058824 0.63921569\n",
            " 0.         0.         0.         0.         0.         0.\n",
            " 0.         0.         0.         0.         0.         0.\n",
            " 0.         0.71764706 0.99607843 0.49019608 0.         0.\n",
            " 0.         0.         0.         0.         0.         0.\n",
            " 0.         0.18039216 0.96078431 0.63921569 0.         0.\n",
            " 0.         0.         0.         0.         0.         0.\n",
            " 0.         0.         0.         0.         0.         0.77647059\n",
            " 0.99607843 0.21960784 0.         0.         0.         0.\n",
            " 0.         0.         0.         0.         0.         0.47058824\n",
            " 0.99607843 0.63921569 0.         0.         0.         0.\n",
            " 0.         0.         0.         0.         0.         0.\n",
            " 0.         0.         0.09019608 0.90588235 0.99607843 0.11372549\n",
            " 0.         0.         0.         0.         0.         0.\n",
            " 0.         0.         0.         0.62352941 0.99607843 0.47058824\n",
            " 0.         0.         0.         0.         0.         0.\n",
            " 0.         0.         0.         0.         0.         0.\n",
            " 0.63921569 0.99607843 0.84705882 0.0627451  0.         0.\n",
            " 0.         0.         0.         0.         0.         0.\n",
            " 0.         0.62352941 0.99607843 0.2627451  0.         0.\n",
            " 0.         0.         0.         0.         0.         0.\n",
            " 0.         0.05490196 0.3372549  0.69803922 0.97254902 0.99607843\n",
            " 0.35686275 0.         0.         0.         0.         0.\n",
            " 0.         0.         0.         0.         0.         0.62352941\n",
            " 0.99607843 0.33333333 0.         0.         0.         0.18431373\n",
            " 0.19215686 0.45490196 0.56470588 0.58823529 0.94509804 0.95294118\n",
            " 0.91764706 0.70196078 0.94509804 0.98823529 0.15686275 0.\n",
            " 0.         0.         0.         0.         0.         0.\n",
            " 0.         0.         0.         0.58823529 0.99215686 0.92941176\n",
            " 0.81176471 0.81176471 0.81176471 0.99215686 0.99607843 0.98039216\n",
            " 0.94117647 0.77647059 0.56078431 0.35686275 0.10980392 0.01960784\n",
            " 0.91372549 0.98039216 0.         0.         0.         0.\n",
            " 0.         0.         0.         0.         0.         0.\n",
            " 0.         0.         0.46666667 0.69411765 0.69411765 0.69411765\n",
            " 0.69411765 0.69411765 0.38431373 0.21960784 0.         0.\n",
            " 0.         0.         0.         0.4        0.99607843 0.8627451\n",
            " 0.         0.         0.         0.         0.         0.\n",
            " 0.         0.         0.         0.         0.         0.\n",
            " 0.         0.         0.         0.         0.         0.\n",
            " 0.         0.         0.         0.         0.         0.\n",
            " 0.         0.6627451  0.99607843 0.5372549  0.         0.\n",
            " 0.         0.         0.         0.         0.         0.\n",
            " 0.         0.         0.         0.         0.         0.\n",
            " 0.         0.         0.         0.         0.         0.\n",
            " 0.         0.         0.         0.         0.         0.6627451\n",
            " 0.99607843 0.22352941 0.         0.         0.         0.\n",
            " 0.         0.         0.         0.         0.         0.\n",
            " 0.         0.         0.         0.         0.         0.\n",
            " 0.         0.         0.         0.         0.         0.\n",
            " 0.         0.         0.         0.6627451  0.99607843 0.22352941\n",
            " 0.         0.         0.         0.         0.         0.\n",
            " 0.         0.         0.         0.         0.         0.\n",
            " 0.         0.         0.         0.         0.         0.\n",
            " 0.         0.         0.         0.         0.         0.\n",
            " 0.         0.6627451  1.         0.36862745 0.         0.\n",
            " 0.         0.         0.         0.         0.         0.\n",
            " 0.         0.         0.         0.         0.         0.\n",
            " 0.         0.         0.         0.         0.         0.\n",
            " 0.         0.         0.         0.         0.         0.6627451\n",
            " 0.99607843 0.37647059 0.         0.         0.         0.\n",
            " 0.         0.         0.         0.         0.         0.\n",
            " 0.         0.         0.         0.         0.         0.\n",
            " 0.         0.         0.         0.         0.         0.\n",
            " 0.         0.         0.         0.6627451  0.99607843 0.6\n",
            " 0.         0.         0.         0.         0.         0.\n",
            " 0.         0.         0.         0.         0.         0.\n",
            " 0.         0.         0.         0.         0.         0.\n",
            " 0.         0.         0.         0.         0.         0.\n",
            " 0.         0.6627451  1.         0.6        0.         0.\n",
            " 0.         0.         0.         0.         0.         0.\n",
            " 0.         0.         0.         0.         0.         0.\n",
            " 0.         0.         0.         0.         0.         0.\n",
            " 0.         0.         0.         0.         0.         0.37647059\n",
            " 0.99607843 0.6        0.         0.         0.         0.\n",
            " 0.         0.         0.         0.         0.         0.\n",
            " 0.         0.         0.         0.         0.         0.\n",
            " 0.         0.         0.         0.         0.         0.\n",
            " 0.         0.         0.         0.         0.         0.\n",
            " 0.         0.         0.         0.         0.         0.\n",
            " 0.         0.         0.         0.         0.         0.\n",
            " 0.         0.         0.         0.         0.         0.\n",
            " 0.         0.         0.         0.         0.         0.\n",
            " 0.         0.         0.         0.         0.         0.\n",
            " 0.         0.         0.         0.         0.         0.\n",
            " 0.         0.         0.         0.         0.         0.\n",
            " 0.         0.         0.         0.         0.         0.\n",
            " 0.         0.         0.         0.         0.         0.\n",
            " 0.         0.         0.         0.         0.         0.\n",
            " 0.         0.         0.         0.        ]\n"
          ],
          "name": "stdout"
        }
      ]
    },
    {
      "metadata": {
        "id": "wNQviH4NFVqL",
        "colab_type": "code",
        "outputId": "458c4c26-6b5e-4c6a-9262-9baa6d36bc84",
        "colab": {
          "base_uri": "https://localhost:8080/",
          "height": 50
        }
      },
      "cell_type": "code",
      "source": [
        "# here we are having a class number for each image\n",
        "print(\"Class label of first image :\", y_train[2])\n",
        "\n",
        "# lets convert this into a 10 dimensional vector\n",
        "# ex: consider an image is 5 convert it into 5 => [0, 0, 0, 0, 0, 1, 0, 0, 0, 0]\n",
        "# this conversion needed for MLPs \n",
        "\n",
        "Y_train = np_utils.to_categorical(y_train, 10) \n",
        "Y_test = np_utils.to_categorical(y_test, 10)\n",
        "\n",
        "print(\"After converting the output into a vector : \",Y_train[2])"
      ],
      "execution_count": 12,
      "outputs": [
        {
          "output_type": "stream",
          "text": [
            "Class label of first image : 4\n",
            "After converting the output into a vector :  [0. 0. 0. 0. 1. 0. 0. 0. 0. 0.]\n"
          ],
          "name": "stdout"
        }
      ]
    },
    {
      "metadata": {
        "id": "eMdqN_uOFVtD",
        "colab_type": "code",
        "colab": {}
      },
      "cell_type": "code",
      "source": [
        "# https://keras.io/getting-started/sequential-model-guide/\n",
        "\n",
        "# The Sequential model is a linear stack of layers.\n",
        "# you can create a Sequential model by passing a list of layer instances to the constructor:\n",
        "\n",
        "# model = Sequential([\n",
        "#     Dense(32, input_shape=(784,)),\n",
        "#     Activation('relu'),\n",
        "#     Dense(10),\n",
        "#     Activation('softmax'),\n",
        "# ])\n",
        "\n",
        "# You can also simply add layers via the .add() method:\n",
        "\n",
        "# model = Sequential()\n",
        "# model.add(Dense(32, input_dim=784))\n",
        "# model.add(Activation('relu'))\n",
        "\n",
        "###\n",
        "\n",
        "# https://keras.io/layers/core/\n",
        "\n",
        "# keras.layers.Dense(units, activation=None, use_bias=True, kernel_initializer='glorot_uniform', \n",
        "# bias_initializer='zeros', kernel_regularizer=None, bias_regularizer=None, activity_regularizer=None, \n",
        "# kernel_constraint=None, bias_constraint=None)\n",
        "\n",
        "# Dense implements the operation: output = activation(dot(input, kernel) + bias) where\n",
        "# activation is the element-wise activation function passed as the activation argument, \n",
        "# kernel is a weights matrix created by the layer, and \n",
        "# bias is a bias vector created by the layer (only applicable if use_bias is True).\n",
        "\n",
        "# output = activation(dot(input, kernel) + bias)  => y = activation(WT. X + b)\n",
        "\n",
        "####\n",
        "\n",
        "# https://keras.io/activations/\n",
        "\n",
        "# Activations can either be used through an Activation layer, or through the activation argument supported by all forward layers:\n",
        "\n",
        "# from keras.layers import Activation, Dense\n",
        "\n",
        "# model.add(Dense(64))\n",
        "# model.add(Activation('tanh'))\n",
        "\n",
        "# This is equivalent to:\n",
        "# model.add(Dense(64, activation='tanh'))\n",
        "\n",
        "# there are many activation functions ar available ex: tanh, relu, softmax\n",
        "\n",
        "\n",
        "from keras.models import Sequential \n",
        "from keras.layers import Dense, Activation \n"
      ],
      "execution_count": 0,
      "outputs": []
    },
    {
      "metadata": {
        "id": "OAPXuw7GIM4W",
        "colab_type": "code",
        "colab": {}
      },
      "cell_type": "code",
      "source": [
        "# some model parameters\n",
        "\n",
        "output_dim = 10\n",
        "input_dim = X_train.shape[1]\n",
        "\n",
        "batch_size = 128 \n",
        "nb_epoch = 20"
      ],
      "execution_count": 0,
      "outputs": []
    },
    {
      "metadata": {
        "id": "XLpIfNyqIM7w",
        "colab_type": "code",
        "outputId": "e2910a9d-c201-4c14-c334-3cfe7846a31c",
        "colab": {
          "base_uri": "https://localhost:8080/",
          "height": 66
        }
      },
      "cell_type": "code",
      "source": [
        "# start building a model\n",
        "model = Sequential()\n",
        "\n",
        "# The model needs to know what input shape it should expect. \n",
        "# For this reason, the first layer in a Sequential model \n",
        "# (and only the first, because following layers can do automatic shape inference)\n",
        "# needs to receive information about its input shape. \n",
        "# you can use input_shape and input_dim to pass the shape of input\n",
        "\n",
        "# output_dim represent the number of nodes need in that layer\n",
        "# here we have 10 nodes\n",
        "\n",
        "model.add(Dense(output_dim, input_dim=input_dim, activation='softmax'))"
      ],
      "execution_count": 15,
      "outputs": [
        {
          "output_type": "stream",
          "text": [
            "WARNING:tensorflow:From /usr/local/lib/python3.6/dist-packages/tensorflow/python/framework/op_def_library.py:263: colocate_with (from tensorflow.python.framework.ops) is deprecated and will be removed in a future version.\n",
            "Instructions for updating:\n",
            "Colocations handled automatically by placer.\n"
          ],
          "name": "stdout"
        }
      ]
    },
    {
      "metadata": {
        "id": "O8BZYzn-INEd",
        "colab_type": "code",
        "outputId": "de93c63f-3ee3-489e-c50e-3dc4b010b816",
        "colab": {
          "base_uri": "https://localhost:8080/",
          "height": 732
        }
      },
      "cell_type": "code",
      "source": [
        "# Before training a model, you need to configure the learning process, which is done via the compile method\n",
        "\n",
        "# It receives three arguments:\n",
        "# An optimizer. This could be the string identifier of an existing optimizer , https://keras.io/optimizers/\n",
        "# A loss function. This is the objective that the model will try to minimize., https://keras.io/losses/\n",
        "# A list of metrics. For any classification problem you will want to set this to metrics=['accuracy'].  https://keras.io/metrics/\n",
        "\n",
        "\n",
        "# Note: when using the categorical_crossentropy loss, your targets should be in categorical format \n",
        "# (e.g. if you have 10 classes, the target for each sample should be a 10-dimensional vector that is all-zeros except \n",
        "# for a 1 at the index corresponding to the class of the sample).\n",
        "\n",
        "# that is why we converted out labels into vectors\n",
        "\n",
        "model.compile(optimizer='sgd', loss='categorical_crossentropy', metrics=['accuracy'])\n",
        "\n",
        "# Keras models are trained on Numpy arrays of input data and labels. \n",
        "# For training a model, you will typically use the  fit function\n",
        "\n",
        "# fit(self, x=None, y=None, batch_size=None, epochs=1, verbose=1, callbacks=None, validation_split=0.0, \n",
        "# validation_data=None, shuffle=True, class_weight=None, sample_weight=None, initial_epoch=0, steps_per_epoch=None, \n",
        "# validation_steps=None)\n",
        "\n",
        "# fit() function Trains the model for a fixed number of epochs (iterations on a dataset).\n",
        "\n",
        "# it returns A History object. Its History.history attribute is a record of training loss values and \n",
        "# metrics values at successive epochs, as well as validation loss values and validation metrics values (if applicable).\n",
        "\n",
        "# https://github.com/openai/baselines/issues/20\n",
        "\n",
        "history = model.fit(X_train, Y_train, batch_size=batch_size, epochs=nb_epoch, verbose=1, validation_data=(X_test, Y_test)) \n"
      ],
      "execution_count": 16,
      "outputs": [
        {
          "output_type": "stream",
          "text": [
            "WARNING:tensorflow:From /usr/local/lib/python3.6/dist-packages/tensorflow/python/ops/math_ops.py:3066: to_int32 (from tensorflow.python.ops.math_ops) is deprecated and will be removed in a future version.\n",
            "Instructions for updating:\n",
            "Use tf.cast instead.\n",
            "Train on 60000 samples, validate on 10000 samples\n",
            "Epoch 1/20\n",
            "60000/60000 [==============================] - 2s 38us/step - loss: 1.2476 - acc: 0.7168 - val_loss: 0.7993 - val_acc: 0.8362\n",
            "Epoch 2/20\n",
            "60000/60000 [==============================] - 2s 27us/step - loss: 0.7070 - acc: 0.8451 - val_loss: 0.6022 - val_acc: 0.8634\n",
            "Epoch 3/20\n",
            "60000/60000 [==============================] - 2s 27us/step - loss: 0.5823 - acc: 0.8607 - val_loss: 0.5227 - val_acc: 0.8749\n",
            "Epoch 4/20\n",
            "60000/60000 [==============================] - 2s 26us/step - loss: 0.5221 - acc: 0.8703 - val_loss: 0.4779 - val_acc: 0.8828\n",
            "Epoch 5/20\n",
            "60000/60000 [==============================] - 2s 27us/step - loss: 0.4854 - acc: 0.8760 - val_loss: 0.4487 - val_acc: 0.8871\n",
            "Epoch 6/20\n",
            "60000/60000 [==============================] - 2s 26us/step - loss: 0.4601 - acc: 0.8811 - val_loss: 0.4281 - val_acc: 0.8907\n",
            "Epoch 7/20\n",
            "60000/60000 [==============================] - 2s 26us/step - loss: 0.4413 - acc: 0.8840 - val_loss: 0.4118 - val_acc: 0.8935\n",
            "Epoch 8/20\n",
            "60000/60000 [==============================] - 2s 27us/step - loss: 0.4266 - acc: 0.8869 - val_loss: 0.3996 - val_acc: 0.8958\n",
            "Epoch 9/20\n",
            "60000/60000 [==============================] - 2s 26us/step - loss: 0.4147 - acc: 0.8896 - val_loss: 0.3893 - val_acc: 0.8974\n",
            "Epoch 10/20\n",
            "60000/60000 [==============================] - 2s 26us/step - loss: 0.4049 - acc: 0.8911 - val_loss: 0.3810 - val_acc: 0.8988\n",
            "Epoch 11/20\n",
            "60000/60000 [==============================] - 1s 25us/step - loss: 0.3965 - acc: 0.8927 - val_loss: 0.3736 - val_acc: 0.9018\n",
            "Epoch 12/20\n",
            "60000/60000 [==============================] - 2s 26us/step - loss: 0.3894 - acc: 0.8946 - val_loss: 0.3673 - val_acc: 0.9025\n",
            "Epoch 13/20\n",
            "60000/60000 [==============================] - 2s 26us/step - loss: 0.3831 - acc: 0.8957 - val_loss: 0.3616 - val_acc: 0.9036\n",
            "Epoch 14/20\n",
            "60000/60000 [==============================] - 1s 24us/step - loss: 0.3775 - acc: 0.8969 - val_loss: 0.3567 - val_acc: 0.9038\n",
            "Epoch 15/20\n",
            "60000/60000 [==============================] - 1s 25us/step - loss: 0.3726 - acc: 0.8980 - val_loss: 0.3521 - val_acc: 0.9050\n",
            "Epoch 16/20\n",
            "60000/60000 [==============================] - 1s 25us/step - loss: 0.3681 - acc: 0.8992 - val_loss: 0.3485 - val_acc: 0.9057\n",
            "Epoch 17/20\n",
            "60000/60000 [==============================] - 2s 25us/step - loss: 0.3641 - acc: 0.8998 - val_loss: 0.3450 - val_acc: 0.9054\n",
            "Epoch 18/20\n",
            "60000/60000 [==============================] - 1s 24us/step - loss: 0.3603 - acc: 0.9001 - val_loss: 0.3417 - val_acc: 0.9070\n",
            "Epoch 19/20\n",
            "60000/60000 [==============================] - 1s 23us/step - loss: 0.3569 - acc: 0.9013 - val_loss: 0.3387 - val_acc: 0.9080\n",
            "Epoch 20/20\n",
            "60000/60000 [==============================] - 1s 24us/step - loss: 0.3538 - acc: 0.9020 - val_loss: 0.3362 - val_acc: 0.9084\n"
          ],
          "name": "stdout"
        }
      ]
    },
    {
      "metadata": {
        "id": "wmHWrddOINHf",
        "colab_type": "code",
        "outputId": "447072b1-14b3-4df8-ed93-2e936fa52bfd",
        "colab": {
          "base_uri": "https://localhost:8080/",
          "height": 312
        }
      },
      "cell_type": "code",
      "source": [
        "score = model.evaluate(X_test, Y_test, verbose=0) \n",
        "print('Test score:', score[0]) \n",
        "print('Test accuracy:', score[1])\n",
        "\n",
        "fig,ax = plt.subplots(1,1)\n",
        "ax.set_xlabel('epoch') ; ax.set_ylabel('Categorical Crossentropy Loss')\n",
        "\n",
        "# list of epoch numbers\n",
        "x = list(range(1,nb_epoch+1))\n",
        "\n",
        "# print(history.history.keys())\n",
        "# dict_keys(['val_loss', 'val_acc', 'loss', 'acc'])\n",
        "# history = model_drop.fit(X_train, Y_train, batch_size=batch_size, epochs=nb_epoch, verbose=1, validation_data=(X_test, Y_test))\n",
        "\n",
        "# we will get val_loss and val_acc only when you pass the paramter validation_data\n",
        "# val_loss : validation loss\n",
        "# val_acc : validation accuracy\n",
        "\n",
        "# loss : training loss\n",
        "# acc : train accuracy\n",
        "# for each key in histrory.histrory we will have a list of length equal to number of epochs\n",
        "\n",
        "vy = history.history['val_loss']\n",
        "ty = history.history['loss']\n",
        "plt_dynamic(x, vy, ty, ax)"
      ],
      "execution_count": 24,
      "outputs": [
        {
          "output_type": "stream",
          "text": [
            "Test score: 0.3362338714301586\n",
            "Test accuracy: 0.9084\n"
          ],
          "name": "stdout"
        },
        {
          "output_type": "display_data",
          "data": {
            "image/png": "[encoded data removed]",
            "text/plain": [
              "<Figure size 432x288 with 1 Axes>"
            ]
          },
          "metadata": {
            "tags": []
          }
        }
      ]
    },
    {
      "metadata": {
        "id": "4VHvvi29xpUk",
        "colab_type": "text"
      },
      "cell_type": "markdown",
      "source": [
        "MLP + Sigmoid activation + SGDOptimizer\n"
      ]
    },
    {
      "metadata": {
        "id": "oe35N5hOINKp",
        "colab_type": "code",
        "outputId": "970a9ae8-2ddd-4c34-fa85-4e3285137548",
        "colab": {
          "base_uri": "https://localhost:8080/",
          "height": 293
        }
      },
      "cell_type": "code",
      "source": [
        "# Multilayer perceptron\n",
        "\n",
        "model_sigmoid = Sequential()\n",
        "model_sigmoid.add(Dense(512, activation='sigmoid', input_shape=(input_dim,)))\n",
        "model_sigmoid.add(Dense(128, activation='sigmoid'))\n",
        "model_sigmoid.add(Dense(64, activation='sigmoid'))\n",
        "\n",
        "model_sigmoid.add(Dropout(0.75))\n",
        "\n",
        "model_sigmoid.add(Dense(output_dim, activation='softmax'))\n",
        "\n",
        "model_sigmoid.summary()"
      ],
      "execution_count": 51,
      "outputs": [
        {
          "output_type": "stream",
          "text": [
            "_________________________________________________________________\n",
            "Layer (type)                 Output Shape              Param #   \n",
            "=================================================================\n",
            "dense_34 (Dense)             (None, 512)               401920    \n",
            "_________________________________________________________________\n",
            "dense_35 (Dense)             (None, 128)               65664     \n",
            "_________________________________________________________________\n",
            "dense_36 (Dense)             (None, 64)                8256      \n",
            "_________________________________________________________________\n",
            "dropout_7 (Dropout)          (None, 64)                0         \n",
            "_________________________________________________________________\n",
            "dense_37 (Dense)             (None, 10)                650       \n",
            "=================================================================\n",
            "Total params: 476,490\n",
            "Trainable params: 476,490\n",
            "Non-trainable params: 0\n",
            "_________________________________________________________________\n"
          ],
          "name": "stdout"
        }
      ]
    },
    {
      "metadata": {
        "id": "uIkY1KObxuCG",
        "colab_type": "code",
        "outputId": "3ca54f6a-1523-4947-bf0c-44da2c755ff9",
        "colab": {
          "base_uri": "https://localhost:8080/",
          "height": 683
        }
      },
      "cell_type": "code",
      "source": [
        "model_sigmoid.compile(optimizer='sgd', loss='categorical_crossentropy', metrics=['accuracy'])\n",
        "\n",
        "history = model_sigmoid.fit(X_train, Y_train, batch_size=batch_size, epochs=nb_epoch, verbose=1, validation_data=(X_test, Y_test))"
      ],
      "execution_count": 52,
      "outputs": [
        {
          "output_type": "stream",
          "text": [
            "Train on 60000 samples, validate on 10000 samples\n",
            "Epoch 1/20\n",
            "60000/60000 [==============================] - 7s 125us/step - loss: 2.5814 - acc: 0.1010 - val_loss: 2.2982 - val_acc: 0.1135\n",
            "Epoch 2/20\n",
            "60000/60000 [==============================] - 6s 100us/step - loss: 2.3759 - acc: 0.1011 - val_loss: 2.2974 - val_acc: 0.1135\n",
            "Epoch 3/20\n",
            "60000/60000 [==============================] - 6s 107us/step - loss: 2.3372 - acc: 0.1035 - val_loss: 2.2974 - val_acc: 0.1135\n",
            "Epoch 4/20\n",
            "60000/60000 [==============================] - 7s 109us/step - loss: 2.3207 - acc: 0.1068 - val_loss: 2.2974 - val_acc: 0.1135\n",
            "Epoch 5/20\n",
            "60000/60000 [==============================] - 6s 101us/step - loss: 2.3145 - acc: 0.1078 - val_loss: 2.2974 - val_acc: 0.1135\n",
            "Epoch 6/20\n",
            "60000/60000 [==============================] - 6s 101us/step - loss: 2.3115 - acc: 0.1053 - val_loss: 2.2974 - val_acc: 0.1135\n",
            "Epoch 7/20\n",
            "60000/60000 [==============================] - 6s 100us/step - loss: 2.3084 - acc: 0.1065 - val_loss: 2.2974 - val_acc: 0.1135\n",
            "Epoch 8/20\n",
            "60000/60000 [==============================] - 6s 103us/step - loss: 2.3066 - acc: 0.1087 - val_loss: 2.2974 - val_acc: 0.1135\n",
            "Epoch 9/20\n",
            "60000/60000 [==============================] - 6s 101us/step - loss: 2.3054 - acc: 0.1086 - val_loss: 2.2974 - val_acc: 0.1135\n",
            "Epoch 10/20\n",
            "60000/60000 [==============================] - 6s 104us/step - loss: 2.3052 - acc: 0.1088 - val_loss: 2.2973 - val_acc: 0.1135\n",
            "Epoch 11/20\n",
            "60000/60000 [==============================] - 6s 105us/step - loss: 2.3040 - acc: 0.1106 - val_loss: 2.2973 - val_acc: 0.1135\n",
            "Epoch 12/20\n",
            "60000/60000 [==============================] - 6s 104us/step - loss: 2.3038 - acc: 0.1084 - val_loss: 2.2973 - val_acc: 0.1135\n",
            "Epoch 13/20\n",
            "60000/60000 [==============================] - 6s 103us/step - loss: 2.3026 - acc: 0.1084 - val_loss: 2.2972 - val_acc: 0.1135\n",
            "Epoch 14/20\n",
            "60000/60000 [==============================] - 6s 104us/step - loss: 2.3029 - acc: 0.1116 - val_loss: 2.2971 - val_acc: 0.1135\n",
            "Epoch 15/20\n",
            "60000/60000 [==============================] - 6s 103us/step - loss: 2.3015 - acc: 0.1110 - val_loss: 2.2970 - val_acc: 0.1135\n",
            "Epoch 16/20\n",
            "60000/60000 [==============================] - 6s 103us/step - loss: 2.3017 - acc: 0.1124 - val_loss: 2.2969 - val_acc: 0.1135\n",
            "Epoch 17/20\n",
            "60000/60000 [==============================] - 6s 102us/step - loss: 2.3016 - acc: 0.1120 - val_loss: 2.2968 - val_acc: 0.1135\n",
            "Epoch 18/20\n",
            "60000/60000 [==============================] - 6s 103us/step - loss: 2.3017 - acc: 0.1099 - val_loss: 2.2968 - val_acc: 0.1135\n",
            "Epoch 19/20\n",
            "60000/60000 [==============================] - 7s 113us/step - loss: 2.3005 - acc: 0.1118 - val_loss: 2.2967 - val_acc: 0.1135\n",
            "Epoch 20/20\n",
            "60000/60000 [==============================] - 6s 105us/step - loss: 2.3002 - acc: 0.1149 - val_loss: 2.2965 - val_acc: 0.1135\n"
          ],
          "name": "stdout"
        }
      ]
    },
    {
      "metadata": {
        "id": "YuuM6ajjTnes",
        "colab_type": "text"
      },
      "cell_type": "markdown",
      "source": [
        "No dropout"
      ]
    },
    {
      "metadata": {
        "id": "s2dqO0IUTmLB",
        "colab_type": "code",
        "colab": {
          "base_uri": "https://localhost:8080/",
          "height": 261
        },
        "outputId": "2cd8d77a-a87d-4d33-a636-ef20824d4ba3"
      },
      "cell_type": "code",
      "source": [
        "# Multilayer perceptron\n",
        "\n",
        "model_sigmoid = Sequential()\n",
        "model_sigmoid.add(Dense(512, activation='sigmoid', input_shape=(input_dim,)))\n",
        "model_sigmoid.add(Dense(128, activation='sigmoid'))\n",
        "model_sigmoid.add(Dense(64, activation='sigmoid'))\n",
        "\n",
        "#model_sigmoid.add(Dropout(0.75))\n",
        "\n",
        "model_sigmoid.add(Dense(output_dim, activation='softmax'))\n",
        "\n",
        "model_sigmoid.summary()"
      ],
      "execution_count": 68,
      "outputs": [
        {
          "output_type": "stream",
          "text": [
            "_________________________________________________________________\n",
            "Layer (type)                 Output Shape              Param #   \n",
            "=================================================================\n",
            "dense_48 (Dense)             (None, 512)               401920    \n",
            "_________________________________________________________________\n",
            "dense_49 (Dense)             (None, 128)               65664     \n",
            "_________________________________________________________________\n",
            "dense_50 (Dense)             (None, 64)                8256      \n",
            "_________________________________________________________________\n",
            "dense_51 (Dense)             (None, 10)                650       \n",
            "=================================================================\n",
            "Total params: 476,490\n",
            "Trainable params: 476,490\n",
            "Non-trainable params: 0\n",
            "_________________________________________________________________\n"
          ],
          "name": "stdout"
        }
      ]
    },
    {
      "metadata": {
        "id": "KVyzWZBKTxc-",
        "colab_type": "code",
        "colab": {
          "base_uri": "https://localhost:8080/",
          "height": 683
        },
        "outputId": "53e12c41-d0da-4d46-89e4-df63cfbf5a8b"
      },
      "cell_type": "code",
      "source": [
        "model_sigmoid.compile(optimizer='sgd', loss='categorical_crossentropy', metrics=['accuracy'])\n",
        "\n",
        "history = model_sigmoid.fit(X_train, Y_train, batch_size=batch_size, epochs=nb_epoch, verbose=1, validation_data=(X_test, Y_test))"
      ],
      "execution_count": 69,
      "outputs": [
        {
          "output_type": "stream",
          "text": [
            "Train on 60000 samples, validate on 10000 samples\n",
            "Epoch 1/20\n",
            "60000/60000 [==============================] - 9s 143us/step - loss: 2.3163 - acc: 0.1073 - val_loss: 2.2971 - val_acc: 0.1135\n",
            "Epoch 2/20\n",
            "60000/60000 [==============================] - 6s 108us/step - loss: 2.2945 - acc: 0.1124 - val_loss: 2.2909 - val_acc: 0.1135\n",
            "Epoch 3/20\n",
            "60000/60000 [==============================] - 6s 106us/step - loss: 2.2884 - acc: 0.1158 - val_loss: 2.2841 - val_acc: 0.1135\n",
            "Epoch 4/20\n",
            "60000/60000 [==============================] - 6s 108us/step - loss: 2.2815 - acc: 0.1252 - val_loss: 2.2768 - val_acc: 0.1135\n",
            "Epoch 5/20\n",
            "60000/60000 [==============================] - 6s 108us/step - loss: 2.2733 - acc: 0.1530 - val_loss: 2.2673 - val_acc: 0.1239\n",
            "Epoch 6/20\n",
            "60000/60000 [==============================] - 6s 108us/step - loss: 2.2634 - acc: 0.1730 - val_loss: 2.2556 - val_acc: 0.1750\n",
            "Epoch 7/20\n",
            "60000/60000 [==============================] - 7s 109us/step - loss: 2.2505 - acc: 0.2274 - val_loss: 2.2410 - val_acc: 0.2078\n",
            "Epoch 8/20\n",
            "60000/60000 [==============================] - 7s 109us/step - loss: 2.2333 - acc: 0.2956 - val_loss: 2.2201 - val_acc: 0.4126\n",
            "Epoch 9/20\n",
            "60000/60000 [==============================] - 7s 111us/step - loss: 2.2091 - acc: 0.3673 - val_loss: 2.1903 - val_acc: 0.5342\n",
            "Epoch 10/20\n",
            "60000/60000 [==============================] - 7s 111us/step - loss: 2.1740 - acc: 0.4546 - val_loss: 2.1465 - val_acc: 0.4504\n",
            "Epoch 11/20\n",
            "60000/60000 [==============================] - 7s 111us/step - loss: 2.1216 - acc: 0.4836 - val_loss: 2.0815 - val_acc: 0.4662\n",
            "Epoch 12/20\n",
            "60000/60000 [==============================] - 7s 111us/step - loss: 2.0445 - acc: 0.5111 - val_loss: 1.9887 - val_acc: 0.5120\n",
            "Epoch 13/20\n",
            "60000/60000 [==============================] - 7s 111us/step - loss: 1.9412 - acc: 0.5274 - val_loss: 1.8739 - val_acc: 0.5626\n",
            "Epoch 14/20\n",
            "60000/60000 [==============================] - 7s 110us/step - loss: 1.8227 - acc: 0.5422 - val_loss: 1.7537 - val_acc: 0.5410\n",
            "Epoch 15/20\n",
            "60000/60000 [==============================] - 7s 110us/step - loss: 1.7034 - acc: 0.5461 - val_loss: 1.6367 - val_acc: 0.5944\n",
            "Epoch 16/20\n",
            "60000/60000 [==============================] - 6s 108us/step - loss: 1.5885 - acc: 0.5684 - val_loss: 1.5250 - val_acc: 0.5630\n",
            "Epoch 17/20\n",
            "60000/60000 [==============================] - 6s 108us/step - loss: 1.4775 - acc: 0.5833 - val_loss: 1.4161 - val_acc: 0.5970\n",
            "Epoch 18/20\n",
            "60000/60000 [==============================] - 6s 108us/step - loss: 1.3707 - acc: 0.6050 - val_loss: 1.3131 - val_acc: 0.6130\n",
            "Epoch 19/20\n",
            "60000/60000 [==============================] - 7s 108us/step - loss: 1.2715 - acc: 0.6224 - val_loss: 1.2182 - val_acc: 0.6450\n",
            "Epoch 20/20\n",
            "60000/60000 [==============================] - 6s 108us/step - loss: 1.1829 - acc: 0.6424 - val_loss: 1.1355 - val_acc: 0.6492\n"
          ],
          "name": "stdout"
        }
      ]
    },
    {
      "metadata": {
        "id": "0JJ4GqGbxuFR",
        "colab_type": "code",
        "outputId": "e0f53a7c-c59c-404f-ba92-fdaa61c461ff",
        "colab": {
          "base_uri": "https://localhost:8080/",
          "height": 312
        }
      },
      "cell_type": "code",
      "source": [
        "score = model_sigmoid.evaluate(X_test, Y_test, verbose=0) \n",
        "print('Test score:', score[0]) \n",
        "print('Test accuracy:', score[1])\n",
        "\n",
        "fig,ax = plt.subplots(1,1)\n",
        "ax.set_xlabel('epoch') ; ax.set_ylabel('Categorical Crossentropy Loss')\n",
        "\n",
        "# list of epoch numbers\n",
        "x = list(range(1,nb_epoch+1))\n",
        "\n",
        "# print(history.history.keys())\n",
        "# dict_keys(['val_loss', 'val_acc', 'loss', 'acc'])\n",
        "# history = model_drop.fit(X_train, Y_train, batch_size=batch_size, epochs=nb_epoch, verbose=1, validation_data=(X_test, Y_test))\n",
        "\n",
        "# we will get val_loss and val_acc only when you pass the paramter validation_data\n",
        "# val_loss : validation loss\n",
        "# val_acc : validation accuracy\n",
        "\n",
        "# loss : training loss\n",
        "# acc : train accuracy\n",
        "# for each key in histrory.histrory we will have a list of length equal to number of epochs\n",
        "\n",
        "vy = history.history['val_loss']\n",
        "ty = history.history['loss']\n",
        "plt_dynamic(x, vy, ty, ax)"
      ],
      "execution_count": 53,
      "outputs": [
        {
          "output_type": "stream",
          "text": [
            "Test score: 2.296534934616089\n",
            "Test accuracy: 0.1135\n"
          ],
          "name": "stdout"
        },
        {
          "output_type": "display_data",
          "data": {
            "image/png": "[encoded data removed]",
            "text/plain": [
              "<Figure size 432x288 with 1 Axes>"
            ]
          },
          "metadata": {
            "tags": []
          }
        }
      ]
    },
    {
      "metadata": {
        "id": "z4N3Jy15Ls2G",
        "colab_type": "text"
      },
      "cell_type": "markdown",
      "source": [
        "Before test score- 1.097 Test acc- 0.633 Acc- 0.6412 val acc- 0.663\n",
        "After test score- 2.296 Test acc- 0.113 ACC0.1149 Val acc- 0.113"
      ]
    },
    {
      "metadata": {
        "id": "5Y25iXtNxuIZ",
        "colab_type": "code",
        "outputId": "704d80cd-2aa9-4f1d-bf46-f9722d82526b",
        "colab": {
          "base_uri": "https://localhost:8080/",
          "height": 350
        }
      },
      "cell_type": "code",
      "source": [
        "w_after = model_sigmoid.get_weights()\n",
        "\n",
        "h1_w = w_after[0].flatten().reshape(-1,1)\n",
        "h2_w = w_after[2].flatten().reshape(-1,1)\n",
        "out_w = w_after[4].flatten().reshape(-1,1)\n",
        "\n",
        "\n",
        "fig = plt.figure()\n",
        "plt.title(\"Weight matrices after model trained\")\n",
        "plt.subplot(1, 3, 1)\n",
        "plt.title(\"Trained model Weights\")\n",
        "ax = sns.violinplot(y=h1_w,color='b')\n",
        "plt.xlabel('Hidden Layer 1')\n",
        "\n",
        "plt.subplot(1, 3, 2)\n",
        "plt.title(\"Trained model Weights\")\n",
        "ax = sns.violinplot(y=h2_w, color='r')\n",
        "plt.xlabel('Hidden Layer 2 ')\n",
        "\n",
        "plt.subplot(1, 3, 3)\n",
        "plt.title(\"Trained model Weights\")\n",
        "ax = sns.violinplot(y=out_w,color='y')\n",
        "plt.xlabel('Output Layer ')\n",
        "plt.show()"
      ],
      "execution_count": 54,
      "outputs": [
        {
          "output_type": "stream",
          "text": [
            "/usr/local/lib/python3.6/dist-packages/seaborn/categorical.py:588: FutureWarning: remove_na is deprecated and is a private function. Do not use.\n",
            "  kde_data = remove_na(group_data)\n",
            "/usr/local/lib/python3.6/dist-packages/seaborn/categorical.py:816: FutureWarning: remove_na is deprecated and is a private function. Do not use.\n",
            "  violin_data = remove_na(group_data)\n"
          ],
          "name": "stderr"
        },
        {
          "output_type": "display_data",
          "data": {
            "image/png": "[encoded data removed]",
            "text/plain": [
              "<Figure size 432x288 with 3 Axes>"
            ]
          },
          "metadata": {
            "tags": []
          }
        }
      ]
    },
    {
      "metadata": {
        "id": "FG-8Edyhxuq2",
        "colab_type": "code",
        "colab": {}
      },
      "cell_type": "code",
      "source": [
        ""
      ],
      "execution_count": 0,
      "outputs": []
    },
    {
      "metadata": {
        "id": "p7h7_rKuqOz9",
        "colab_type": "text"
      },
      "cell_type": "markdown",
      "source": [
        "MLP + Sigmoid activation + ADAM"
      ]
    },
    {
      "metadata": {
        "id": "_2r2oYhfFVvD",
        "colab_type": "code",
        "outputId": "aa05a61e-30ae-4687-b194-c29381625579",
        "colab": {
          "base_uri": "https://localhost:8080/",
          "height": 960
        }
      },
      "cell_type": "code",
      "source": [
        "model_sigmoid = Sequential()\n",
        "model_sigmoid.add(Dense(256, activation='sigmoid', input_shape=(input_dim,)))\n",
        "model_sigmoid.add(Dense(64, activation='sigmoid'))\n",
        "model_sigmoid.add(Dense(512, activation='sigmoid'))\n",
        "model_sigmoid.add(Dropout(0.25))\n",
        "model_sigmoid.add(Dense(output_dim, activation='softmax'))\n",
        "\n",
        "model_sigmoid.summary()\n",
        "\n",
        "model_sigmoid.compile(optimizer='adam', loss='categorical_crossentropy', metrics=['accuracy'])\n",
        "\n",
        "history = model_sigmoid.fit(X_train, Y_train, batch_size=batch_size, epochs=nb_epoch, verbose=1, validation_data=(X_test, Y_test))"
      ],
      "execution_count": 55,
      "outputs": [
        {
          "output_type": "stream",
          "text": [
            "_________________________________________________________________\n",
            "Layer (type)                 Output Shape              Param #   \n",
            "=================================================================\n",
            "dense_38 (Dense)             (None, 256)               200960    \n",
            "_________________________________________________________________\n",
            "dense_39 (Dense)             (None, 64)                16448     \n",
            "_________________________________________________________________\n",
            "dense_40 (Dense)             (None, 512)               33280     \n",
            "_________________________________________________________________\n",
            "dropout_8 (Dropout)          (None, 512)               0         \n",
            "_________________________________________________________________\n",
            "dense_41 (Dense)             (None, 10)                5130      \n",
            "=================================================================\n",
            "Total params: 255,818\n",
            "Trainable params: 255,818\n",
            "Non-trainable params: 0\n",
            "_________________________________________________________________\n",
            "Train on 60000 samples, validate on 10000 samples\n",
            "Epoch 1/20\n",
            "60000/60000 [==============================] - 8s 133us/step - loss: 0.7917 - acc: 0.7447 - val_loss: 0.2787 - val_acc: 0.9187\n",
            "Epoch 2/20\n",
            "60000/60000 [==============================] - 6s 100us/step - loss: 0.2437 - acc: 0.9290 - val_loss: 0.1854 - val_acc: 0.9432\n",
            "Epoch 3/20\n",
            "60000/60000 [==============================] - 6s 100us/step - loss: 0.1706 - acc: 0.9496 - val_loss: 0.1473 - val_acc: 0.9556\n",
            "Epoch 4/20\n",
            "60000/60000 [==============================] - 6s 100us/step - loss: 0.1307 - acc: 0.9614 - val_loss: 0.1218 - val_acc: 0.9622\n",
            "Epoch 5/20\n",
            "60000/60000 [==============================] - 6s 99us/step - loss: 0.1043 - acc: 0.9687 - val_loss: 0.1069 - val_acc: 0.9680\n",
            "Epoch 6/20\n",
            "60000/60000 [==============================] - 6s 98us/step - loss: 0.0864 - acc: 0.9744 - val_loss: 0.1045 - val_acc: 0.9677\n",
            "Epoch 7/20\n",
            "60000/60000 [==============================] - 6s 99us/step - loss: 0.0732 - acc: 0.9783 - val_loss: 0.0980 - val_acc: 0.9701\n",
            "Epoch 8/20\n",
            "60000/60000 [==============================] - 6s 97us/step - loss: 0.0596 - acc: 0.9820 - val_loss: 0.0900 - val_acc: 0.9723\n",
            "Epoch 9/20\n",
            "60000/60000 [==============================] - 6s 98us/step - loss: 0.0507 - acc: 0.9847 - val_loss: 0.0837 - val_acc: 0.9741\n",
            "Epoch 10/20\n",
            "60000/60000 [==============================] - 6s 101us/step - loss: 0.0420 - acc: 0.9872 - val_loss: 0.0810 - val_acc: 0.9760\n",
            "Epoch 11/20\n",
            "60000/60000 [==============================] - 7s 109us/step - loss: 0.0371 - acc: 0.9886 - val_loss: 0.0799 - val_acc: 0.9759\n",
            "Epoch 12/20\n",
            "60000/60000 [==============================] - 6s 100us/step - loss: 0.0285 - acc: 0.9913 - val_loss: 0.0867 - val_acc: 0.9763\n",
            "Epoch 13/20\n",
            "60000/60000 [==============================] - 6s 100us/step - loss: 0.0247 - acc: 0.9920 - val_loss: 0.0930 - val_acc: 0.9755\n",
            "Epoch 14/20\n",
            "60000/60000 [==============================] - 6s 99us/step - loss: 0.0215 - acc: 0.9932 - val_loss: 0.0830 - val_acc: 0.9777\n",
            "Epoch 15/20\n",
            "60000/60000 [==============================] - 6s 100us/step - loss: 0.0182 - acc: 0.9944 - val_loss: 0.0847 - val_acc: 0.9771\n",
            "Epoch 16/20\n",
            "60000/60000 [==============================] - 6s 100us/step - loss: 0.0157 - acc: 0.9951 - val_loss: 0.1001 - val_acc: 0.9743\n",
            "Epoch 17/20\n",
            "60000/60000 [==============================] - 6s 100us/step - loss: 0.0148 - acc: 0.9951 - val_loss: 0.0905 - val_acc: 0.9796\n",
            "Epoch 18/20\n",
            "60000/60000 [==============================] - 6s 99us/step - loss: 0.0103 - acc: 0.9967 - val_loss: 0.0905 - val_acc: 0.9786\n",
            "Epoch 19/20\n",
            "60000/60000 [==============================] - 6s 101us/step - loss: 0.0098 - acc: 0.9970 - val_loss: 0.0915 - val_acc: 0.9797\n",
            "Epoch 20/20\n",
            "60000/60000 [==============================] - 6s 99us/step - loss: 0.0083 - acc: 0.9974 - val_loss: 0.1037 - val_acc: 0.9785\n"
          ],
          "name": "stdout"
        }
      ]
    },
    {
      "metadata": {
        "id": "PAVYZfjArGsc",
        "colab_type": "code",
        "outputId": "ef95e903-6e87-4780-9460-7f7073b1bbf8",
        "colab": {
          "base_uri": "https://localhost:8080/",
          "height": 312
        }
      },
      "cell_type": "code",
      "source": [
        "score = model_sigmoid.evaluate(X_test, Y_test, verbose=0) \n",
        "print('Test score:', score[0]) \n",
        "print('Test accuracy:', score[1])\n",
        "\n",
        "fig,ax = plt.subplots(1,1)\n",
        "ax.set_xlabel('epoch') ; ax.set_ylabel('Categorical Crossentropy Loss')\n",
        "\n",
        "# list of epoch numbers\n",
        "x = list(range(1,nb_epoch+1))\n",
        "\n",
        "# print(history.history.keys())\n",
        "# dict_keys(['val_loss', 'val_acc', 'loss', 'acc'])\n",
        "# history = model_drop.fit(X_train, Y_train, batch_size=batch_size, epochs=nb_epoch, verbose=1, validation_data=(X_test, Y_test))\n",
        "\n",
        "# we will get val_loss and val_acc only when you pass the paramter validation_data\n",
        "# val_loss : validation loss\n",
        "# val_acc : validation accuracy\n",
        "\n",
        "# loss : training loss\n",
        "# acc : train accuracy\n",
        "# for each key in histrory.histrory we will have a list of length equal to number of epochs\n",
        "\n",
        "vy = history.history['val_loss']\n",
        "ty = history.history['loss']\n",
        "plt_dynamic(x, vy, ty, ax)"
      ],
      "execution_count": 56,
      "outputs": [
        {
          "output_type": "stream",
          "text": [
            "Test score: 0.10365610038250288\n",
            "Test accuracy: 0.9785\n"
          ],
          "name": "stdout"
        },
        {
          "output_type": "display_data",
          "data": {
            "image/png": "[encoded data removed]",
            "text/plain": [
              "<Figure size 432x288 with 1 Axes>"
            ]
          },
          "metadata": {
            "tags": []
          }
        }
      ]
    },
    {
      "metadata": {
        "id": "ZNivRukzNFZT",
        "colab_type": "text"
      },
      "cell_type": "markdown",
      "source": [
        "Bfroe Test score - 0.098 Test acc- 0.979 Acc- 0.9974 Val  acc- 0.9794\n",
        "After Test score- 0.103 test acc-0.9785 acc-0.9974 Val acc - 0.9785"
      ]
    },
    {
      "metadata": {
        "id": "E3ydp9tcrK03",
        "colab_type": "code",
        "outputId": "141006f5-11ed-4aa6-c895-8528976cd582",
        "colab": {
          "base_uri": "https://localhost:8080/",
          "height": 350
        }
      },
      "cell_type": "code",
      "source": [
        "w_after = model_sigmoid.get_weights()\n",
        "\n",
        "h1_w = w_after[0].flatten().reshape(-1,1)\n",
        "h2_w = w_after[2].flatten().reshape(-1,1)\n",
        "out_w = w_after[4].flatten().reshape(-1,1)\n",
        "\n",
        "\n",
        "fig = plt.figure()\n",
        "plt.title(\"Weight matrices after model trained\")\n",
        "plt.subplot(1, 3, 1)\n",
        "plt.title(\"Trained model Weights\")\n",
        "ax = sns.violinplot(y=h1_w,color='b')\n",
        "plt.xlabel('Hidden Layer 1')\n",
        "\n",
        "plt.subplot(1, 3, 2)\n",
        "plt.title(\"Trained model Weights\")\n",
        "ax = sns.violinplot(y=h2_w, color='r')\n",
        "plt.xlabel('Hidden Layer 2 ')\n",
        "\n",
        "plt.subplot(1, 3, 3)\n",
        "plt.title(\"Trained model Weights\")\n",
        "ax = sns.violinplot(y=out_w,color='y')\n",
        "plt.xlabel('Output Layer ')\n",
        "plt.show()"
      ],
      "execution_count": 58,
      "outputs": [
        {
          "output_type": "stream",
          "text": [
            "/usr/local/lib/python3.6/dist-packages/seaborn/categorical.py:588: FutureWarning: remove_na is deprecated and is a private function. Do not use.\n",
            "  kde_data = remove_na(group_data)\n",
            "/usr/local/lib/python3.6/dist-packages/seaborn/categorical.py:816: FutureWarning: remove_na is deprecated and is a private function. Do not use.\n",
            "  violin_data = remove_na(group_data)\n"
          ],
          "name": "stderr"
        },
        {
          "output_type": "display_data",
          "data": {
            "image/png": "[encoded data removed]",
            "text/plain": [
              "<Figure size 432x288 with 3 Axes>"
            ]
          },
          "metadata": {
            "tags": []
          }
        }
      ]
    },
    {
      "metadata": {
        "id": "iAZaK8OCwGTS",
        "colab_type": "text"
      },
      "cell_type": "markdown",
      "source": [
        "MLP + Batch-Norm on hidden Layers + AdamOptimizer"
      ]
    },
    {
      "metadata": {
        "id": "lKC5rjAVOv_q",
        "colab_type": "text"
      },
      "cell_type": "markdown",
      "source": [
        "# **Dropout -0.80**"
      ]
    },
    {
      "metadata": {
        "id": "BbHhYHo3wHtP",
        "colab_type": "code",
        "outputId": "c8335529-2a50-4d17-d840-39cfe2d5bdfb",
        "colab": {
          "base_uri": "https://localhost:8080/",
          "height": 293
        }
      },
      "cell_type": "code",
      "source": [
        "# Multilayer perceptron\n",
        "\n",
        "# https://intoli.com/blog/neural-network-initialization/ \n",
        "# If we sample weights from a normal distribution N(0,σ) we satisfy this condition with σ=√(2/(ni+ni+1). \n",
        "# h1 =>  σ=√(2/(ni+ni+1) = 0.039  => N(0,σ) = N(0,0.039)\n",
        "# h2 =>  σ=√(2/(ni+ni+1) = 0.055  => N(0,σ) = N(0,0.055)\n",
        "# h1 =>  σ=√(2/(ni+ni+1) = 0.120  => N(0,σ) = N(0,0.120)\n",
        "\n",
        "from keras.layers.normalization import BatchNormalization\n",
        "\n",
        "model_batch = Sequential()\n",
        "\n",
        "model_batch.add(Dense(100, activation='sigmoid', input_shape=(input_dim,), kernel_initializer=RandomNormal(mean=0.0, stddev=0.039, seed=None)))\n",
        "model_batch.add(BatchNormalization())\n",
        "\n",
        "model_relu.add(Dropout(0.80))\n",
        "\n",
        "model_batch.add(Dense(150, activation='sigmoid', kernel_initializer=RandomNormal(mean=0.0, stddev=0.55, seed=None)) )\n",
        "model_batch.add(BatchNormalization())\n",
        "\n",
        "model_batch.add(Dense(output_dim, activation='softmax'))\n",
        "\n",
        "\n",
        "model_batch.summary()"
      ],
      "execution_count": 47,
      "outputs": [
        {
          "output_type": "stream",
          "text": [
            "_________________________________________________________________\n",
            "Layer (type)                 Output Shape              Param #   \n",
            "=================================================================\n",
            "dense_31 (Dense)             (None, 100)               78500     \n",
            "_________________________________________________________________\n",
            "batch_normalization_11 (Batc (None, 100)               400       \n",
            "_________________________________________________________________\n",
            "dense_32 (Dense)             (None, 68)                6868      \n",
            "_________________________________________________________________\n",
            "batch_normalization_12 (Batc (None, 68)                272       \n",
            "_________________________________________________________________\n",
            "dense_33 (Dense)             (None, 10)                690       \n",
            "=================================================================\n",
            "Total params: 86,730\n",
            "Trainable params: 86,394\n",
            "Non-trainable params: 336\n",
            "_________________________________________________________________\n"
          ],
          "name": "stdout"
        }
      ]
    },
    {
      "metadata": {
        "id": "7W74eW-JwHwP",
        "colab_type": "code",
        "outputId": "b19a5d9b-b19c-4569-bf24-5a7a1f365a00",
        "colab": {
          "base_uri": "https://localhost:8080/",
          "height": 683
        }
      },
      "cell_type": "code",
      "source": [
        "model_batch.compile(optimizer='adam', loss='categorical_crossentropy', metrics=['accuracy'])\n",
        "\n",
        "history = model_batch.fit(X_train, Y_train, batch_size=batch_size, epochs=nb_epoch, verbose=1, validation_data=(X_test, Y_test))"
      ],
      "execution_count": 59,
      "outputs": [
        {
          "output_type": "stream",
          "text": [
            "Train on 60000 samples, validate on 10000 samples\n",
            "Epoch 1/20\n",
            "60000/60000 [==============================] - 6s 102us/step - loss: 0.0138 - acc: 0.9955 - val_loss: 0.1171 - val_acc: 0.9717\n",
            "Epoch 2/20\n",
            "60000/60000 [==============================] - 4s 64us/step - loss: 0.0107 - acc: 0.9967 - val_loss: 0.1219 - val_acc: 0.9697\n",
            "Epoch 3/20\n",
            "60000/60000 [==============================] - 4s 65us/step - loss: 0.0108 - acc: 0.9967 - val_loss: 0.1208 - val_acc: 0.9720\n",
            "Epoch 4/20\n",
            "60000/60000 [==============================] - 4s 66us/step - loss: 0.0104 - acc: 0.9967 - val_loss: 0.1159 - val_acc: 0.9716\n",
            "Epoch 5/20\n",
            "60000/60000 [==============================] - 4s 68us/step - loss: 0.0102 - acc: 0.9966 - val_loss: 0.1183 - val_acc: 0.9725\n",
            "Epoch 6/20\n",
            "60000/60000 [==============================] - 4s 67us/step - loss: 0.0100 - acc: 0.9969 - val_loss: 0.1178 - val_acc: 0.9716\n",
            "Epoch 7/20\n",
            "60000/60000 [==============================] - 4s 68us/step - loss: 0.0093 - acc: 0.9970 - val_loss: 0.1091 - val_acc: 0.9747\n",
            "Epoch 8/20\n",
            "60000/60000 [==============================] - 4s 67us/step - loss: 0.0080 - acc: 0.9977 - val_loss: 0.1252 - val_acc: 0.9725\n",
            "Epoch 9/20\n",
            "60000/60000 [==============================] - 4s 67us/step - loss: 0.0071 - acc: 0.9980 - val_loss: 0.1168 - val_acc: 0.9756\n",
            "Epoch 10/20\n",
            "60000/60000 [==============================] - 4s 66us/step - loss: 0.0080 - acc: 0.9974 - val_loss: 0.1309 - val_acc: 0.9713\n",
            "Epoch 11/20\n",
            "60000/60000 [==============================] - 4s 66us/step - loss: 0.0075 - acc: 0.9974 - val_loss: 0.1172 - val_acc: 0.9746\n",
            "Epoch 12/20\n",
            "60000/60000 [==============================] - 4s 64us/step - loss: 0.0063 - acc: 0.9980 - val_loss: 0.1160 - val_acc: 0.9751\n",
            "Epoch 13/20\n",
            "60000/60000 [==============================] - 4s 66us/step - loss: 0.0071 - acc: 0.9974 - val_loss: 0.1286 - val_acc: 0.9721\n",
            "Epoch 14/20\n",
            "60000/60000 [==============================] - 4s 67us/step - loss: 0.0070 - acc: 0.9978 - val_loss: 0.1173 - val_acc: 0.9734\n",
            "Epoch 15/20\n",
            "60000/60000 [==============================] - 4s 68us/step - loss: 0.0079 - acc: 0.9973 - val_loss: 0.1287 - val_acc: 0.9736\n",
            "Epoch 16/20\n",
            "60000/60000 [==============================] - 4s 68us/step - loss: 0.0069 - acc: 0.9976 - val_loss: 0.1195 - val_acc: 0.9746\n",
            "Epoch 17/20\n",
            "60000/60000 [==============================] - 4s 67us/step - loss: 0.0043 - acc: 0.9988 - val_loss: 0.1226 - val_acc: 0.9737\n",
            "Epoch 18/20\n",
            "60000/60000 [==============================] - 4s 68us/step - loss: 0.0039 - acc: 0.9989 - val_loss: 0.1210 - val_acc: 0.9751\n",
            "Epoch 19/20\n",
            "60000/60000 [==============================] - 4s 68us/step - loss: 0.0052 - acc: 0.9985 - val_loss: 0.1333 - val_acc: 0.9727\n",
            "Epoch 20/20\n",
            "60000/60000 [==============================] - 4s 69us/step - loss: 0.0064 - acc: 0.9977 - val_loss: 0.1371 - val_acc: 0.9726\n"
          ],
          "name": "stdout"
        }
      ]
    },
    {
      "metadata": {
        "id": "Iu__vAVvIG8u",
        "colab_type": "text"
      },
      "cell_type": "markdown",
      "source": [
        "Before deopout CC- 0.9957  Val acc 0.9735\n",
        "After dropout 0.65  Acc-0.9963 Val acc-0.9720\n",
        "After dropout 0"
      ]
    },
    {
      "metadata": {
        "id": "56kfYDgIwHy-",
        "colab_type": "code",
        "outputId": "54356b46-8a7a-4da1-cd8c-f586814f6dc1",
        "colab": {
          "base_uri": "https://localhost:8080/",
          "height": 312
        }
      },
      "cell_type": "code",
      "source": [
        "score = model_batch.evaluate(X_test, Y_test, verbose=0) \n",
        "print('Test score:', score[0]) \n",
        "print('Test accuracy:', score[1])\n",
        "\n",
        "fig,ax = plt.subplots(1,1)\n",
        "ax.set_xlabel('epoch') ; ax.set_ylabel('Categorical Crossentropy Loss')\n",
        "\n",
        "# list of epoch numbers\n",
        "x = list(range(1,nb_epoch+1))\n",
        "\n",
        "vy = history.history['val_loss']\n",
        "ty = history.history['loss']\n",
        "plt_dynamic(x, vy, ty, ax)"
      ],
      "execution_count": 60,
      "outputs": [
        {
          "output_type": "stream",
          "text": [
            "Test score: 0.13710546417972155\n",
            "Test accuracy: 0.9726\n"
          ],
          "name": "stdout"
        },
        {
          "output_type": "display_data",
          "data": {
            "image/png": "[encoded data removed]",
            "text/plain": [
              "<Figure size 432x288 with 1 Axes>"
            ]
          },
          "metadata": {
            "tags": []
          }
        }
      ]
    },
    {
      "metadata": {
        "id": "M0mNUcmwwH14",
        "colab_type": "code",
        "outputId": "ffd8372b-8a35-4fc3-9a2d-fcb8158c4669",
        "colab": {
          "base_uri": "https://localhost:8080/",
          "height": 350
        }
      },
      "cell_type": "code",
      "source": [
        "w_after = model_batch.get_weights()\n",
        "\n",
        "h1_w = w_after[0].flatten().reshape(-1,1)\n",
        "h2_w = w_after[2].flatten().reshape(-1,1)\n",
        "out_w = w_after[4].flatten().reshape(-1,1)\n",
        "\n",
        "\n",
        "fig = plt.figure()\n",
        "plt.title(\"Weight matrices after model trained\")\n",
        "plt.subplot(1, 3, 1)\n",
        "plt.title(\"Trained model Weights\")\n",
        "ax = sns.violinplot(y=h1_w,color='b')\n",
        "plt.xlabel('Hidden Layer 1')\n",
        "\n",
        "plt.subplot(1, 3, 2)\n",
        "plt.title(\"Trained model Weights\")\n",
        "ax = sns.violinplot(y=h2_w, color='r')\n",
        "plt.xlabel('Hidden Layer 2 ')\n",
        "\n",
        "plt.subplot(1, 3, 3)\n",
        "plt.title(\"Trained model Weights\")\n",
        "ax = sns.violinplot(y=out_w,color='y')\n",
        "plt.xlabel('Output Layer ')\n",
        "plt.show()"
      ],
      "execution_count": 61,
      "outputs": [
        {
          "output_type": "stream",
          "text": [
            "/usr/local/lib/python3.6/dist-packages/seaborn/categorical.py:588: FutureWarning: remove_na is deprecated and is a private function. Do not use.\n",
            "  kde_data = remove_na(group_data)\n",
            "/usr/local/lib/python3.6/dist-packages/seaborn/categorical.py:816: FutureWarning: remove_na is deprecated and is a private function. Do not use.\n",
            "  violin_data = remove_na(group_data)\n"
          ],
          "name": "stderr"
        },
        {
          "output_type": "display_data",
          "data": {
            "image/png": "[encoded data removed]",
            "text/plain": [
              "<Figure size 432x288 with 3 Axes>"
            ]
          },
          "metadata": {
            "tags": []
          }
        }
      ]
    },
    {
      "metadata": {
        "id": "1wWikKfawH5F",
        "colab_type": "code",
        "colab": {}
      },
      "cell_type": "code",
      "source": [
        ""
      ],
      "execution_count": 0,
      "outputs": []
    },
    {
      "metadata": {
        "id": "KSMJqhp6PaEW",
        "colab_type": "text"
      },
      "cell_type": "markdown",
      "source": [
        "# **Dropout - 0.20**"
      ]
    },
    {
      "metadata": {
        "id": "b8lUWkFywH71",
        "colab_type": "code",
        "colab": {
          "base_uri": "https://localhost:8080/",
          "height": 293
        },
        "outputId": "a7a3c5f7-5559-4662-9ac6-d39198296724"
      },
      "cell_type": "code",
      "source": [
        "from keras.layers.normalization import BatchNormalization\n",
        "\n",
        "model_batch = Sequential()\n",
        "\n",
        "model_batch.add(Dense(100, activation='sigmoid', input_shape=(input_dim,), kernel_initializer=RandomNormal(mean=0.0, stddev=0.039, seed=None)))\n",
        "model_batch.add(BatchNormalization())\n",
        "\n",
        "model_relu.add(Dropout(0.20))\n",
        "\n",
        "model_batch.add(Dense(150, activation='sigmoid', kernel_initializer=RandomNormal(mean=0.0, stddev=0.55, seed=None)) )\n",
        "model_batch.add(BatchNormalization())\n",
        "\n",
        "model_batch.add(Dense(output_dim, activation='softmax'))\n",
        "\n",
        "\n",
        "model_batch.summary()"
      ],
      "execution_count": 62,
      "outputs": [
        {
          "output_type": "stream",
          "text": [
            "_________________________________________________________________\n",
            "Layer (type)                 Output Shape              Param #   \n",
            "=================================================================\n",
            "dense_42 (Dense)             (None, 100)               78500     \n",
            "_________________________________________________________________\n",
            "batch_normalization_13 (Batc (None, 100)               400       \n",
            "_________________________________________________________________\n",
            "dense_43 (Dense)             (None, 150)               15150     \n",
            "_________________________________________________________________\n",
            "batch_normalization_14 (Batc (None, 150)               600       \n",
            "_________________________________________________________________\n",
            "dense_44 (Dense)             (None, 10)                1510      \n",
            "=================================================================\n",
            "Total params: 96,160\n",
            "Trainable params: 95,660\n",
            "Non-trainable params: 500\n",
            "_________________________________________________________________\n"
          ],
          "name": "stdout"
        }
      ]
    },
    {
      "metadata": {
        "id": "81SINbiPPYJJ",
        "colab_type": "code",
        "colab": {
          "base_uri": "https://localhost:8080/",
          "height": 683
        },
        "outputId": "2ef28b86-705b-4ac0-883e-06a1ccbcc6fa"
      },
      "cell_type": "code",
      "source": [
        "model_batch.compile(optimizer='adam', loss='categorical_crossentropy', metrics=['accuracy'])\n",
        "\n",
        "history = model_batch.fit(X_train, Y_train, batch_size=batch_size, epochs=nb_epoch, verbose=1, validation_data=(X_test, Y_test))"
      ],
      "execution_count": 63,
      "outputs": [
        {
          "output_type": "stream",
          "text": [
            "Train on 60000 samples, validate on 10000 samples\n",
            "Epoch 1/20\n",
            "60000/60000 [==============================] - 7s 115us/step - loss: 0.3072 - acc: 0.9088 - val_loss: 0.1943 - val_acc: 0.9424\n",
            "Epoch 2/20\n",
            "60000/60000 [==============================] - 4s 70us/step - loss: 0.1576 - acc: 0.9536 - val_loss: 0.1532 - val_acc: 0.9538\n",
            "Epoch 3/20\n",
            "60000/60000 [==============================] - 4s 71us/step - loss: 0.1168 - acc: 0.9659 - val_loss: 0.1280 - val_acc: 0.9638\n",
            "Epoch 4/20\n",
            "60000/60000 [==============================] - 4s 71us/step - loss: 0.0904 - acc: 0.9738 - val_loss: 0.1118 - val_acc: 0.9674\n",
            "Epoch 5/20\n",
            "60000/60000 [==============================] - 4s 71us/step - loss: 0.0734 - acc: 0.9785 - val_loss: 0.1131 - val_acc: 0.9666\n",
            "Epoch 6/20\n",
            "60000/60000 [==============================] - 4s 74us/step - loss: 0.0573 - acc: 0.9834 - val_loss: 0.1004 - val_acc: 0.9703\n",
            "Epoch 7/20\n",
            "60000/60000 [==============================] - 4s 72us/step - loss: 0.0477 - acc: 0.9862 - val_loss: 0.0999 - val_acc: 0.9704\n",
            "Epoch 8/20\n",
            "60000/60000 [==============================] - 4s 73us/step - loss: 0.0389 - acc: 0.9889 - val_loss: 0.0993 - val_acc: 0.9690\n",
            "Epoch 9/20\n",
            "60000/60000 [==============================] - 4s 71us/step - loss: 0.0333 - acc: 0.9905 - val_loss: 0.1006 - val_acc: 0.9706\n",
            "Epoch 10/20\n",
            "60000/60000 [==============================] - 5s 77us/step - loss: 0.0276 - acc: 0.9918 - val_loss: 0.0946 - val_acc: 0.9731\n",
            "Epoch 11/20\n",
            "60000/60000 [==============================] - 5s 82us/step - loss: 0.0235 - acc: 0.9937 - val_loss: 0.0998 - val_acc: 0.9722\n",
            "Epoch 12/20\n",
            "60000/60000 [==============================] - 5s 77us/step - loss: 0.0204 - acc: 0.9944 - val_loss: 0.1002 - val_acc: 0.9728\n",
            "Epoch 13/20\n",
            "60000/60000 [==============================] - 4s 71us/step - loss: 0.0170 - acc: 0.9953 - val_loss: 0.1019 - val_acc: 0.9707\n",
            "Epoch 14/20\n",
            "60000/60000 [==============================] - 4s 71us/step - loss: 0.0165 - acc: 0.9953 - val_loss: 0.1026 - val_acc: 0.9728\n",
            "Epoch 15/20\n",
            "60000/60000 [==============================] - 4s 72us/step - loss: 0.0145 - acc: 0.9961 - val_loss: 0.1152 - val_acc: 0.9701\n",
            "Epoch 16/20\n",
            "60000/60000 [==============================] - 4s 73us/step - loss: 0.0144 - acc: 0.9959 - val_loss: 0.0991 - val_acc: 0.9734\n",
            "Epoch 17/20\n",
            "60000/60000 [==============================] - 4s 71us/step - loss: 0.0127 - acc: 0.9962 - val_loss: 0.1089 - val_acc: 0.9711\n",
            "Epoch 18/20\n",
            "60000/60000 [==============================] - 4s 72us/step - loss: 0.0105 - acc: 0.9972 - val_loss: 0.1220 - val_acc: 0.9704\n",
            "Epoch 19/20\n",
            "60000/60000 [==============================] - 4s 72us/step - loss: 0.0109 - acc: 0.9968 - val_loss: 0.1039 - val_acc: 0.9747\n",
            "Epoch 20/20\n",
            "60000/60000 [==============================] - 4s 72us/step - loss: 0.0095 - acc: 0.9971 - val_loss: 0.1152 - val_acc: 0.9717\n"
          ],
          "name": "stdout"
        }
      ]
    },
    {
      "metadata": {
        "id": "-wqqUjrOvtd7",
        "colab_type": "text"
      },
      "cell_type": "markdown",
      "source": [
        " MLP + Dropout + AdamOptimizer"
      ]
    },
    {
      "metadata": {
        "id": "YT0n7AOfwHIU",
        "colab_type": "code",
        "colab": {}
      },
      "cell_type": "code",
      "source": [
        ""
      ],
      "execution_count": 0,
      "outputs": []
    },
    {
      "metadata": {
        "id": "nkslngn0bSGD",
        "colab_type": "text"
      },
      "cell_type": "markdown",
      "source": [
        "Dropout-0.65, 0.25"
      ]
    },
    {
      "metadata": {
        "id": "yl_28Q2Evuxa",
        "colab_type": "code",
        "outputId": "2676cd7d-de45-4d06-c223-bf8c86c4b2c5",
        "colab": {
          "base_uri": "https://localhost:8080/",
          "height": 358
        }
      },
      "cell_type": "code",
      "source": [
        "# https://stackoverflow.com/questions/34716454/where-do-i-call-the-batchnormalization-function-in-keras\n",
        "\n",
        "from keras.layers import Dropout\n",
        "\n",
        "model_drop = Sequential()\n",
        "\n",
        "model_drop.add(Dense(64, activation='sigmoid', input_shape=(input_dim,), kernel_initializer=RandomNormal(mean=0.0, stddev=0.039, seed=None)))\n",
        "model_drop.add(BatchNormalization())\n",
        "model_drop.add(Dropout(0.65))\n",
        "\n",
        "model_drop.add(Dense(28, activation='sigmoid', kernel_initializer=RandomNormal(mean=0.0, stddev=0.55, seed=None)) )\n",
        "model_drop.add(BatchNormalization())\n",
        "model_drop.add(Dropout(0.25))\n",
        "\n",
        "model_drop.add(Dense(output_dim, activation='softmax'))\n",
        "\n",
        "\n",
        "model_drop.summary()"
      ],
      "execution_count": 75,
      "outputs": [
        {
          "output_type": "stream",
          "text": [
            "_________________________________________________________________\n",
            "Layer (type)                 Output Shape              Param #   \n",
            "=================================================================\n",
            "dense_55 (Dense)             (None, 64)                50240     \n",
            "_________________________________________________________________\n",
            "batch_normalization_15 (Batc (None, 64)                256       \n",
            "_________________________________________________________________\n",
            "dropout_11 (Dropout)         (None, 64)                0         \n",
            "_________________________________________________________________\n",
            "dense_56 (Dense)             (None, 28)                1820      \n",
            "_________________________________________________________________\n",
            "batch_normalization_16 (Batc (None, 28)                112       \n",
            "_________________________________________________________________\n",
            "dropout_12 (Dropout)         (None, 28)                0         \n",
            "_________________________________________________________________\n",
            "dense_57 (Dense)             (None, 10)                290       \n",
            "=================================================================\n",
            "Total params: 52,718\n",
            "Trainable params: 52,534\n",
            "Non-trainable params: 184\n",
            "_________________________________________________________________\n"
          ],
          "name": "stdout"
        }
      ]
    },
    {
      "metadata": {
        "id": "cF80sXFvw8g1",
        "colab_type": "code",
        "outputId": "9b5a35d9-9963-47fa-fa8f-cfe75b49468a",
        "colab": {
          "base_uri": "https://localhost:8080/",
          "height": 683
        }
      },
      "cell_type": "code",
      "source": [
        "model_drop.compile(optimizer='adam', loss='categorical_crossentropy', metrics=['accuracy'])\n",
        "\n",
        "history = model_drop.fit(X_train, Y_train, batch_size=batch_size, epochs=nb_epoch, verbose=1, validation_data=(X_test, Y_test))"
      ],
      "execution_count": 76,
      "outputs": [
        {
          "output_type": "stream",
          "text": [
            "Train on 60000 samples, validate on 10000 samples\n",
            "Epoch 1/20\n",
            "60000/60000 [==============================] - 6s 107us/step - loss: 0.9806 - acc: 0.6891 - val_loss: 0.3695 - val_acc: 0.8949\n",
            "Epoch 2/20\n",
            "60000/60000 [==============================] - 3s 58us/step - loss: 0.6467 - acc: 0.7980 - val_loss: 0.3282 - val_acc: 0.9046\n",
            "Epoch 3/20\n",
            "60000/60000 [==============================] - 3s 58us/step - loss: 0.5781 - acc: 0.8208 - val_loss: 0.2933 - val_acc: 0.9150\n",
            "Epoch 4/20\n",
            "60000/60000 [==============================] - 3s 55us/step - loss: 0.5403 - acc: 0.8339 - val_loss: 0.2870 - val_acc: 0.9150\n",
            "Epoch 5/20\n",
            "60000/60000 [==============================] - 3s 54us/step - loss: 0.5085 - acc: 0.8451 - val_loss: 0.2846 - val_acc: 0.9194\n",
            "Epoch 6/20\n",
            "60000/60000 [==============================] - 3s 51us/step - loss: 0.4888 - acc: 0.8524 - val_loss: 0.2688 - val_acc: 0.9235\n",
            "Epoch 7/20\n",
            "60000/60000 [==============================] - 3s 52us/step - loss: 0.4730 - acc: 0.8573 - val_loss: 0.2646 - val_acc: 0.9234\n",
            "Epoch 8/20\n",
            "60000/60000 [==============================] - 3s 51us/step - loss: 0.4527 - acc: 0.8646 - val_loss: 0.2597 - val_acc: 0.9258\n",
            "Epoch 9/20\n",
            "60000/60000 [==============================] - 3s 51us/step - loss: 0.4404 - acc: 0.8679 - val_loss: 0.2518 - val_acc: 0.9277\n",
            "Epoch 10/20\n",
            "60000/60000 [==============================] - 3s 51us/step - loss: 0.4257 - acc: 0.8739 - val_loss: 0.2529 - val_acc: 0.9273\n",
            "Epoch 11/20\n",
            "60000/60000 [==============================] - 3s 52us/step - loss: 0.4155 - acc: 0.8775 - val_loss: 0.2411 - val_acc: 0.9302\n",
            "Epoch 12/20\n",
            "60000/60000 [==============================] - 3s 57us/step - loss: 0.4074 - acc: 0.8800 - val_loss: 0.2357 - val_acc: 0.9310\n",
            "Epoch 13/20\n",
            "60000/60000 [==============================] - 3s 52us/step - loss: 0.3940 - acc: 0.8828 - val_loss: 0.2331 - val_acc: 0.9313\n",
            "Epoch 14/20\n",
            "60000/60000 [==============================] - 3s 51us/step - loss: 0.3942 - acc: 0.8842 - val_loss: 0.2300 - val_acc: 0.9329\n",
            "Epoch 15/20\n",
            "60000/60000 [==============================] - 3s 53us/step - loss: 0.3812 - acc: 0.8892 - val_loss: 0.2242 - val_acc: 0.9339\n",
            "Epoch 16/20\n",
            "60000/60000 [==============================] - 3s 52us/step - loss: 0.3731 - acc: 0.8906 - val_loss: 0.2195 - val_acc: 0.9365\n",
            "Epoch 17/20\n",
            "60000/60000 [==============================] - 3s 51us/step - loss: 0.3693 - acc: 0.8912 - val_loss: 0.2192 - val_acc: 0.9350\n",
            "Epoch 18/20\n",
            "60000/60000 [==============================] - 3s 52us/step - loss: 0.3593 - acc: 0.8929 - val_loss: 0.2146 - val_acc: 0.9376\n",
            "Epoch 19/20\n",
            "60000/60000 [==============================] - 3s 52us/step - loss: 0.3542 - acc: 0.8951 - val_loss: 0.2105 - val_acc: 0.9374\n",
            "Epoch 20/20\n",
            "60000/60000 [==============================] - 3s 53us/step - loss: 0.3469 - acc: 0.8974 - val_loss: 0.2081 - val_acc: 0.9397\n"
          ],
          "name": "stdout"
        }
      ]
    },
    {
      "metadata": {
        "id": "i3w6xH6PD-dz",
        "colab_type": "code",
        "colab": {
          "base_uri": "https://localhost:8080/",
          "height": 312
        },
        "outputId": "f1257e00-8512-490d-c535-5f207f3c50c0"
      },
      "cell_type": "code",
      "source": [
        "score = model_drop.evaluate(X_test, Y_test, verbose=0) \n",
        "print('Test score:', score[0]) \n",
        "print('Test accuracy:', score[1])\n",
        "\n",
        "fig,ax = plt.subplots(1,1)\n",
        "ax.set_xlabel('epoch') ; ax.set_ylabel('Categorical Crossentropy Loss')\n",
        "\n",
        "# list of epoch numbers\n",
        "x = list(range(1,nb_epoch+1))\n",
        "\n",
        "vy = history.history['val_loss']\n",
        "ty = history.history['loss']\n",
        "plt_dynamic(x, vy, ty, ax)"
      ],
      "execution_count": 77,
      "outputs": [
        {
          "output_type": "stream",
          "text": [
            "Test score: 0.20806283577531576\n",
            "Test accuracy: 0.9397\n"
          ],
          "name": "stdout"
        },
        {
          "output_type": "display_data",
          "data": {
            "image/png": "[encoded data removed]",
            "text/plain": [
              "<Figure size 432x288 with 1 Axes>"
            ]
          },
          "metadata": {
            "tags": []
          }
        }
      ]
    },
    {
      "metadata": {
        "id": "4QoO45JmEHpm",
        "colab_type": "code",
        "colab": {
          "base_uri": "https://localhost:8080/",
          "height": 350
        },
        "outputId": "0e45cccb-dce4-4501-8e1c-c275a9014e85"
      },
      "cell_type": "code",
      "source": [
        "w_after = model_drop.get_weights()\n",
        "\n",
        "h1_w = w_after[0].flatten().reshape(-1,1)\n",
        "h2_w = w_after[2].flatten().reshape(-1,1)\n",
        "out_w = w_after[4].flatten().reshape(-1,1)\n",
        "\n",
        "\n",
        "fig = plt.figure()\n",
        "plt.title(\"Weight matrices after model trained\")\n",
        "plt.subplot(1, 3, 1)\n",
        "plt.title(\"Trained model Weights\")\n",
        "ax = sns.violinplot(y=h1_w,color='b')\n",
        "plt.xlabel('Hidden Layer 1')\n",
        "\n",
        "plt.subplot(1, 3, 2)\n",
        "plt.title(\"Trained model Weights\")\n",
        "ax = sns.violinplot(y=h2_w, color='r')\n",
        "plt.xlabel('Hidden Layer 2 ')\n",
        "\n",
        "plt.subplot(1, 3, 3)\n",
        "plt.title(\"Trained model Weights\")\n",
        "ax = sns.violinplot(y=out_w,color='y')\n",
        "plt.xlabel('Output Layer ')\n",
        "plt.show()"
      ],
      "execution_count": 78,
      "outputs": [
        {
          "output_type": "stream",
          "text": [
            "/usr/local/lib/python3.6/dist-packages/seaborn/categorical.py:588: FutureWarning: remove_na is deprecated and is a private function. Do not use.\n",
            "  kde_data = remove_na(group_data)\n",
            "/usr/local/lib/python3.6/dist-packages/seaborn/categorical.py:816: FutureWarning: remove_na is deprecated and is a private function. Do not use.\n",
            "  violin_data = remove_na(group_data)\n"
          ],
          "name": "stderr"
        },
        {
          "output_type": "display_data",
          "data": {
            "image/png": "[encoded data removed]",
            "text/plain": [
              "<Figure size 432x288 with 3 Axes>"
            ]
          },
          "metadata": {
            "tags": []
          }
        }
      ]
    },
    {
      "metadata": {
        "id": "YPNC__cJb5Fd",
        "colab_type": "text"
      },
      "cell_type": "markdown",
      "source": [
        "Dropout-0.55"
      ]
    },
    {
      "metadata": {
        "id": "6gAgmQJIbyZ2",
        "colab_type": "code",
        "colab": {
          "base_uri": "https://localhost:8080/",
          "height": 326
        },
        "outputId": "b2fb6941-d39a-485c-c31b-5dd3ef8f1d4f"
      },
      "cell_type": "code",
      "source": [
        "# https://stackoverflow.com/questions/34716454/where-do-i-call-the-batchnormalization-function-in-keras\n",
        "\n",
        "from keras.layers import Dropout\n",
        "\n",
        "model_drop = Sequential()\n",
        "\n",
        "model_drop.add(Dense(256, activation='sigmoid', input_shape=(input_dim,), kernel_initializer=RandomNormal(mean=0.0, stddev=0.039, seed=None)))\n",
        "model_drop.add(BatchNormalization())\n",
        "model_drop.add(Dropout(0.55))\n",
        "\n",
        "model_drop.add(Dense(54, activation='sigmoid', kernel_initializer=RandomNormal(mean=0.0, stddev=0.55, seed=None)) )\n",
        "model_drop.add(BatchNormalization())\n",
        "#model_drop.add(Dropout(0.25))\n",
        "\n",
        "model_drop.add(Dense(output_dim, activation='softmax'))\n",
        "\n",
        "\n",
        "model_drop.summary()"
      ],
      "execution_count": 79,
      "outputs": [
        {
          "output_type": "stream",
          "text": [
            "_________________________________________________________________\n",
            "Layer (type)                 Output Shape              Param #   \n",
            "=================================================================\n",
            "dense_58 (Dense)             (None, 256)               200960    \n",
            "_________________________________________________________________\n",
            "batch_normalization_17 (Batc (None, 256)               1024      \n",
            "_________________________________________________________________\n",
            "dropout_13 (Dropout)         (None, 256)               0         \n",
            "_________________________________________________________________\n",
            "dense_59 (Dense)             (None, 54)                13878     \n",
            "_________________________________________________________________\n",
            "batch_normalization_18 (Batc (None, 54)                216       \n",
            "_________________________________________________________________\n",
            "dense_60 (Dense)             (None, 10)                550       \n",
            "=================================================================\n",
            "Total params: 216,628\n",
            "Trainable params: 216,008\n",
            "Non-trainable params: 620\n",
            "_________________________________________________________________\n"
          ],
          "name": "stdout"
        }
      ]
    },
    {
      "metadata": {
        "id": "gYO4LteccAWR",
        "colab_type": "code",
        "colab": {
          "base_uri": "https://localhost:8080/",
          "height": 683
        },
        "outputId": "1ebea014-ff35-41be-df91-19525b34cd81"
      },
      "cell_type": "code",
      "source": [
        "model_drop.compile(optimizer='adam', loss='categorical_crossentropy', metrics=['accuracy'])\n",
        "\n",
        "history = model_drop.fit(X_train, Y_train, batch_size=batch_size, epochs=nb_epoch, verbose=1, validation_data=(X_test, Y_test))"
      ],
      "execution_count": 80,
      "outputs": [
        {
          "output_type": "stream",
          "text": [
            "Train on 60000 samples, validate on 10000 samples\n",
            "Epoch 1/20\n",
            "60000/60000 [==============================] - 9s 154us/step - loss: 0.5254 - acc: 0.8391 - val_loss: 0.2798 - val_acc: 0.9199\n",
            "Epoch 2/20\n",
            "60000/60000 [==============================] - 6s 101us/step - loss: 0.3456 - acc: 0.8966 - val_loss: 0.2400 - val_acc: 0.9297\n",
            "Epoch 3/20\n",
            "60000/60000 [==============================] - 6s 101us/step - loss: 0.3103 - acc: 0.9065 - val_loss: 0.2132 - val_acc: 0.9368\n",
            "Epoch 4/20\n",
            "60000/60000 [==============================] - 6s 105us/step - loss: 0.2857 - acc: 0.9156 - val_loss: 0.2054 - val_acc: 0.9394\n",
            "Epoch 5/20\n",
            "60000/60000 [==============================] - 6s 103us/step - loss: 0.2683 - acc: 0.9187 - val_loss: 0.1931 - val_acc: 0.9438\n",
            "Epoch 6/20\n",
            "60000/60000 [==============================] - 6s 100us/step - loss: 0.2546 - acc: 0.9239 - val_loss: 0.1872 - val_acc: 0.9481\n",
            "Epoch 7/20\n",
            "60000/60000 [==============================] - 6s 106us/step - loss: 0.2434 - acc: 0.9277 - val_loss: 0.1755 - val_acc: 0.9499\n",
            "Epoch 8/20\n",
            "60000/60000 [==============================] - 6s 106us/step - loss: 0.2327 - acc: 0.9295 - val_loss: 0.1703 - val_acc: 0.9507\n",
            "Epoch 9/20\n",
            "60000/60000 [==============================] - 6s 103us/step - loss: 0.2211 - acc: 0.9331 - val_loss: 0.1552 - val_acc: 0.9549\n",
            "Epoch 10/20\n",
            "60000/60000 [==============================] - 6s 101us/step - loss: 0.2146 - acc: 0.9343 - val_loss: 0.1548 - val_acc: 0.9565\n",
            "Epoch 11/20\n",
            "60000/60000 [==============================] - 6s 103us/step - loss: 0.2055 - acc: 0.9380 - val_loss: 0.1435 - val_acc: 0.9587\n",
            "Epoch 12/20\n",
            "60000/60000 [==============================] - 6s 104us/step - loss: 0.1967 - acc: 0.9400 - val_loss: 0.1362 - val_acc: 0.9614\n",
            "Epoch 13/20\n",
            "60000/60000 [==============================] - 6s 105us/step - loss: 0.1882 - acc: 0.9433 - val_loss: 0.1330 - val_acc: 0.9616\n",
            "Epoch 14/20\n",
            "60000/60000 [==============================] - 6s 102us/step - loss: 0.1806 - acc: 0.9451 - val_loss: 0.1301 - val_acc: 0.9619\n",
            "Epoch 15/20\n",
            "60000/60000 [==============================] - 6s 100us/step - loss: 0.1751 - acc: 0.9463 - val_loss: 0.1252 - val_acc: 0.9642\n",
            "Epoch 16/20\n",
            "60000/60000 [==============================] - 6s 103us/step - loss: 0.1722 - acc: 0.9482 - val_loss: 0.1225 - val_acc: 0.9647\n",
            "Epoch 17/20\n",
            "60000/60000 [==============================] - 6s 101us/step - loss: 0.1661 - acc: 0.9487 - val_loss: 0.1174 - val_acc: 0.9669\n",
            "Epoch 18/20\n",
            "60000/60000 [==============================] - 6s 102us/step - loss: 0.1610 - acc: 0.9500 - val_loss: 0.1134 - val_acc: 0.9674\n",
            "Epoch 19/20\n",
            "60000/60000 [==============================] - 6s 101us/step - loss: 0.1569 - acc: 0.9519 - val_loss: 0.1101 - val_acc: 0.9688\n",
            "Epoch 20/20\n",
            "60000/60000 [==============================] - 6s 102us/step - loss: 0.1528 - acc: 0.9535 - val_loss: 0.1095 - val_acc: 0.9688\n"
          ],
          "name": "stdout"
        }
      ]
    },
    {
      "metadata": {
        "id": "ghRdFQs6xdyN",
        "colab_type": "text"
      },
      "cell_type": "markdown",
      "source": [
        "MLP + ReLU + ADAM"
      ]
    },
    {
      "metadata": {
        "id": "QzpfVTZcxe7c",
        "colab_type": "code",
        "outputId": "ea501e75-2c66-4d25-d0e4-15ff94138335",
        "colab": {
          "base_uri": "https://localhost:8080/",
          "height": 911
        }
      },
      "cell_type": "code",
      "source": [
        "model_relu = Sequential()\n",
        "model_relu.add(Dense(1024, activation='relu', input_shape=(input_dim,), kernel_initializer=RandomNormal(mean=0.0, stddev=0.062, seed=None)))\n",
        "model_relu.add(Dense(840, activation='relu', kernel_initializer=RandomNormal(mean=0.0, stddev=0.125, seed=None)) )\n",
        "#model_relu.add(Dropout(0.95))\n",
        "model_relu.add(Dense(output_dim, activation='softmax'))\n",
        "\n",
        "print(model_relu.summary())\n",
        "\n",
        "model_relu.compile(optimizer='adam', loss='categorical_crossentropy', metrics=['accuracy'])\n",
        "\n",
        "history = model_relu.fit(X_train, Y_train, batch_size=batch_size, epochs=nb_epoch, verbose=1, validation_data=(X_test, Y_test))"
      ],
      "execution_count": 64,
      "outputs": [
        {
          "output_type": "stream",
          "text": [
            "_________________________________________________________________\n",
            "Layer (type)                 Output Shape              Param #   \n",
            "=================================================================\n",
            "dense_45 (Dense)             (None, 1024)              803840    \n",
            "_________________________________________________________________\n",
            "dense_46 (Dense)             (None, 840)               861000    \n",
            "_________________________________________________________________\n",
            "dense_47 (Dense)             (None, 10)                8410      \n",
            "=================================================================\n",
            "Total params: 1,673,250\n",
            "Trainable params: 1,673,250\n",
            "Non-trainable params: 0\n",
            "_________________________________________________________________\n",
            "None\n",
            "Train on 60000 samples, validate on 10000 samples\n",
            "Epoch 1/20\n",
            "60000/60000 [==============================] - 25s 414us/step - loss: 0.2029 - acc: 0.9397 - val_loss: 0.1106 - val_acc: 0.9659\n",
            "Epoch 2/20\n",
            "60000/60000 [==============================] - 23s 386us/step - loss: 0.0708 - acc: 0.9779 - val_loss: 0.0713 - val_acc: 0.9786\n",
            "Epoch 3/20\n",
            "60000/60000 [==============================] - 24s 393us/step - loss: 0.0403 - acc: 0.9865 - val_loss: 0.0700 - val_acc: 0.9781\n",
            "Epoch 4/20\n",
            "60000/60000 [==============================] - 24s 394us/step - loss: 0.0283 - acc: 0.9908 - val_loss: 0.0832 - val_acc: 0.9766\n",
            "Epoch 5/20\n",
            "60000/60000 [==============================] - 23s 389us/step - loss: 0.0255 - acc: 0.9919 - val_loss: 0.0671 - val_acc: 0.9801\n",
            "Epoch 6/20\n",
            "60000/60000 [==============================] - 23s 392us/step - loss: 0.0193 - acc: 0.9938 - val_loss: 0.0874 - val_acc: 0.9781\n",
            "Epoch 7/20\n",
            "60000/60000 [==============================] - 24s 392us/step - loss: 0.0236 - acc: 0.9925 - val_loss: 0.0701 - val_acc: 0.9825\n",
            "Epoch 8/20\n",
            "60000/60000 [==============================] - 24s 401us/step - loss: 0.0206 - acc: 0.9932 - val_loss: 0.0717 - val_acc: 0.9812\n",
            "Epoch 9/20\n",
            "60000/60000 [==============================] - 25s 410us/step - loss: 0.0107 - acc: 0.9964 - val_loss: 0.0806 - val_acc: 0.9802\n",
            "Epoch 10/20\n",
            "60000/60000 [==============================] - 25s 418us/step - loss: 0.0146 - acc: 0.9952 - val_loss: 0.0898 - val_acc: 0.9788\n",
            "Epoch 11/20\n",
            "60000/60000 [==============================] - 24s 403us/step - loss: 0.0138 - acc: 0.9957 - val_loss: 0.0877 - val_acc: 0.9785\n",
            "Epoch 12/20\n",
            "60000/60000 [==============================] - 23s 391us/step - loss: 0.0169 - acc: 0.9948 - val_loss: 0.0848 - val_acc: 0.9828\n",
            "Epoch 13/20\n",
            "60000/60000 [==============================] - 24s 401us/step - loss: 0.0159 - acc: 0.9946 - val_loss: 0.1082 - val_acc: 0.9772\n",
            "Epoch 14/20\n",
            "60000/60000 [==============================] - 24s 399us/step - loss: 0.0068 - acc: 0.9980 - val_loss: 0.0922 - val_acc: 0.9818\n",
            "Epoch 15/20\n",
            "60000/60000 [==============================] - 24s 397us/step - loss: 0.0063 - acc: 0.9978 - val_loss: 0.0989 - val_acc: 0.9813\n",
            "Epoch 16/20\n",
            "60000/60000 [==============================] - 24s 392us/step - loss: 0.0178 - acc: 0.9946 - val_loss: 0.1116 - val_acc: 0.9765\n",
            "Epoch 17/20\n",
            "60000/60000 [==============================] - 23s 391us/step - loss: 0.0089 - acc: 0.9975 - val_loss: 0.0934 - val_acc: 0.9830\n",
            "Epoch 18/20\n",
            "60000/60000 [==============================] - 23s 380us/step - loss: 0.0101 - acc: 0.9971 - val_loss: 0.1118 - val_acc: 0.9789\n",
            "Epoch 19/20\n",
            "60000/60000 [==============================] - 23s 391us/step - loss: 0.0116 - acc: 0.9963 - val_loss: 0.1027 - val_acc: 0.9815\n",
            "Epoch 20/20\n",
            "60000/60000 [==============================] - 24s 392us/step - loss: 0.0090 - acc: 0.9975 - val_loss: 0.0970 - val_acc: 0.9833\n"
          ],
          "name": "stdout"
        }
      ]
    },
    {
      "metadata": {
        "id": "wdF09NFKFkVv",
        "colab_type": "text"
      },
      "cell_type": "markdown",
      "source": [
        "0.98\n",
        "Value CCURcy reduced to 0.97"
      ]
    },
    {
      "metadata": {
        "id": "YKzJP9jVDRS-",
        "colab_type": "code",
        "colab": {
          "base_uri": "https://localhost:8080/",
          "height": 312
        },
        "outputId": "d043ab12-392f-4d93-a965-a0f85e4523a3"
      },
      "cell_type": "code",
      "source": [
        "score = model_relu.evaluate(X_test, Y_test, verbose=0) \n",
        "print('Test score:', score[0]) \n",
        "print('Test accuracy:', score[1])\n",
        "\n",
        "fig,ax = plt.subplots(1,1)\n",
        "ax.set_xlabel('epoch') ; ax.set_ylabel('Categorical Crossentropy Loss')\n",
        "\n",
        "# list of epoch numbers\n",
        "x = list(range(1,nb_epoch+1))\n",
        "\n",
        "vy = history.history['val_loss']\n",
        "ty = history.history['loss']\n",
        "plt_dynamic(x, vy, ty, ax)"
      ],
      "execution_count": 65,
      "outputs": [
        {
          "output_type": "stream",
          "text": [
            "Test score: 0.09703917925084593\n",
            "Test accuracy: 0.9833\n"
          ],
          "name": "stdout"
        },
        {
          "output_type": "display_data",
          "data": {
            "image/png": "[encoded data removed]",
            "text/plain": [
              "<Figure size 432x288 with 1 Axes>"
            ]
          },
          "metadata": {
            "tags": []
          }
        }
      ]
    },
    {
      "metadata": {
        "id": "VbOrx54SDX-t",
        "colab_type": "code",
        "colab": {
          "base_uri": "https://localhost:8080/",
          "height": 350
        },
        "outputId": "09702712-678e-4072-88a0-f3b91c3c6e54"
      },
      "cell_type": "code",
      "source": [
        "w_after = model_relu.get_weights()\n",
        "\n",
        "h1_w = w_after[0].flatten().reshape(-1,1)\n",
        "h2_w = w_after[2].flatten().reshape(-1,1)\n",
        "out_w = w_after[4].flatten().reshape(-1,1)\n",
        "\n",
        "\n",
        "fig = plt.figure()\n",
        "plt.title(\"Weight matrices after model trained\")\n",
        "plt.subplot(1, 3, 1)\n",
        "plt.title(\"Trained model Weights\")\n",
        "ax = sns.violinplot(y=h1_w,color='b')\n",
        "plt.xlabel('Hidden Layer 1')\n",
        "\n",
        "plt.subplot(1, 3, 2)\n",
        "plt.title(\"Trained model Weights\")\n",
        "ax = sns.violinplot(y=h2_w, color='r')\n",
        "plt.xlabel('Hidden Layer 2 ')\n",
        "\n",
        "plt.subplot(1, 3, 3)\n",
        "plt.title(\"Trained model Weights\")\n",
        "ax = sns.violinplot(y=out_w,color='y')\n",
        "plt.xlabel('Output Layer ')\n",
        "plt.show()"
      ],
      "execution_count": 73,
      "outputs": [
        {
          "output_type": "stream",
          "text": [
            "/usr/local/lib/python3.6/dist-packages/seaborn/categorical.py:588: FutureWarning: remove_na is deprecated and is a private function. Do not use.\n",
            "  kde_data = remove_na(group_data)\n",
            "/usr/local/lib/python3.6/dist-packages/seaborn/categorical.py:816: FutureWarning: remove_na is deprecated and is a private function. Do not use.\n",
            "  violin_data = remove_na(group_data)\n"
          ],
          "name": "stderr"
        },
        {
          "output_type": "display_data",
          "data": {
            "image/png": "[encoded data removed]",
            "text/plain": [
              "<Figure size 432x288 with 3 Axes>"
            ]
          },
          "metadata": {
            "tags": []
          }
        }
      ]
    },
    {
      "metadata": {
        "id": "spRcpjicVO9t",
        "colab_type": "text"
      },
      "cell_type": "markdown",
      "source": [
        "# **Dropout- 0.95**"
      ]
    },
    {
      "metadata": {
        "id": "RxWCX8qcVOAR",
        "colab_type": "code",
        "colab": {
          "base_uri": "https://localhost:8080/",
          "height": 943
        },
        "outputId": "eef1158a-dbdd-417b-bc4c-9fa583bb863a"
      },
      "cell_type": "code",
      "source": [
        "model_relu2 = Sequential()\n",
        "model_relu2.add(Dense(1024, activation='relu', input_shape=(input_dim,), kernel_initializer=RandomNormal(mean=0.0, stddev=0.062, seed=None)))\n",
        "model_relu2.add(Dense(840, activation='relu', kernel_initializer=RandomNormal(mean=0.0, stddev=0.125, seed=None)) )\n",
        "model_relu2.add(Dropout(0.95))\n",
        "model_relu2.add(Dense(output_dim, activation='softmax'))\n",
        "\n",
        "print(model_relu2.summary())\n",
        "\n",
        "model_relu2.compile(optimizer='adam', loss='categorical_crossentropy', metrics=['accuracy'])\n",
        "\n",
        "history = model_relu2.fit(X_train, Y_train, batch_size=batch_size, epochs=nb_epoch, verbose=1, validation_data=(X_test, Y_test))"
      ],
      "execution_count": 83,
      "outputs": [
        {
          "output_type": "stream",
          "text": [
            "_________________________________________________________________\n",
            "Layer (type)                 Output Shape              Param #   \n",
            "=================================================================\n",
            "dense_61 (Dense)             (None, 1024)              803840    \n",
            "_________________________________________________________________\n",
            "dense_62 (Dense)             (None, 840)               861000    \n",
            "_________________________________________________________________\n",
            "dropout_14 (Dropout)         (None, 840)               0         \n",
            "_________________________________________________________________\n",
            "dense_63 (Dense)             (None, 10)                8410      \n",
            "=================================================================\n",
            "Total params: 1,673,250\n",
            "Trainable params: 1,673,250\n",
            "Non-trainable params: 0\n",
            "_________________________________________________________________\n",
            "None\n",
            "Train on 60000 samples, validate on 10000 samples\n",
            "Epoch 1/20\n",
            "60000/60000 [==============================] - 30s 499us/step - loss: 1.1736 - acc: 0.6764 - val_loss: 0.2342 - val_acc: 0.9305\n",
            "Epoch 2/20\n",
            "60000/60000 [==============================] - 27s 447us/step - loss: 0.4509 - acc: 0.8680 - val_loss: 0.1790 - val_acc: 0.9468\n",
            "Epoch 3/20\n",
            "60000/60000 [==============================] - 28s 462us/step - loss: 0.3139 - acc: 0.9108 - val_loss: 0.1390 - val_acc: 0.9591\n",
            "Epoch 4/20\n",
            "60000/60000 [==============================] - 26s 441us/step - loss: 0.2478 - acc: 0.9322 - val_loss: 0.1243 - val_acc: 0.9638\n",
            "Epoch 5/20\n",
            "60000/60000 [==============================] - 27s 445us/step - loss: 0.1981 - acc: 0.9461 - val_loss: 0.1130 - val_acc: 0.9673\n",
            "Epoch 6/20\n",
            "60000/60000 [==============================] - 27s 447us/step - loss: 0.1694 - acc: 0.9536 - val_loss: 0.1016 - val_acc: 0.9720\n",
            "Epoch 7/20\n",
            "60000/60000 [==============================] - 27s 447us/step - loss: 0.1505 - acc: 0.9590 - val_loss: 0.0994 - val_acc: 0.9734\n",
            "Epoch 8/20\n",
            "60000/60000 [==============================] - 26s 441us/step - loss: 0.1307 - acc: 0.9643 - val_loss: 0.0942 - val_acc: 0.9769\n",
            "Epoch 9/20\n",
            "60000/60000 [==============================] - 27s 445us/step - loss: 0.1191 - acc: 0.9674 - val_loss: 0.0935 - val_acc: 0.9759\n",
            "Epoch 10/20\n",
            "60000/60000 [==============================] - 27s 446us/step - loss: 0.1066 - acc: 0.9709 - val_loss: 0.0998 - val_acc: 0.9763\n",
            "Epoch 11/20\n",
            "60000/60000 [==============================] - 27s 449us/step - loss: 0.0972 - acc: 0.9731 - val_loss: 0.1108 - val_acc: 0.9747\n",
            "Epoch 12/20\n",
            "60000/60000 [==============================] - 27s 442us/step - loss: 0.0886 - acc: 0.9771 - val_loss: 0.1126 - val_acc: 0.9756\n",
            "Epoch 13/20\n",
            "60000/60000 [==============================] - 27s 443us/step - loss: 0.0806 - acc: 0.9774 - val_loss: 0.1029 - val_acc: 0.9786\n",
            "Epoch 14/20\n",
            "60000/60000 [==============================] - 27s 448us/step - loss: 0.0771 - acc: 0.9783 - val_loss: 0.1125 - val_acc: 0.9771\n",
            "Epoch 15/20\n",
            "60000/60000 [==============================] - 27s 457us/step - loss: 0.0728 - acc: 0.9800 - val_loss: 0.1188 - val_acc: 0.9747\n",
            "Epoch 16/20\n",
            "60000/60000 [==============================] - 27s 446us/step - loss: 0.0681 - acc: 0.9811 - val_loss: 0.1059 - val_acc: 0.9790\n",
            "Epoch 17/20\n",
            "60000/60000 [==============================] - 26s 440us/step - loss: 0.0639 - acc: 0.9820 - val_loss: 0.0992 - val_acc: 0.9801\n",
            "Epoch 18/20\n",
            "60000/60000 [==============================] - 26s 434us/step - loss: 0.0545 - acc: 0.9845 - val_loss: 0.1212 - val_acc: 0.9793\n",
            "Epoch 19/20\n",
            "60000/60000 [==============================] - 26s 439us/step - loss: 0.0552 - acc: 0.9854 - val_loss: 0.1177 - val_acc: 0.9790\n",
            "Epoch 20/20\n",
            "60000/60000 [==============================] - 26s 441us/step - loss: 0.0517 - acc: 0.9852 - val_loss: 0.1282 - val_acc: 0.9774\n"
          ],
          "name": "stdout"
        }
      ]
    },
    {
      "metadata": {
        "id": "HKGju7AjVOGj",
        "colab_type": "code",
        "colab": {
          "base_uri": "https://localhost:8080/",
          "height": 312
        },
        "outputId": "0d79dfa6-f3c6-41e6-b816-b0627e0b0bcd"
      },
      "cell_type": "code",
      "source": [
        "score = model_relu2.evaluate(X_test, Y_test, verbose=0) \n",
        "print('Test score:', score[0]) \n",
        "print('Test accuracy:', score[1])\n",
        "\n",
        "fig,ax = plt.subplots(1,1)\n",
        "ax.set_xlabel('epoch') ; ax.set_ylabel('Categorical Crossentropy Loss')\n",
        "\n",
        "# list of epoch numbers\n",
        "x = list(range(1,nb_epoch+1))\n",
        "\n",
        "vy = history.history['val_loss']\n",
        "ty = history.history['loss']\n",
        "plt_dynamic(x, vy, ty, ax)"
      ],
      "execution_count": 81,
      "outputs": [
        {
          "output_type": "stream",
          "text": [
            "Test score: 0.12255072885947511\n",
            "Test accuracy: 0.978\n"
          ],
          "name": "stdout"
        },
        {
          "output_type": "display_data",
          "data": {
            "image/png": "[encoded data removed]",
            "text/plain": [
              "<Figure size 432x288 with 1 Axes>"
            ]
          },
          "metadata": {
            "tags": []
          }
        }
      ]
    },
    {
      "metadata": {
        "id": "m06YMHmkVOMP",
        "colab_type": "code",
        "colab": {
          "base_uri": "https://localhost:8080/",
          "height": 350
        },
        "outputId": "6a628faf-dbd4-44c6-961a-5fcd5130b202"
      },
      "cell_type": "code",
      "source": [
        "w_after = model_relu2.get_weights()\n",
        "\n",
        "h1_w = w_after[0].flatten().reshape(-1,1)\n",
        "h2_w = w_after[2].flatten().reshape(-1,1)\n",
        "out_w = w_after[4].flatten().reshape(-1,1)\n",
        "\n",
        "\n",
        "fig = plt.figure()\n",
        "plt.title(\"Weight matrices after model trained\")\n",
        "plt.subplot(1, 3, 1)\n",
        "plt.title(\"Trained model Weights\")\n",
        "ax = sns.violinplot(y=h1_w,color='b')\n",
        "plt.xlabel('Hidden Layer 1')\n",
        "\n",
        "plt.subplot(1, 3, 2)\n",
        "plt.title(\"Trained model Weights\")\n",
        "ax = sns.violinplot(y=h2_w, color='r')\n",
        "plt.xlabel('Hidden Layer 2 ')\n",
        "\n",
        "plt.subplot(1, 3, 3)\n",
        "plt.title(\"Trained model Weights\")\n",
        "ax = sns.violinplot(y=out_w,color='y')\n",
        "plt.xlabel('Output Layer ')\n",
        "plt.show()"
      ],
      "execution_count": 82,
      "outputs": [
        {
          "output_type": "stream",
          "text": [
            "/usr/local/lib/python3.6/dist-packages/seaborn/categorical.py:588: FutureWarning: remove_na is deprecated and is a private function. Do not use.\n",
            "  kde_data = remove_na(group_data)\n",
            "/usr/local/lib/python3.6/dist-packages/seaborn/categorical.py:816: FutureWarning: remove_na is deprecated and is a private function. Do not use.\n",
            "  violin_data = remove_na(group_data)\n"
          ],
          "name": "stderr"
        },
        {
          "output_type": "display_data",
          "data": {
            "image/png": "[encoded data removed]",
            "text/plain": [
              "<Figure size 432x288 with 3 Axes>"
            ]
          },
          "metadata": {
            "tags": []
          }
        }
      ]
    },
    {
      "metadata": {
        "id": "JDpvUNCvVOKE",
        "colab_type": "code",
        "colab": {}
      },
      "cell_type": "code",
      "source": [
        ""
      ],
      "execution_count": 0,
      "outputs": []
    },
    {
      "metadata": {
        "id": "WsBO_b79xfDi",
        "colab_type": "code",
        "outputId": "eb46a76b-ffbf-4046-ae6e-d8d2d56eaebe",
        "colab": {
          "base_uri": "https://localhost:8080/",
          "height": 163
        }
      },
      "cell_type": "code",
      "source": [
        "#pretty table Before dropout\n",
        "\n",
        "from prettytable import PrettyTable\n",
        "    \n",
        "p = PrettyTable()\n",
        "\n",
        "p.field_names = [\"Model before dropout\", \"Accuracy\",  ]\n",
        "\n",
        "p.add_row([\"SGD\", 0.90, ] )\n",
        "p.add_row([\"MLP + Sigmoid activation + SGDOptimizer\", 0.65, ] )\n",
        "p.add_row([\"MLP + Sigmoid activation + ADAM\", 0.97, ] )\n",
        "p.add_row([\"MLP + Batch-Norm on hidden Layers + AdamOptimizer\", 0.97, ] )\n",
        "p.add_row([\"MLP + Dropout + AdamOptimizer\", 0.94, ] )\n",
        "\n",
        "\n",
        "print(p)"
      ],
      "execution_count": 74,
      "outputs": [
        {
          "output_type": "stream",
          "text": [
            "+---------------------------------------------------+----------+\n",
            "|                       Model                       | Accuracy |\n",
            "+---------------------------------------------------+----------+\n",
            "|                        SGD                        |   0.9    |\n",
            "|      MLP + Sigmoid activation + SGDOptimizer      |   0.65   |\n",
            "|          MLP + Sigmoid activation + ADAM          |   0.97   |\n",
            "| MLP + Batch-Norm on hidden Layers + AdamOptimizer |   0.97   |\n",
            "|           MLP + Dropout + AdamOptimizer           |   0.94   |\n",
            "+---------------------------------------------------+----------+\n"
          ],
          "name": "stdout"
        }
      ]
    },
    {
      "metadata": {
        "id": "OgcH73AIasNg",
        "colab_type": "text"
      },
      "cell_type": "markdown",
      "source": [
        "# **Conclusion**"
      ]
    },
    {
      "metadata": {
        "id": "Mcm-Gcn4ZRDM",
        "colab_type": "text"
      },
      "cell_type": "markdown",
      "source": [
        "\n",
        "Based on applying different dropout rate with different combinations, we can observe\n",
        "\n",
        "* \n",
        "The model becomes more robust and faster\n",
        "* More number of epochs might increase accuracy\n",
        "\n",
        "1.   Loss is minimised as overfitting is reduced\n",
        "2.  Accuracy and loss varies with different dropout rate.\n",
        "\n",
        "\n",
        "\n",
        "*  More dense layered model takes takes longer time.\n",
        "*   Less dropout rate reduce accuracy, more the ignoring of conjoint points more accuracy is seen.\n",
        "\n",
        "\n",
        "\n",
        "\n",
        "\n",
        "\n",
        "\n",
        "\n",
        "\n",
        "\n",
        "\n",
        "\n",
        "\n",
        "\n"
      ]
    },
    {
      "metadata": {
        "id": "UTAOtZezxfG_",
        "colab_type": "code",
        "colab": {}
      },
      "cell_type": "code",
      "source": [
        ""
      ],
      "execution_count": 0,
      "outputs": []
    }
  ]
}